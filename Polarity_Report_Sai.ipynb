{
 "cells": [
  {
   "cell_type": "code",
   "execution_count": 1,
   "id": "e2ba63fc",
   "metadata": {},
   "outputs": [],
   "source": [
    "import pandas as pd\n",
    "import matplotlib.pyplot as plt"
   ]
  },
  {
   "cell_type": "code",
   "execution_count": 2,
   "id": "9c355f4d",
   "metadata": {},
   "outputs": [],
   "source": [
    "modi_test = pd.read_csv(r\"C:\\Users\\hp\\Documents\\nlp\\modi_predicted.csv\")\n",
    "rg_test = pd.read_csv(r\"C:\\Users\\hp\\Documents\\nlp\\rahulgandhi_predicted.csv\")"
   ]
  },
  {
   "cell_type": "code",
   "execution_count": 3,
   "id": "fdbc3860",
   "metadata": {},
   "outputs": [
    {
     "data": {
      "text/html": [
       "<div>\n",
       "<style scoped>\n",
       "    .dataframe tbody tr th:only-of-type {\n",
       "        vertical-align: middle;\n",
       "    }\n",
       "\n",
       "    .dataframe tbody tr th {\n",
       "        vertical-align: top;\n",
       "    }\n",
       "\n",
       "    .dataframe thead th {\n",
       "        text-align: right;\n",
       "    }\n",
       "</style>\n",
       "<table border=\"1\" class=\"dataframe\">\n",
       "  <thead>\n",
       "    <tr style=\"text-align: right;\">\n",
       "      <th></th>\n",
       "      <th>Unnamed: 0.1</th>\n",
       "      <th>Unnamed: 0</th>\n",
       "      <th>Date</th>\n",
       "      <th>User</th>\n",
       "      <th>Tweet</th>\n",
       "      <th>predicted_emotion</th>\n",
       "    </tr>\n",
       "  </thead>\n",
       "  <tbody>\n",
       "    <tr>\n",
       "      <th>0</th>\n",
       "      <td>0</td>\n",
       "      <td>0</td>\n",
       "      <td>2019-05-12 01:17:12+00:00</td>\n",
       "      <td>narendramodi</td>\n",
       "      <td>Yet another phase of the 2019 Lok Sabha electi...</td>\n",
       "      <td>pos</td>\n",
       "    </tr>\n",
       "    <tr>\n",
       "      <th>1</th>\n",
       "      <td>1</td>\n",
       "      <td>1</td>\n",
       "      <td>2019-05-09 02:00:26+00:00</td>\n",
       "      <td>narendramodi</td>\n",
       "      <td>Will be addressing five rallies today. \\n\\nLoo...</td>\n",
       "      <td>neg</td>\n",
       "    </tr>\n",
       "    <tr>\n",
       "      <th>2</th>\n",
       "      <td>2</td>\n",
       "      <td>2</td>\n",
       "      <td>2019-05-08 13:41:51+00:00</td>\n",
       "      <td>narendramodi</td>\n",
       "      <td>Delhi has always given great love and affectio...</td>\n",
       "      <td>neg</td>\n",
       "    </tr>\n",
       "    <tr>\n",
       "      <th>3</th>\n",
       "      <td>3</td>\n",
       "      <td>3</td>\n",
       "      <td>2019-05-06 01:18:46+00:00</td>\n",
       "      <td>narendramodi</td>\n",
       "      <td>Requesting all those voting in today’s fifth p...</td>\n",
       "      <td>neg</td>\n",
       "    </tr>\n",
       "    <tr>\n",
       "      <th>4</th>\n",
       "      <td>4</td>\n",
       "      <td>4</td>\n",
       "      <td>2019-04-29 01:18:03+00:00</td>\n",
       "      <td>narendramodi</td>\n",
       "      <td>Another phase of the General Elections begins ...</td>\n",
       "      <td>neg</td>\n",
       "    </tr>\n",
       "  </tbody>\n",
       "</table>\n",
       "</div>"
      ],
      "text/plain": [
       "   Unnamed: 0.1  Unnamed: 0                       Date          User  \\\n",
       "0             0           0  2019-05-12 01:17:12+00:00  narendramodi   \n",
       "1             1           1  2019-05-09 02:00:26+00:00  narendramodi   \n",
       "2             2           2  2019-05-08 13:41:51+00:00  narendramodi   \n",
       "3             3           3  2019-05-06 01:18:46+00:00  narendramodi   \n",
       "4             4           4  2019-04-29 01:18:03+00:00  narendramodi   \n",
       "\n",
       "                                               Tweet predicted_emotion  \n",
       "0  Yet another phase of the 2019 Lok Sabha electi...               pos  \n",
       "1  Will be addressing five rallies today. \\n\\nLoo...               neg  \n",
       "2  Delhi has always given great love and affectio...               neg  \n",
       "3  Requesting all those voting in today’s fifth p...               neg  \n",
       "4  Another phase of the General Elections begins ...               neg  "
      ]
     },
     "execution_count": 3,
     "metadata": {},
     "output_type": "execute_result"
    }
   ],
   "source": [
    "modi_test.head()"
   ]
  },
  {
   "cell_type": "code",
   "execution_count": 4,
   "id": "d725f479",
   "metadata": {},
   "outputs": [
    {
     "data": {
      "image/png": "[encoded data removed]",
      "text/plain": [
       "<Figure size 640x480 with 1 Axes>"
      ]
     },
     "metadata": {},
     "output_type": "display_data"
    }
   ],
   "source": [
    "modi_dic ={'pos':0,'neg':0}\n",
    "for i in modi_test['predicted_emotion']:\n",
    "    modi_dic[i] = modi_dic[i] + 1\n",
    "plt.title('MODI Predidtion')\n",
    "plt.pie(modi_dic.values(),labels=modi_dic.keys(),autopct='%1.1f%%')\n",
    "plt.show()"
   ]
  },
  {
   "cell_type": "code",
   "execution_count": 5,
   "id": "7d8bd839",
   "metadata": {},
   "outputs": [
    {
     "data": {
      "image/png": "[encoded data removed]",
      "text/plain": [
       "<Figure size 640x480 with 1 Axes>"
      ]
     },
     "metadata": {},
     "output_type": "display_data"
    }
   ],
   "source": [
    "rg_dic = {'pos':0,'neg':0}\n",
    "for i in rg_test['predicted_emotion']:\n",
    "    rg_dic[i] = rg_dic[i] + 1 \n",
    "plt.title(\"RahulGandhi Prediction\")\n",
    "plt.pie(rg_dic.values(),labels=rg_dic.keys(),autopct='%1.1f%%')\n",
    "plt.show()"
   ]
  },
  {
   "cell_type": "code",
   "execution_count": 6,
   "id": "be5524ca",
   "metadata": {},
   "outputs": [
    {
     "data": {
      "text/html": [
       "<div>\n",
       "<style scoped>\n",
       "    .dataframe tbody tr th:only-of-type {\n",
       "        vertical-align: middle;\n",
       "    }\n",
       "\n",
       "    .dataframe tbody tr th {\n",
       "        vertical-align: top;\n",
       "    }\n",
       "\n",
       "    .dataframe thead th {\n",
       "        text-align: right;\n",
       "    }\n",
       "</style>\n",
       "<table border=\"1\" class=\"dataframe\">\n",
       "  <thead>\n",
       "    <tr style=\"text-align: right;\">\n",
       "      <th></th>\n",
       "      <th>Positive</th>\n",
       "      <th>Negative</th>\n",
       "    </tr>\n",
       "  </thead>\n",
       "  <tbody>\n",
       "    <tr>\n",
       "      <th>Modi</th>\n",
       "      <td>0.20</td>\n",
       "      <td>0.80</td>\n",
       "    </tr>\n",
       "    <tr>\n",
       "      <th>Rahul Gandhi</th>\n",
       "      <td>0.08</td>\n",
       "      <td>0.92</td>\n",
       "    </tr>\n",
       "  </tbody>\n",
       "</table>\n",
       "</div>"
      ],
      "text/plain": [
       "              Positive  Negative\n",
       "Modi              0.20      0.80\n",
       "Rahul Gandhi      0.08      0.92"
      ]
     },
     "execution_count": 6,
     "metadata": {},
     "output_type": "execute_result"
    }
   ],
   "source": [
    "modi_total = sum(modi_dic.values())\n",
    "rg_total = sum(rg_dic.values())\n",
    "camp_x2 = ['Modi','Rahul Gandhi']\n",
    "camp_x1 = {'Positive':[round(modi_dic['pos']/modi_total,2)\n",
    "                       , round(rg_dic['pos']/rg_total,2)],\n",
    "          'Negative':[round(modi_dic['neg']/modi_total,2), \n",
    "                      round(rg_dic['neg']/rg_total,2)]}\n",
    "camp_df = pd.DataFrame(camp_x1,camp_x2)\n",
    "camp_df"
   ]
  },
  {
   "cell_type": "code",
   "execution_count": 10,
   "id": "becf7544",
   "metadata": {},
   "outputs": [
    {
     "name": "stdout",
     "output_type": "stream",
     "text": [
      "According to available data MODI likely to win\n"
     ]
    }
   ],
   "source": [
    "modi = (((modi_dic['pos']/modi_total)+(rg_dic['neg']/rg_total))/\n",
    "        ((modi_dic['pos']/modi_total)+(rg_dic['pos']/rg_total)+\n",
    "        (modi_dic['neg']/modi_total)+(rg_dic['neg']/rg_total)))\n",
    "\n",
    "rg = (((modi_dic['neg']/modi_total)+(rg_dic['pos']/rg_total))/\n",
    "        ((modi_dic['pos']/modi_total)+(rg_dic['pos']/rg_total)+\n",
    "        (modi_dic['neg']/modi_total)+(rg_dic['neg']/rg_total)))\n",
    "\n",
    "\n",
    "if modi>rg:\n",
    "    print(\"According to available data MODI is likely to win\")\n",
    "else:\n",
    "    print(\"According to available data RAHUL GANDHI likely to win\")"
   ]
  },
  {
   "cell_type": "code",
   "execution_count": null,
   "id": "6816989e",
   "metadata": {},
   "outputs": [],
   "source": []
  }
 ],
 "metadata": {
  "kernelspec": {
   "display_name": "Python 3 (ipykernel)",
   "language": "python",
   "name": "python3"
  },
  "language_info": {
   "codemirror_mode": {
    "name": "ipython",
    "version": 3
   },
   "file_extension": ".py",
   "mimetype": "text/x-python",
   "name": "python",
   "nbconvert_exporter": "python",
   "pygments_lexer": "ipython3",
   "version": "3.11.3"
  }
 },
 "nbformat": 4,
 "nbformat_minor": 5
}
