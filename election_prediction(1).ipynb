{
 "cells": [
  {
   "cell_type": "code",
   "execution_count": 10,
   "id": "43c860b7",
   "metadata": {},
   "outputs": [],
   "source": [
    "import numpy as np"
   ]
  },
  {
   "cell_type": "code",
   "execution_count": 11,
   "id": "d57b4488",
   "metadata": {},
   "outputs": [],
   "source": [
    "import pandas as pd\n",
    "import matplotlib.pyplot as plt"
   ]
  },
  {
   "cell_type": "markdown",
   "id": "a906f7ec",
   "metadata": {},
   "source": [
    "# Reading dataset"
   ]
  },
  {
   "cell_type": "code",
   "execution_count": 12,
   "id": "8e9a6238",
   "metadata": {},
   "outputs": [],
   "source": [
    "modi_data = pd.read_csv(r\"C:\\Users\\hp\\Documents\\nlp\\modi_train.csv\")\n",
    "rg_data   = pd.read_csv(r\"C:\\Users\\hp\\Documents\\nlp\\rg_train.csv\")"
   ]
  },
  {
   "cell_type": "markdown",
   "id": "aecf308b",
   "metadata": {},
   "source": [
    "# Data Analysis"
   ]
  },
  {
   "cell_type": "code",
   "execution_count": 13,
   "id": "1359b70a",
   "metadata": {},
   "outputs": [
    {
     "data": {
      "text/html": [
       "<div>\n",
       "<style scoped>\n",
       "    .dataframe tbody tr th:only-of-type {\n",
       "        vertical-align: middle;\n",
       "    }\n",
       "\n",
       "    .dataframe tbody tr th {\n",
       "        vertical-align: top;\n",
       "    }\n",
       "\n",
       "    .dataframe thead th {\n",
       "        text-align: right;\n",
       "    }\n",
       "</style>\n",
       "<table border=\"1\" class=\"dataframe\">\n",
       "  <thead>\n",
       "    <tr style=\"text-align: right;\">\n",
       "      <th></th>\n",
       "      <th>Unnamed: 0</th>\n",
       "      <th>Date</th>\n",
       "      <th>User</th>\n",
       "      <th>Tweet</th>\n",
       "      <th>Emotion</th>\n",
       "    </tr>\n",
       "  </thead>\n",
       "  <tbody>\n",
       "    <tr>\n",
       "      <th>0</th>\n",
       "      <td>0</td>\n",
       "      <td>2019-05-18 23:50:47+00:00</td>\n",
       "      <td>advosushildixit</td>\n",
       "      <td>@anjanaomkashyap I am seeing you as future #bj...</td>\n",
       "      <td>neg</td>\n",
       "    </tr>\n",
       "    <tr>\n",
       "      <th>1</th>\n",
       "      <td>1</td>\n",
       "      <td>2019-05-18 23:00:03+00:00</td>\n",
       "      <td>jiaeur</td>\n",
       "      <td>#LokSabhaElections2019 \\n23rd May 2019 will re...</td>\n",
       "      <td>neg</td>\n",
       "    </tr>\n",
       "    <tr>\n",
       "      <th>2</th>\n",
       "      <td>2</td>\n",
       "      <td>2019-05-18 22:53:54+00:00</td>\n",
       "      <td>PVenkatGandhi</td>\n",
       "      <td>#LokSabhaElections2019 \\n23rd May 2019 will re...</td>\n",
       "      <td>neg</td>\n",
       "    </tr>\n",
       "    <tr>\n",
       "      <th>3</th>\n",
       "      <td>3</td>\n",
       "      <td>2019-05-18 22:20:48+00:00</td>\n",
       "      <td>TheNirbhay1</td>\n",
       "      <td>PM Modi creates a new record of being the only...</td>\n",
       "      <td>pos</td>\n",
       "    </tr>\n",
       "    <tr>\n",
       "      <th>4</th>\n",
       "      <td>4</td>\n",
       "      <td>2019-05-18 21:22:29+00:00</td>\n",
       "      <td>ShakeChilli</td>\n",
       "      <td>@abhijitmajumder Appointment of Successor! \\n\\...</td>\n",
       "      <td>pos</td>\n",
       "    </tr>\n",
       "  </tbody>\n",
       "</table>\n",
       "</div>"
      ],
      "text/plain": [
       "   Unnamed: 0                       Date             User  \\\n",
       "0           0  2019-05-18 23:50:47+00:00  advosushildixit   \n",
       "1           1  2019-05-18 23:00:03+00:00           jiaeur   \n",
       "2           2  2019-05-18 22:53:54+00:00    PVenkatGandhi   \n",
       "3           3  2019-05-18 22:20:48+00:00      TheNirbhay1   \n",
       "4           4  2019-05-18 21:22:29+00:00      ShakeChilli   \n",
       "\n",
       "                                               Tweet Emotion  \n",
       "0  @anjanaomkashyap I am seeing you as future #bj...     neg  \n",
       "1  #LokSabhaElections2019 \\n23rd May 2019 will re...     neg  \n",
       "2  #LokSabhaElections2019 \\n23rd May 2019 will re...     neg  \n",
       "3  PM Modi creates a new record of being the only...     pos  \n",
       "4  @abhijitmajumder Appointment of Successor! \\n\\...     pos  "
      ]
     },
     "execution_count": 13,
     "metadata": {},
     "output_type": "execute_result"
    }
   ],
   "source": [
    "modi_data.head()"
   ]
  },
  {
   "cell_type": "code",
   "execution_count": 14,
   "id": "dde9f5ca",
   "metadata": {},
   "outputs": [
    {
     "data": {
      "text/html": [
       "<div>\n",
       "<style scoped>\n",
       "    .dataframe tbody tr th:only-of-type {\n",
       "        vertical-align: middle;\n",
       "    }\n",
       "\n",
       "    .dataframe tbody tr th {\n",
       "        vertical-align: top;\n",
       "    }\n",
       "\n",
       "    .dataframe thead th {\n",
       "        text-align: right;\n",
       "    }\n",
       "</style>\n",
       "<table border=\"1\" class=\"dataframe\">\n",
       "  <thead>\n",
       "    <tr style=\"text-align: right;\">\n",
       "      <th></th>\n",
       "      <th>Unnamed: 0</th>\n",
       "      <th>Date</th>\n",
       "      <th>User</th>\n",
       "      <th>Tweet</th>\n",
       "      <th>Emotion</th>\n",
       "    </tr>\n",
       "  </thead>\n",
       "  <tbody>\n",
       "    <tr>\n",
       "      <th>0</th>\n",
       "      <td>0</td>\n",
       "      <td>2019-05-18 19:49:52+00:00</td>\n",
       "      <td>Sunnysweet16</td>\n",
       "      <td>Wonder why no academic or journalist asks INC ...</td>\n",
       "      <td>pos</td>\n",
       "    </tr>\n",
       "    <tr>\n",
       "      <th>1</th>\n",
       "      <td>1</td>\n",
       "      <td>2019-05-18 18:56:52+00:00</td>\n",
       "      <td>drnitinchaube</td>\n",
       "      <td>Congrats for the change #australiavotes2019 an...</td>\n",
       "      <td>pos</td>\n",
       "    </tr>\n",
       "    <tr>\n",
       "      <th>2</th>\n",
       "      <td>2</td>\n",
       "      <td>2019-05-18 18:54:01+00:00</td>\n",
       "      <td>mrvivek07</td>\n",
       "      <td>Peopel Say “Govt Ne 70 Years Kya kiya”.\\nUnse ...</td>\n",
       "      <td>neg</td>\n",
       "    </tr>\n",
       "    <tr>\n",
       "      <th>3</th>\n",
       "      <td>3</td>\n",
       "      <td>2019-05-18 18:52:03+00:00</td>\n",
       "      <td>JosephPravinP</td>\n",
       "      <td>@ajaymaken @RahulGandhi And as a final touch, ...</td>\n",
       "      <td>pos</td>\n",
       "    </tr>\n",
       "    <tr>\n",
       "      <th>4</th>\n",
       "      <td>4</td>\n",
       "      <td>2019-05-18 18:31:10+00:00</td>\n",
       "      <td>VandanaMegastar</td>\n",
       "      <td>#LokSabhaElections2019 Anyone not having mass ...</td>\n",
       "      <td>pos</td>\n",
       "    </tr>\n",
       "  </tbody>\n",
       "</table>\n",
       "</div>"
      ],
      "text/plain": [
       "   Unnamed: 0                       Date             User  \\\n",
       "0           0  2019-05-18 19:49:52+00:00     Sunnysweet16   \n",
       "1           1  2019-05-18 18:56:52+00:00    drnitinchaube   \n",
       "2           2  2019-05-18 18:54:01+00:00        mrvivek07   \n",
       "3           3  2019-05-18 18:52:03+00:00    JosephPravinP   \n",
       "4           4  2019-05-18 18:31:10+00:00  VandanaMegastar   \n",
       "\n",
       "                                               Tweet Emotion  \n",
       "0  Wonder why no academic or journalist asks INC ...     pos  \n",
       "1  Congrats for the change #australiavotes2019 an...     pos  \n",
       "2  Peopel Say “Govt Ne 70 Years Kya kiya”.\\nUnse ...     neg  \n",
       "3  @ajaymaken @RahulGandhi And as a final touch, ...     pos  \n",
       "4  #LokSabhaElections2019 Anyone not having mass ...     pos  "
      ]
     },
     "execution_count": 14,
     "metadata": {},
     "output_type": "execute_result"
    }
   ],
   "source": [
    "rg_data.head()"
   ]
  },
  {
   "cell_type": "code",
   "execution_count": 15,
   "id": "5fe38ec2",
   "metadata": {},
   "outputs": [
    {
     "data": {
      "text/html": [
       "<div>\n",
       "<style scoped>\n",
       "    .dataframe tbody tr th:only-of-type {\n",
       "        vertical-align: middle;\n",
       "    }\n",
       "\n",
       "    .dataframe tbody tr th {\n",
       "        vertical-align: top;\n",
       "    }\n",
       "\n",
       "    .dataframe thead th {\n",
       "        text-align: right;\n",
       "    }\n",
       "</style>\n",
       "<table border=\"1\" class=\"dataframe\">\n",
       "  <thead>\n",
       "    <tr style=\"text-align: right;\">\n",
       "      <th></th>\n",
       "      <th>Unnamed: 0</th>\n",
       "    </tr>\n",
       "  </thead>\n",
       "  <tbody>\n",
       "    <tr>\n",
       "      <th>count</th>\n",
       "      <td>1021.000000</td>\n",
       "    </tr>\n",
       "    <tr>\n",
       "      <th>mean</th>\n",
       "      <td>510.000000</td>\n",
       "    </tr>\n",
       "    <tr>\n",
       "      <th>std</th>\n",
       "      <td>294.881615</td>\n",
       "    </tr>\n",
       "    <tr>\n",
       "      <th>min</th>\n",
       "      <td>0.000000</td>\n",
       "    </tr>\n",
       "    <tr>\n",
       "      <th>25%</th>\n",
       "      <td>255.000000</td>\n",
       "    </tr>\n",
       "    <tr>\n",
       "      <th>50%</th>\n",
       "      <td>510.000000</td>\n",
       "    </tr>\n",
       "    <tr>\n",
       "      <th>75%</th>\n",
       "      <td>765.000000</td>\n",
       "    </tr>\n",
       "    <tr>\n",
       "      <th>max</th>\n",
       "      <td>1020.000000</td>\n",
       "    </tr>\n",
       "  </tbody>\n",
       "</table>\n",
       "</div>"
      ],
      "text/plain": [
       "        Unnamed: 0\n",
       "count  1021.000000\n",
       "mean    510.000000\n",
       "std     294.881615\n",
       "min       0.000000\n",
       "25%     255.000000\n",
       "50%     510.000000\n",
       "75%     765.000000\n",
       "max    1020.000000"
      ]
     },
     "execution_count": 15,
     "metadata": {},
     "output_type": "execute_result"
    }
   ],
   "source": [
    "modi_data.describe()"
   ]
  },
  {
   "cell_type": "code",
   "execution_count": 16,
   "id": "78c1c740",
   "metadata": {},
   "outputs": [
    {
     "data": {
      "text/html": [
       "<div>\n",
       "<style scoped>\n",
       "    .dataframe tbody tr th:only-of-type {\n",
       "        vertical-align: middle;\n",
       "    }\n",
       "\n",
       "    .dataframe tbody tr th {\n",
       "        vertical-align: top;\n",
       "    }\n",
       "\n",
       "    .dataframe thead th {\n",
       "        text-align: right;\n",
       "    }\n",
       "</style>\n",
       "<table border=\"1\" class=\"dataframe\">\n",
       "  <thead>\n",
       "    <tr style=\"text-align: right;\">\n",
       "      <th></th>\n",
       "      <th>Unnamed: 0</th>\n",
       "    </tr>\n",
       "  </thead>\n",
       "  <tbody>\n",
       "    <tr>\n",
       "      <th>count</th>\n",
       "      <td>1030.000000</td>\n",
       "    </tr>\n",
       "    <tr>\n",
       "      <th>mean</th>\n",
       "      <td>514.500000</td>\n",
       "    </tr>\n",
       "    <tr>\n",
       "      <th>std</th>\n",
       "      <td>297.479691</td>\n",
       "    </tr>\n",
       "    <tr>\n",
       "      <th>min</th>\n",
       "      <td>0.000000</td>\n",
       "    </tr>\n",
       "    <tr>\n",
       "      <th>25%</th>\n",
       "      <td>257.250000</td>\n",
       "    </tr>\n",
       "    <tr>\n",
       "      <th>50%</th>\n",
       "      <td>514.500000</td>\n",
       "    </tr>\n",
       "    <tr>\n",
       "      <th>75%</th>\n",
       "      <td>771.750000</td>\n",
       "    </tr>\n",
       "    <tr>\n",
       "      <th>max</th>\n",
       "      <td>1029.000000</td>\n",
       "    </tr>\n",
       "  </tbody>\n",
       "</table>\n",
       "</div>"
      ],
      "text/plain": [
       "        Unnamed: 0\n",
       "count  1030.000000\n",
       "mean    514.500000\n",
       "std     297.479691\n",
       "min       0.000000\n",
       "25%     257.250000\n",
       "50%     514.500000\n",
       "75%     771.750000\n",
       "max    1029.000000"
      ]
     },
     "execution_count": 16,
     "metadata": {},
     "output_type": "execute_result"
    }
   ],
   "source": [
    "rg_data.describe()"
   ]
  },
  {
   "cell_type": "code",
   "execution_count": 17,
   "id": "7aa61832",
   "metadata": {},
   "outputs": [
    {
     "name": "stdout",
     "output_type": "stream",
     "text": [
      "<class 'pandas.core.frame.DataFrame'>\n",
      "RangeIndex: 1021 entries, 0 to 1020\n",
      "Data columns (total 5 columns):\n",
      " #   Column      Non-Null Count  Dtype \n",
      "---  ------      --------------  ----- \n",
      " 0   Unnamed: 0  1021 non-null   int64 \n",
      " 1   Date        1021 non-null   object\n",
      " 2   User        1021 non-null   object\n",
      " 3   Tweet       1021 non-null   object\n",
      " 4   Emotion     1021 non-null   object\n",
      "dtypes: int64(1), object(4)\n",
      "memory usage: 40.0+ KB\n"
     ]
    }
   ],
   "source": [
    "modi_data.info()"
   ]
  },
  {
   "cell_type": "code",
   "execution_count": 18,
   "id": "6aedb105",
   "metadata": {},
   "outputs": [
    {
     "name": "stdout",
     "output_type": "stream",
     "text": [
      "<class 'pandas.core.frame.DataFrame'>\n",
      "RangeIndex: 1030 entries, 0 to 1029\n",
      "Data columns (total 5 columns):\n",
      " #   Column      Non-Null Count  Dtype \n",
      "---  ------      --------------  ----- \n",
      " 0   Unnamed: 0  1030 non-null   int64 \n",
      " 1   Date        1030 non-null   object\n",
      " 2   User        1030 non-null   object\n",
      " 3   Tweet       1030 non-null   object\n",
      " 4   Emotion     1030 non-null   object\n",
      "dtypes: int64(1), object(4)\n",
      "memory usage: 40.4+ KB\n"
     ]
    }
   ],
   "source": [
    "rg_data.info()"
   ]
  },
  {
   "cell_type": "code",
   "execution_count": 19,
   "id": "3383fe76",
   "metadata": {},
   "outputs": [
    {
     "name": "stdout",
     "output_type": "stream",
     "text": [
      "(1021, 5)\n",
      "(1030, 5)\n"
     ]
    }
   ],
   "source": [
    "print(modi_data.shape)\n",
    "print(rg_data.shape)"
   ]
  },
  {
   "cell_type": "markdown",
   "id": "f2f1a719",
   "metadata": {},
   "source": [
    "# Checking for null values"
   ]
  },
  {
   "cell_type": "code",
   "execution_count": 20,
   "id": "f7192979",
   "metadata": {},
   "outputs": [
    {
     "data": {
      "text/plain": [
       "Unnamed: 0    0\n",
       "Date          0\n",
       "User          0\n",
       "Tweet         0\n",
       "Emotion       0\n",
       "dtype: int64"
      ]
     },
     "execution_count": 20,
     "metadata": {},
     "output_type": "execute_result"
    }
   ],
   "source": [
    "modi_data.isnull().sum()"
   ]
  },
  {
   "cell_type": "code",
   "execution_count": 21,
   "id": "2b72304a",
   "metadata": {},
   "outputs": [
    {
     "data": {
      "text/plain": [
       "Unnamed: 0    0\n",
       "Date          0\n",
       "User          0\n",
       "Tweet         0\n",
       "Emotion       0\n",
       "dtype: int64"
      ]
     },
     "execution_count": 21,
     "metadata": {},
     "output_type": "execute_result"
    }
   ],
   "source": [
    "rg_data.isnull().sum()"
   ]
  },
  {
   "cell_type": "code",
   "execution_count": 22,
   "id": "89f72d73",
   "metadata": {},
   "outputs": [
    {
     "data": {
      "text/plain": [
       "Unnamed: 0    0\n",
       "Date          0\n",
       "User          0\n",
       "Tweet         0\n",
       "Emotion       0\n",
       "dtype: int64"
      ]
     },
     "execution_count": 22,
     "metadata": {},
     "output_type": "execute_result"
    }
   ],
   "source": [
    "modi_data = modi_data.dropna()\n",
    "modi_data.isnull().sum()"
   ]
  },
  {
   "cell_type": "markdown",
   "id": "fbcf7945",
   "metadata": {},
   "source": [
    "# Checking for duplicates"
   ]
  },
  {
   "cell_type": "code",
   "execution_count": 23,
   "id": "b62bcef6",
   "metadata": {},
   "outputs": [
    {
     "data": {
      "text/plain": [
       "0"
      ]
     },
     "execution_count": 23,
     "metadata": {},
     "output_type": "execute_result"
    }
   ],
   "source": [
    "modi_data.duplicated().sum()"
   ]
  },
  {
   "cell_type": "code",
   "execution_count": 24,
   "id": "075c9301",
   "metadata": {},
   "outputs": [
    {
     "data": {
      "text/plain": [
       "0"
      ]
     },
     "execution_count": 24,
     "metadata": {},
     "output_type": "execute_result"
    }
   ],
   "source": [
    "rg_data.duplicated().sum()"
   ]
  },
  {
   "cell_type": "markdown",
   "id": "2bc6244a",
   "metadata": {},
   "source": [
    "# Data Visualization"
   ]
  },
  {
   "cell_type": "code",
   "execution_count": 25,
   "id": "436353e5",
   "metadata": {},
   "outputs": [
    {
     "data": {
      "image/png": "[encoded data removed]",
      "text/plain": [
       "<Figure size 640x480 with 1 Axes>"
      ]
     },
     "metadata": {},
     "output_type": "display_data"
    }
   ],
   "source": [
    "modi_dic = {'pos':0,'neg':0}\n",
    "for i in modi_data['Emotion']:\n",
    "    modi_dic[i] = modi_dic[i] + 1\n",
    "\n",
    "plt.title('Modi Tweet Emotion')\n",
    "plt.pie(modi_dic.values(),labels=['Positive','Negative'],autopct='%1.1f%%')\n",
    "plt.show()"
   ]
  },
  {
   "cell_type": "code",
   "execution_count": 26,
   "id": "ae09024b",
   "metadata": {},
   "outputs": [
    {
     "data": {
      "image/png": "[encoded data removed]",
      "text/plain": [
       "<Figure size 640x480 with 1 Axes>"
      ]
     },
     "metadata": {},
     "output_type": "display_data"
    }
   ],
   "source": [
    "rg_dic = {'pos':0,'neg':0}\n",
    "for i in rg_data['Emotion']:\n",
    "    rg_dic[i] = rg_dic[i] + 1\n",
    "\n",
    "plt.title('Rahul Gandhi Tweet Emotion')\n",
    "plt.pie(rg_dic.values(),labels=['Positive','Negative'],autopct='%1.1f%%')\n",
    "plt.show()"
   ]
  },
  {
   "cell_type": "code",
   "execution_count": 27,
   "id": "ca139d72",
   "metadata": {},
   "outputs": [
    {
     "data": {
      "text/html": [
       "<div>\n",
       "<style scoped>\n",
       "    .dataframe tbody tr th:only-of-type {\n",
       "        vertical-align: middle;\n",
       "    }\n",
       "\n",
       "    .dataframe tbody tr th {\n",
       "        vertical-align: top;\n",
       "    }\n",
       "\n",
       "    .dataframe thead th {\n",
       "        text-align: right;\n",
       "    }\n",
       "</style>\n",
       "<table border=\"1\" class=\"dataframe\">\n",
       "  <thead>\n",
       "    <tr style=\"text-align: right;\">\n",
       "      <th></th>\n",
       "      <th>Positive</th>\n",
       "      <th>Negative</th>\n",
       "    </tr>\n",
       "  </thead>\n",
       "  <tbody>\n",
       "    <tr>\n",
       "      <th>Modi</th>\n",
       "      <td>372</td>\n",
       "      <td>649</td>\n",
       "    </tr>\n",
       "    <tr>\n",
       "      <th>Rahul Gandhi</th>\n",
       "      <td>315</td>\n",
       "      <td>715</td>\n",
       "    </tr>\n",
       "  </tbody>\n",
       "</table>\n",
       "</div>"
      ],
      "text/plain": [
       "              Positive  Negative\n",
       "Modi               372       649\n",
       "Rahul Gandhi       315       715"
      ]
     },
     "execution_count": 27,
     "metadata": {},
     "output_type": "execute_result"
    }
   ],
   "source": [
    "x2 = ['Modi','Rahul Gandhi']\n",
    "x1 = {'Positive':[modi_dic['pos'],rg_dic['pos']],'Negative':[modi_dic['neg'],rg_dic['neg']]}\n",
    "df = pd.DataFrame(x1,x2)\n",
    "df"
   ]
  },
  {
   "cell_type": "markdown",
   "id": "67ee7497",
   "metadata": {},
   "source": [
    "# Data Preprocessing"
   ]
  },
  {
   "cell_type": "code",
   "execution_count": 28,
   "id": "0778f7fe",
   "metadata": {},
   "outputs": [],
   "source": [
    "import re\n",
    "from nltk import word_tokenize\n",
    "from nltk.stem import WordNetLemmatizer\n",
    "from nltk.corpus import stopwords"
   ]
  },
  {
   "cell_type": "code",
   "execution_count": 29,
   "id": "fd0b8328",
   "metadata": {},
   "outputs": [],
   "source": [
    "lm = WordNetLemmatizer()"
   ]
  },
  {
   "cell_type": "code",
   "execution_count": 30,
   "id": "8c8fe748",
   "metadata": {},
   "outputs": [
    {
     "name": "stdout",
     "output_type": "stream",
     "text": [
      "['i', 'me', 'my', 'myself', 'we', 'our', 'ours', 'ourselves', 'you', \"you're\", \"you've\", \"you'll\", \"you'd\", 'your', 'yours', 'yourself', 'yourselves', 'he', 'him', 'his', 'himself', 'she', \"she's\", 'her', 'hers', 'herself', 'it', \"it's\", 'its', 'itself', 'they', 'them', 'their', 'theirs', 'themselves', 'what', 'which', 'who', 'whom', 'this', 'that', \"that'll\", 'these', 'those', 'am', 'is', 'are', 'was', 'were', 'be', 'been', 'being', 'have', 'has', 'had', 'having', 'do', 'does', 'did', 'doing', 'a', 'an', 'the', 'and', 'but', 'if', 'or', 'because', 'as', 'until', 'while', 'of', 'at', 'by', 'for', 'with', 'about', 'against', 'between', 'into', 'through', 'during', 'before', 'after', 'above', 'below', 'to', 'from', 'up', 'down', 'in', 'out', 'on', 'off', 'over', 'under', 'again', 'further', 'then', 'once', 'here', 'there', 'when', 'where', 'why', 'how', 'all', 'any', 'both', 'each', 'few', 'more', 'most', 'other', 'some', 'such', 'no', 'nor', 'not', 'only', 'own', 'same', 'so', 'than', 'too', 'very', 's', 't', 'can', 'will', 'just', 'don', \"don't\", 'should', \"should've\", 'now', 'd', 'll', 'm', 'o', 're', 've', 'y', 'ain', 'aren', \"aren't\", 'couldn', \"couldn't\", 'didn', \"didn't\", 'doesn', \"doesn't\", 'hadn', \"hadn't\", 'hasn', \"hasn't\", 'haven', \"haven't\", 'isn', \"isn't\", 'ma', 'mightn', \"mightn't\", 'mustn', \"mustn't\", 'needn', \"needn't\", 'shan', \"shan't\", 'shouldn', \"shouldn't\", 'wasn', \"wasn't\", 'weren', \"weren't\", 'won', \"won't\", 'wouldn', \"wouldn't\"]\n"
     ]
    }
   ],
   "source": [
    "sw = stopwords.words('english')\n",
    "print(sw)"
   ]
  },
  {
   "cell_type": "code",
   "execution_count": 31,
   "id": "50d9b0ec",
   "metadata": {},
   "outputs": [],
   "source": [
    "def pre_processing(tweets):\n",
    "    processed_tweets = []\n",
    "    for i in tweets:\n",
    "        p = re.sub(r'http\\S+|www\\S+|@\\w+', ' ', i)      #removing links and mentions\n",
    "        p = re.sub(r'[^A-Za-z]',' ',p)                  #removing special characters and numbers\n",
    "        p = p.lower()                                   #lowercasing\n",
    "        p = word_tokenize(p)                            #tokenization\n",
    "        p = [i for i in p if i not in sw]               #removing stopwords\n",
    "        p = [lm.lemmatize(i) for i in p]                #lemmatization\n",
    "        p = ' '.join(p)\n",
    "        processed_tweets.append(p)\n",
    "    return processed_tweets"
   ]
  },
  {
   "cell_type": "code",
   "execution_count": 32,
   "id": "ee24e0cd",
   "metadata": {},
   "outputs": [
    {
     "name": "stdout",
     "output_type": "stream",
     "text": [
      "Modi Tweets pre-processing Done\n",
      "RG Tweets pre-processing Done\n"
     ]
    }
   ],
   "source": [
    "modi_tweet = pre_processing(modi_data['Tweet'])\n",
    "print(\"Modi Tweets pre-processing Done\")\n",
    "rg_tweet = pre_processing(rg_data['Tweet'])\n",
    "print(\"RG Tweets pre-processing Done\")"
   ]
  },
  {
   "cell_type": "code",
   "execution_count": 33,
   "id": "ffcfeaae",
   "metadata": {},
   "outputs": [],
   "source": [
    "modi_emotion_float = []\n",
    "for i in modi_data['Emotion']:\n",
    "    if i == 'pos':\n",
    "        modi_emotion_float.append(1.0)\n",
    "    else:\n",
    "        modi_emotion_float.append(0.0)"
   ]
  },
  {
   "cell_type": "code",
   "execution_count": 34,
   "id": "44f8c114",
   "metadata": {},
   "outputs": [],
   "source": [
    "modi_data['Emotion_f'] = modi_emotion_float"
   ]
  },
  {
   "cell_type": "code",
   "execution_count": 35,
   "id": "da429816",
   "metadata": {},
   "outputs": [],
   "source": [
    "rg_emotion_float = []\n",
    "for i in rg_data['Emotion']:\n",
    "    if i == 'pos':\n",
    "        rg_emotion_float.append(1.0)\n",
    "    else:\n",
    "        rg_emotion_float.append(0.0)"
   ]
  },
  {
   "cell_type": "code",
   "execution_count": 36,
   "id": "457aa1c6",
   "metadata": {},
   "outputs": [],
   "source": [
    "rg_data['Emotion_f'] = rg_emotion_float"
   ]
  },
  {
   "cell_type": "markdown",
   "id": "9591463f",
   "metadata": {},
   "source": [
    "# Transforming the words into vectors using tf-idf"
   ]
  },
  {
   "cell_type": "code",
   "execution_count": 37,
   "id": "585dc289",
   "metadata": {},
   "outputs": [],
   "source": [
    "from sklearn.feature_extraction.text import TfidfVectorizer"
   ]
  },
  {
   "cell_type": "code",
   "execution_count": 38,
   "id": "5099b111",
   "metadata": {},
   "outputs": [
    {
     "name": "stdout",
     "output_type": "stream",
     "text": [
      "[[0. 0. 0. ... 0. 0. 0.]\n",
      " [0. 0. 0. ... 0. 0. 0.]\n",
      " [0. 0. 0. ... 0. 0. 0.]\n",
      " ...\n",
      " [0. 0. 0. ... 0. 0. 0.]\n",
      " [0. 0. 0. ... 0. 0. 0.]\n",
      " [0. 0. 0. ... 0. 0. 0.]]\n"
     ]
    }
   ],
   "source": [
    "tf_idf = TfidfVectorizer()\n",
    "modi_features = tf_idf.fit_transform(modi_tweet).toarray()\n",
    "print(modi_features)"
   ]
  },
  {
   "cell_type": "code",
   "execution_count": 39,
   "id": "4dfcec1d",
   "metadata": {},
   "outputs": [
    {
     "name": "stdout",
     "output_type": "stream",
     "text": [
      "[[0. 0. 0. ... 0. 0. 0.]\n",
      " [0. 0. 0. ... 0. 0. 0.]\n",
      " [0. 0. 0. ... 0. 0. 0.]\n",
      " ...\n",
      " [0. 0. 0. ... 0. 0. 0.]\n",
      " [0. 0. 0. ... 0. 0. 0.]\n",
      " [0. 0. 0. ... 0. 0. 0.]]\n"
     ]
    }
   ],
   "source": [
    "tf_idf = TfidfVectorizer()\n",
    "rg_features = tf_idf.fit_transform(rg_tweet).toarray()\n",
    "print(rg_features)"
   ]
  },
  {
   "cell_type": "markdown",
   "id": "8257a58e",
   "metadata": {},
   "source": [
    "# X & Y array"
   ]
  },
  {
   "cell_type": "code",
   "execution_count": 40,
   "id": "10617ac0",
   "metadata": {},
   "outputs": [
    {
     "name": "stdout",
     "output_type": "stream",
     "text": [
      "(1021, 4677) (1021,)\n",
      "<class 'numpy.ndarray'> <class 'pandas.core.series.Series'>\n"
     ]
    }
   ],
   "source": [
    "modi_x = modi_features\n",
    "modi_y = modi_data.iloc[:,-1]\n",
    "print(modi_x.shape,modi_y.shape)\n",
    "print(type(modi_x),type(modi_y))"
   ]
  },
  {
   "cell_type": "code",
   "execution_count": 41,
   "id": "08101462",
   "metadata": {},
   "outputs": [
    {
     "name": "stdout",
     "output_type": "stream",
     "text": [
      "(1030, 4809) (1030,)\n",
      "<class 'numpy.ndarray'> <class 'pandas.core.series.Series'>\n"
     ]
    }
   ],
   "source": [
    "rg_x = rg_features\n",
    "rg_y = rg_data.iloc[:,-1]\n",
    "print(rg_x.shape,rg_y.shape)\n",
    "print(type(rg_x),type(rg_y))"
   ]
  },
  {
   "cell_type": "markdown",
   "id": "64a03689",
   "metadata": {},
   "source": [
    "# MODI SPLITING DATA INTO TRAINING AND TESTING"
   ]
  },
  {
   "cell_type": "code",
   "execution_count": 42,
   "id": "9a3d32d0",
   "metadata": {},
   "outputs": [
    {
     "name": "stdout",
     "output_type": "stream",
     "text": [
      "(765, 4677)\n",
      "(256, 4677)\n",
      "(765,)\n",
      "(256,)\n"
     ]
    }
   ],
   "source": [
    "from sklearn.model_selection import train_test_split\n",
    "modi_x_train,modi_x_test,modi_y_train,modi_y_test = train_test_split(modi_x,modi_y,test_size=0.25,\\\n",
    "                                                                     random_state=42)\n",
    "print(modi_x_train.shape)\n",
    "print(modi_x_test.shape)\n",
    "print(modi_y_train.shape)\n",
    "print(modi_y_test.shape)"
   ]
  },
  {
   "cell_type": "code",
   "execution_count": 43,
   "id": "3da635b1",
   "metadata": {},
   "outputs": [
    {
     "data": {
      "text/plain": [
       "array([[0., 0., 0., ..., 0., 0., 0.],\n",
       "       [0., 0., 0., ..., 0., 0., 0.],\n",
       "       [0., 0., 0., ..., 0., 0., 0.],\n",
       "       ...,\n",
       "       [0., 0., 0., ..., 0., 0., 0.],\n",
       "       [0., 0., 0., ..., 0., 0., 0.],\n",
       "       [0., 0., 0., ..., 0., 0., 0.]])"
      ]
     },
     "execution_count": 43,
     "metadata": {},
     "output_type": "execute_result"
    }
   ],
   "source": [
    "modi_x"
   ]
  },
  {
   "cell_type": "code",
   "execution_count": 44,
   "id": "c36bcf5f",
   "metadata": {},
   "outputs": [
    {
     "data": {
      "text/plain": [
       "0       0.0\n",
       "1       0.0\n",
       "2       0.0\n",
       "3       1.0\n",
       "4       1.0\n",
       "       ... \n",
       "1016    0.0\n",
       "1017    0.0\n",
       "1018    1.0\n",
       "1019    1.0\n",
       "1020    1.0\n",
       "Name: Emotion_f, Length: 1021, dtype: float64"
      ]
     },
     "execution_count": 44,
     "metadata": {},
     "output_type": "execute_result"
    }
   ],
   "source": [
    "modi_y"
   ]
  },
  {
   "cell_type": "markdown",
   "id": "6710acc4",
   "metadata": {},
   "source": [
    "# MODEL TRAINING"
   ]
  },
  {
   "cell_type": "markdown",
   "id": "af6ab950",
   "metadata": {},
   "source": [
    "### MODI"
   ]
  },
  {
   "cell_type": "markdown",
   "id": "95fef704",
   "metadata": {},
   "source": [
    "1. `Multinomial Naive Bayes`"
   ]
  },
  {
   "cell_type": "code",
   "execution_count": 45,
   "id": "f3454cf9",
   "metadata": {},
   "outputs": [],
   "source": [
    "from sklearn.naive_bayes import MultinomialNB"
   ]
  },
  {
   "cell_type": "code",
   "execution_count": 46,
   "id": "f8742a53",
   "metadata": {},
   "outputs": [
    {
     "data": {
      "text/html": [
       "<style>#sk-container-id-1 {color: black;background-color: white;}#sk-container-id-1 pre{padding: 0;}#sk-container-id-1 div.sk-toggleable {background-color: white;}#sk-container-id-1 label.sk-toggleable__label {cursor: pointer;display: block;width: 100%;margin-bottom: 0;padding: 0.3em;box-sizing: border-box;text-align: center;}#sk-container-id-1 label.sk-toggleable__label-arrow:before {content: \"▸\";float: left;margin-right: 0.25em;color: #696969;}#sk-container-id-1 label.sk-toggleable__label-arrow:hover:before {color: black;}#sk-container-id-1 div.sk-estimator:hover label.sk-toggleable__label-arrow:before {color: black;}#sk-container-id-1 div.sk-toggleable__content {max-height: 0;max-width: 0;overflow: hidden;text-align: left;background-color: #f0f8ff;}#sk-container-id-1 div.sk-toggleable__content pre {margin: 0.2em;color: black;border-radius: 0.25em;background-color: #f0f8ff;}#sk-container-id-1 input.sk-toggleable__control:checked~div.sk-toggleable__content {max-height: 200px;max-width: 100%;overflow: auto;}#sk-container-id-1 input.sk-toggleable__control:checked~label.sk-toggleable__label-arrow:before {content: \"▾\";}#sk-container-id-1 div.sk-estimator input.sk-toggleable__control:checked~label.sk-toggleable__label {background-color: #d4ebff;}#sk-container-id-1 div.sk-label input.sk-toggleable__control:checked~label.sk-toggleable__label {background-color: #d4ebff;}#sk-container-id-1 input.sk-hidden--visually {border: 0;clip: rect(1px 1px 1px 1px);clip: rect(1px, 1px, 1px, 1px);height: 1px;margin: -1px;overflow: hidden;padding: 0;position: absolute;width: 1px;}#sk-container-id-1 div.sk-estimator {font-family: monospace;background-color: #f0f8ff;border: 1px dotted black;border-radius: 0.25em;box-sizing: border-box;margin-bottom: 0.5em;}#sk-container-id-1 div.sk-estimator:hover {background-color: #d4ebff;}#sk-container-id-1 div.sk-parallel-item::after {content: \"\";width: 100%;border-bottom: 1px solid gray;flex-grow: 1;}#sk-container-id-1 div.sk-label:hover label.sk-toggleable__label {background-color: #d4ebff;}#sk-container-id-1 div.sk-serial::before {content: \"\";position: absolute;border-left: 1px solid gray;box-sizing: border-box;top: 0;bottom: 0;left: 50%;z-index: 0;}#sk-container-id-1 div.sk-serial {display: flex;flex-direction: column;align-items: center;background-color: white;padding-right: 0.2em;padding-left: 0.2em;position: relative;}#sk-container-id-1 div.sk-item {position: relative;z-index: 1;}#sk-container-id-1 div.sk-parallel {display: flex;align-items: stretch;justify-content: center;background-color: white;position: relative;}#sk-container-id-1 div.sk-item::before, #sk-container-id-1 div.sk-parallel-item::before {content: \"\";position: absolute;border-left: 1px solid gray;box-sizing: border-box;top: 0;bottom: 0;left: 50%;z-index: -1;}#sk-container-id-1 div.sk-parallel-item {display: flex;flex-direction: column;z-index: 1;position: relative;background-color: white;}#sk-container-id-1 div.sk-parallel-item:first-child::after {align-self: flex-end;width: 50%;}#sk-container-id-1 div.sk-parallel-item:last-child::after {align-self: flex-start;width: 50%;}#sk-container-id-1 div.sk-parallel-item:only-child::after {width: 0;}#sk-container-id-1 div.sk-dashed-wrapped {border: 1px dashed gray;margin: 0 0.4em 0.5em 0.4em;box-sizing: border-box;padding-bottom: 0.4em;background-color: white;}#sk-container-id-1 div.sk-label label {font-family: monospace;font-weight: bold;display: inline-block;line-height: 1.2em;}#sk-container-id-1 div.sk-label-container {text-align: center;}#sk-container-id-1 div.sk-container {/* jupyter's `normalize.less` sets `[hidden] { display: none; }` but bootstrap.min.css set `[hidden] { display: none !important; }` so we also need the `!important` here to be able to override the default hidden behavior on the sphinx rendered scikit-learn.org. See: https://github.com/scikit-learn/scikit-learn/issues/21755 */display: inline-block !important;position: relative;}#sk-container-id-1 div.sk-text-repr-fallback {display: none;}</style><div id=\"sk-container-id-1\" class=\"sk-top-container\"><div class=\"sk-text-repr-fallback\"><pre>MultinomialNB()</pre><b>In a Jupyter environment, please rerun this cell to show the HTML representation or trust the notebook. <br />On GitHub, the HTML representation is unable to render, please try loading this page with nbviewer.org.</b></div><div class=\"sk-container\" hidden><div class=\"sk-item\"><div class=\"sk-estimator sk-toggleable\"><input class=\"sk-toggleable__control sk-hidden--visually\" id=\"sk-estimator-id-1\" type=\"checkbox\" checked><label for=\"sk-estimator-id-1\" class=\"sk-toggleable__label sk-toggleable__label-arrow\">MultinomialNB</label><div class=\"sk-toggleable__content\"><pre>MultinomialNB()</pre></div></div></div></div></div>"
      ],
      "text/plain": [
       "MultinomialNB()"
      ]
     },
     "execution_count": 46,
     "metadata": {},
     "output_type": "execute_result"
    }
   ],
   "source": [
    "modi_mnb = MultinomialNB()\n",
    "modi_mnb.fit(modi_x_train,modi_y_train)"
   ]
  },
  {
   "cell_type": "code",
   "execution_count": 47,
   "id": "d958480e",
   "metadata": {},
   "outputs": [
    {
     "data": {
      "text/plain": [
       "array([0., 0., 0., 0., 0., 1., 0., 0., 0., 0., 0., 0., 0., 0., 0., 1., 0.,\n",
       "       0., 0., 0., 0., 0., 0., 0., 0., 0., 0., 0., 0., 0., 0., 0., 0., 0.,\n",
       "       0., 0., 0., 0., 0., 0., 0., 0., 0., 0., 1., 0., 0., 0., 0., 0., 0.,\n",
       "       0., 0., 0., 0., 0., 0., 1., 0., 0., 0., 0., 1., 0., 0., 0., 0., 0.,\n",
       "       0., 0., 0., 0., 0., 0., 0., 0., 0., 0., 0., 0., 0., 0., 0., 0., 0.,\n",
       "       0., 0., 0., 0., 0., 0., 0., 0., 0., 0., 0., 0., 0., 0., 0., 0., 0.,\n",
       "       0., 0., 0., 0., 0., 0., 0., 0., 0., 0., 0., 0., 0., 1., 0., 0., 0.,\n",
       "       0., 0., 0., 0., 0., 0., 0., 0., 0., 0., 0., 0., 0., 0., 0., 0., 0.,\n",
       "       0., 0., 0., 0., 0., 0., 0., 0., 0., 0., 0., 0., 0., 0., 0., 0., 0.,\n",
       "       0., 0., 0., 0., 0., 0., 0., 0., 0., 0., 0., 0., 0., 0., 0., 0., 0.,\n",
       "       0., 0., 0., 0., 0., 0., 0., 0., 0., 0., 0., 0., 0., 0., 1., 0., 0.,\n",
       "       0., 0., 0., 0., 0., 1., 0., 0., 0., 0., 0., 0., 0., 0., 0., 0., 0.,\n",
       "       0., 0., 1., 0., 0., 0., 0., 0., 0., 0., 0., 0., 0., 0., 0., 0., 0.,\n",
       "       1., 0., 0., 0., 0., 0., 0., 0., 0., 0., 0., 0., 0., 0., 0., 0., 0.,\n",
       "       0., 0., 0., 0., 0., 0., 0., 0., 0., 0., 0., 0., 0., 0., 0., 0., 0.,\n",
       "       0.])"
      ]
     },
     "execution_count": 47,
     "metadata": {},
     "output_type": "execute_result"
    }
   ],
   "source": [
    "modi_mnb_pred = modi_mnb.predict(modi_x_test)\n",
    "modi_mnb_pred"
   ]
  },
  {
   "cell_type": "code",
   "execution_count": 48,
   "id": "5b771139",
   "metadata": {},
   "outputs": [
    {
     "name": "stdout",
     "output_type": "stream",
     "text": [
      "Training Score :  0.8222222222222222\n",
      "Testing Score  :  0.63671875\n"
     ]
    }
   ],
   "source": [
    "print('Training Score : ',modi_mnb.score(modi_x_train,modi_y_train))\n",
    "print('Testing Score  : ',modi_mnb.score(modi_x_test,modi_y_test))"
   ]
  },
  {
   "cell_type": "code",
   "execution_count": 49,
   "id": "1c51cac8",
   "metadata": {},
   "outputs": [],
   "source": [
    "from sklearn.metrics import precision_score, recall_score, f1_score, accuracy_score"
   ]
  },
  {
   "cell_type": "code",
   "execution_count": 50,
   "id": "854dd5db",
   "metadata": {},
   "outputs": [
    {
     "name": "stdout",
     "output_type": "stream",
     "text": [
      "Accuracy by MNB  :  0.63671875\n",
      "Precision by MNB :  0.7630081300813008\n",
      "Recall by MNB    :  0.5413286489939316\n",
      "F1 score by MNB  :  0.4651209813304576\n"
     ]
    }
   ],
   "source": [
    "modi_mnb_acc = accuracy_score(modi_y_test,modi_mnb_pred)\n",
    "modi_mnb_pr  = precision_score(modi_y_test,modi_mnb_pred,average='macro')\n",
    "modi_mnb_rec = recall_score(modi_y_test,modi_mnb_pred,average='macro')\n",
    "modi_mnb_f1  = f1_score(modi_y_test,modi_mnb_pred,average='macro')\n",
    "print('Accuracy by MNB  : ', modi_mnb_acc)\n",
    "print('Precision by MNB : ', modi_mnb_pr)\n",
    "print('Recall by MNB    : ', modi_mnb_rec)\n",
    "print('F1 score by MNB  : ', modi_mnb_f1)"
   ]
  },
  {
   "cell_type": "code",
   "execution_count": 51,
   "id": "76861df5",
   "metadata": {},
   "outputs": [],
   "source": [
    "from sklearn.metrics import classification_report, confusion_matrix"
   ]
  },
  {
   "cell_type": "code",
   "execution_count": 52,
   "id": "3e9c50eb",
   "metadata": {},
   "outputs": [
    {
     "name": "stdout",
     "output_type": "stream",
     "text": [
      "[[154   1]\n",
      " [ 92   9]]\n",
      "              precision    recall  f1-score   support\n",
      "\n",
      "         0.0       0.63      0.99      0.77       155\n",
      "         1.0       0.90      0.09      0.16       101\n",
      "\n",
      "    accuracy                           0.64       256\n",
      "   macro avg       0.76      0.54      0.47       256\n",
      "weighted avg       0.73      0.64      0.53       256\n",
      "\n"
     ]
    }
   ],
   "source": [
    "print(confusion_matrix(modi_y_test,modi_mnb_pred))\n",
    "print(classification_report(modi_y_test,modi_mnb_pred))"
   ]
  },
  {
   "cell_type": "markdown",
   "id": "594c68e8",
   "metadata": {},
   "source": [
    "2. `Gaussian Navies Bayes`"
   ]
  },
  {
   "cell_type": "code",
   "execution_count": 53,
   "id": "0f09684f",
   "metadata": {},
   "outputs": [],
   "source": [
    "from sklearn.naive_bayes import GaussianNB"
   ]
  },
  {
   "cell_type": "code",
   "execution_count": 54,
   "id": "be4a7255",
   "metadata": {},
   "outputs": [
    {
     "data": {
      "text/html": [
       "<style>#sk-container-id-2 {color: black;background-color: white;}#sk-container-id-2 pre{padding: 0;}#sk-container-id-2 div.sk-toggleable {background-color: white;}#sk-container-id-2 label.sk-toggleable__label {cursor: pointer;display: block;width: 100%;margin-bottom: 0;padding: 0.3em;box-sizing: border-box;text-align: center;}#sk-container-id-2 label.sk-toggleable__label-arrow:before {content: \"▸\";float: left;margin-right: 0.25em;color: #696969;}#sk-container-id-2 label.sk-toggleable__label-arrow:hover:before {color: black;}#sk-container-id-2 div.sk-estimator:hover label.sk-toggleable__label-arrow:before {color: black;}#sk-container-id-2 div.sk-toggleable__content {max-height: 0;max-width: 0;overflow: hidden;text-align: left;background-color: #f0f8ff;}#sk-container-id-2 div.sk-toggleable__content pre {margin: 0.2em;color: black;border-radius: 0.25em;background-color: #f0f8ff;}#sk-container-id-2 input.sk-toggleable__control:checked~div.sk-toggleable__content {max-height: 200px;max-width: 100%;overflow: auto;}#sk-container-id-2 input.sk-toggleable__control:checked~label.sk-toggleable__label-arrow:before {content: \"▾\";}#sk-container-id-2 div.sk-estimator input.sk-toggleable__control:checked~label.sk-toggleable__label {background-color: #d4ebff;}#sk-container-id-2 div.sk-label input.sk-toggleable__control:checked~label.sk-toggleable__label {background-color: #d4ebff;}#sk-container-id-2 input.sk-hidden--visually {border: 0;clip: rect(1px 1px 1px 1px);clip: rect(1px, 1px, 1px, 1px);height: 1px;margin: -1px;overflow: hidden;padding: 0;position: absolute;width: 1px;}#sk-container-id-2 div.sk-estimator {font-family: monospace;background-color: #f0f8ff;border: 1px dotted black;border-radius: 0.25em;box-sizing: border-box;margin-bottom: 0.5em;}#sk-container-id-2 div.sk-estimator:hover {background-color: #d4ebff;}#sk-container-id-2 div.sk-parallel-item::after {content: \"\";width: 100%;border-bottom: 1px solid gray;flex-grow: 1;}#sk-container-id-2 div.sk-label:hover label.sk-toggleable__label {background-color: #d4ebff;}#sk-container-id-2 div.sk-serial::before {content: \"\";position: absolute;border-left: 1px solid gray;box-sizing: border-box;top: 0;bottom: 0;left: 50%;z-index: 0;}#sk-container-id-2 div.sk-serial {display: flex;flex-direction: column;align-items: center;background-color: white;padding-right: 0.2em;padding-left: 0.2em;position: relative;}#sk-container-id-2 div.sk-item {position: relative;z-index: 1;}#sk-container-id-2 div.sk-parallel {display: flex;align-items: stretch;justify-content: center;background-color: white;position: relative;}#sk-container-id-2 div.sk-item::before, #sk-container-id-2 div.sk-parallel-item::before {content: \"\";position: absolute;border-left: 1px solid gray;box-sizing: border-box;top: 0;bottom: 0;left: 50%;z-index: -1;}#sk-container-id-2 div.sk-parallel-item {display: flex;flex-direction: column;z-index: 1;position: relative;background-color: white;}#sk-container-id-2 div.sk-parallel-item:first-child::after {align-self: flex-end;width: 50%;}#sk-container-id-2 div.sk-parallel-item:last-child::after {align-self: flex-start;width: 50%;}#sk-container-id-2 div.sk-parallel-item:only-child::after {width: 0;}#sk-container-id-2 div.sk-dashed-wrapped {border: 1px dashed gray;margin: 0 0.4em 0.5em 0.4em;box-sizing: border-box;padding-bottom: 0.4em;background-color: white;}#sk-container-id-2 div.sk-label label {font-family: monospace;font-weight: bold;display: inline-block;line-height: 1.2em;}#sk-container-id-2 div.sk-label-container {text-align: center;}#sk-container-id-2 div.sk-container {/* jupyter's `normalize.less` sets `[hidden] { display: none; }` but bootstrap.min.css set `[hidden] { display: none !important; }` so we also need the `!important` here to be able to override the default hidden behavior on the sphinx rendered scikit-learn.org. See: https://github.com/scikit-learn/scikit-learn/issues/21755 */display: inline-block !important;position: relative;}#sk-container-id-2 div.sk-text-repr-fallback {display: none;}</style><div id=\"sk-container-id-2\" class=\"sk-top-container\"><div class=\"sk-text-repr-fallback\"><pre>GaussianNB()</pre><b>In a Jupyter environment, please rerun this cell to show the HTML representation or trust the notebook. <br />On GitHub, the HTML representation is unable to render, please try loading this page with nbviewer.org.</b></div><div class=\"sk-container\" hidden><div class=\"sk-item\"><div class=\"sk-estimator sk-toggleable\"><input class=\"sk-toggleable__control sk-hidden--visually\" id=\"sk-estimator-id-2\" type=\"checkbox\" checked><label for=\"sk-estimator-id-2\" class=\"sk-toggleable__label sk-toggleable__label-arrow\">GaussianNB</label><div class=\"sk-toggleable__content\"><pre>GaussianNB()</pre></div></div></div></div></div>"
      ],
      "text/plain": [
       "GaussianNB()"
      ]
     },
     "execution_count": 54,
     "metadata": {},
     "output_type": "execute_result"
    }
   ],
   "source": [
    "modi_gnb = GaussianNB()\n",
    "modi_gnb.fit(modi_x_train,modi_y_train)"
   ]
  },
  {
   "cell_type": "code",
   "execution_count": 55,
   "id": "75d7ac10",
   "metadata": {},
   "outputs": [
    {
     "data": {
      "text/plain": [
       "array([1., 1., 1., 0., 0., 1., 1., 1., 0., 0., 0., 0., 0., 0., 1., 1., 0.,\n",
       "       0., 0., 0., 0., 0., 1., 0., 0., 0., 0., 1., 0., 0., 0., 0., 0., 0.,\n",
       "       1., 0., 0., 0., 1., 1., 0., 0., 0., 0., 1., 1., 0., 0., 1., 1., 0.,\n",
       "       1., 0., 0., 1., 0., 0., 1., 0., 0., 0., 0., 1., 0., 0., 0., 0., 0.,\n",
       "       0., 0., 0., 1., 0., 0., 0., 0., 1., 1., 0., 0., 1., 0., 0., 0., 0.,\n",
       "       0., 0., 1., 0., 0., 0., 0., 0., 0., 0., 1., 0., 0., 1., 1., 0., 0.,\n",
       "       0., 1., 1., 0., 1., 1., 0., 0., 1., 1., 0., 1., 1., 1., 1., 1., 0.,\n",
       "       1., 0., 1., 0., 0., 0., 1., 1., 0., 1., 1., 0., 0., 0., 1., 0., 1.,\n",
       "       0., 0., 0., 0., 0., 0., 0., 0., 0., 0., 0., 0., 1., 1., 0., 0., 0.,\n",
       "       0., 0., 0., 0., 0., 1., 1., 1., 0., 0., 1., 0., 1., 1., 0., 0., 0.,\n",
       "       0., 0., 0., 0., 1., 0., 1., 0., 0., 1., 0., 1., 0., 0., 1., 0., 0.,\n",
       "       0., 1., 0., 0., 0., 1., 1., 0., 0., 0., 1., 1., 0., 0., 0., 0., 0.,\n",
       "       0., 0., 0., 1., 0., 0., 0., 0., 0., 0., 1., 1., 0., 1., 0., 0., 0.,\n",
       "       1., 0., 0., 1., 0., 0., 0., 1., 1., 0., 0., 1., 0., 0., 0., 0., 1.,\n",
       "       1., 1., 0., 0., 0., 1., 0., 1., 1., 0., 0., 0., 1., 0., 0., 0., 0.,\n",
       "       1.])"
      ]
     },
     "execution_count": 55,
     "metadata": {},
     "output_type": "execute_result"
    }
   ],
   "source": [
    "modi_gnb_pred = modi_gnb.predict(modi_x_test)\n",
    "modi_gnb_pred"
   ]
  },
  {
   "cell_type": "code",
   "execution_count": 56,
   "id": "a7fa04cf",
   "metadata": {},
   "outputs": [
    {
     "name": "stdout",
     "output_type": "stream",
     "text": [
      "Training Score :  0.9856209150326798\n",
      "Testing Score  :  0.6328125\n"
     ]
    }
   ],
   "source": [
    "print(\"Training Score : \",modi_gnb.score(modi_x_train,modi_y_train))\n",
    "print(\"Testing Score  : \",modi_gnb.score(modi_x_test,modi_y_test))"
   ]
  },
  {
   "cell_type": "code",
   "execution_count": 57,
   "id": "ec73f509",
   "metadata": {},
   "outputs": [
    {
     "name": "stdout",
     "output_type": "stream",
     "text": [
      "Accuracy by gnb  :  0.6328125\n",
      "Precision by gnb :  0.6092346263667386\n",
      "Recall by gnb    :  0.6001916320664324\n",
      "F1 score by gnb  :  0.6012725344644752\n"
     ]
    }
   ],
   "source": [
    "modi_gnb_acc = accuracy_score(modi_y_test,modi_gnb_pred)\n",
    "modi_gnb_pr  = precision_score(modi_y_test,modi_gnb_pred,average='macro')\n",
    "modi_gnb_rec = recall_score(modi_y_test,modi_gnb_pred,average='macro')\n",
    "modi_gnb_f1  = f1_score(modi_y_test,modi_gnb_pred,average='macro')\n",
    "print('Accuracy by gnb  : ', modi_gnb_acc)\n",
    "print('Precision by gnb : ', modi_gnb_pr)\n",
    "print('Recall by gnb    : ', modi_gnb_rec)\n",
    "print('F1 score by gnb  : ', modi_gnb_f1)"
   ]
  },
  {
   "cell_type": "code",
   "execution_count": 58,
   "id": "ac903b8e",
   "metadata": {},
   "outputs": [
    {
     "name": "stdout",
     "output_type": "stream",
     "text": [
      "[[117  38]\n",
      " [ 56  45]]\n",
      "              precision    recall  f1-score   support\n",
      "\n",
      "         0.0       0.68      0.75      0.71       155\n",
      "         1.0       0.54      0.45      0.49       101\n",
      "\n",
      "    accuracy                           0.63       256\n",
      "   macro avg       0.61      0.60      0.60       256\n",
      "weighted avg       0.62      0.63      0.62       256\n",
      "\n"
     ]
    }
   ],
   "source": [
    "print(confusion_matrix(modi_y_test,modi_gnb_pred))\n",
    "print(classification_report(modi_y_test,modi_gnb_pred))"
   ]
  },
  {
   "cell_type": "markdown",
   "id": "6e1750ed",
   "metadata": {},
   "source": [
    "3. `Logistic Regression`"
   ]
  },
  {
   "cell_type": "code",
   "execution_count": 59,
   "id": "c7225f2f",
   "metadata": {},
   "outputs": [],
   "source": [
    "from sklearn.linear_model import LogisticRegression"
   ]
  },
  {
   "cell_type": "code",
   "execution_count": 60,
   "id": "9c12de3c",
   "metadata": {},
   "outputs": [
    {
     "data": {
      "text/html": [
       "<style>#sk-container-id-3 {color: black;background-color: white;}#sk-container-id-3 pre{padding: 0;}#sk-container-id-3 div.sk-toggleable {background-color: white;}#sk-container-id-3 label.sk-toggleable__label {cursor: pointer;display: block;width: 100%;margin-bottom: 0;padding: 0.3em;box-sizing: border-box;text-align: center;}#sk-container-id-3 label.sk-toggleable__label-arrow:before {content: \"▸\";float: left;margin-right: 0.25em;color: #696969;}#sk-container-id-3 label.sk-toggleable__label-arrow:hover:before {color: black;}#sk-container-id-3 div.sk-estimator:hover label.sk-toggleable__label-arrow:before {color: black;}#sk-container-id-3 div.sk-toggleable__content {max-height: 0;max-width: 0;overflow: hidden;text-align: left;background-color: #f0f8ff;}#sk-container-id-3 div.sk-toggleable__content pre {margin: 0.2em;color: black;border-radius: 0.25em;background-color: #f0f8ff;}#sk-container-id-3 input.sk-toggleable__control:checked~div.sk-toggleable__content {max-height: 200px;max-width: 100%;overflow: auto;}#sk-container-id-3 input.sk-toggleable__control:checked~label.sk-toggleable__label-arrow:before {content: \"▾\";}#sk-container-id-3 div.sk-estimator input.sk-toggleable__control:checked~label.sk-toggleable__label {background-color: #d4ebff;}#sk-container-id-3 div.sk-label input.sk-toggleable__control:checked~label.sk-toggleable__label {background-color: #d4ebff;}#sk-container-id-3 input.sk-hidden--visually {border: 0;clip: rect(1px 1px 1px 1px);clip: rect(1px, 1px, 1px, 1px);height: 1px;margin: -1px;overflow: hidden;padding: 0;position: absolute;width: 1px;}#sk-container-id-3 div.sk-estimator {font-family: monospace;background-color: #f0f8ff;border: 1px dotted black;border-radius: 0.25em;box-sizing: border-box;margin-bottom: 0.5em;}#sk-container-id-3 div.sk-estimator:hover {background-color: #d4ebff;}#sk-container-id-3 div.sk-parallel-item::after {content: \"\";width: 100%;border-bottom: 1px solid gray;flex-grow: 1;}#sk-container-id-3 div.sk-label:hover label.sk-toggleable__label {background-color: #d4ebff;}#sk-container-id-3 div.sk-serial::before {content: \"\";position: absolute;border-left: 1px solid gray;box-sizing: border-box;top: 0;bottom: 0;left: 50%;z-index: 0;}#sk-container-id-3 div.sk-serial {display: flex;flex-direction: column;align-items: center;background-color: white;padding-right: 0.2em;padding-left: 0.2em;position: relative;}#sk-container-id-3 div.sk-item {position: relative;z-index: 1;}#sk-container-id-3 div.sk-parallel {display: flex;align-items: stretch;justify-content: center;background-color: white;position: relative;}#sk-container-id-3 div.sk-item::before, #sk-container-id-3 div.sk-parallel-item::before {content: \"\";position: absolute;border-left: 1px solid gray;box-sizing: border-box;top: 0;bottom: 0;left: 50%;z-index: -1;}#sk-container-id-3 div.sk-parallel-item {display: flex;flex-direction: column;z-index: 1;position: relative;background-color: white;}#sk-container-id-3 div.sk-parallel-item:first-child::after {align-self: flex-end;width: 50%;}#sk-container-id-3 div.sk-parallel-item:last-child::after {align-self: flex-start;width: 50%;}#sk-container-id-3 div.sk-parallel-item:only-child::after {width: 0;}#sk-container-id-3 div.sk-dashed-wrapped {border: 1px dashed gray;margin: 0 0.4em 0.5em 0.4em;box-sizing: border-box;padding-bottom: 0.4em;background-color: white;}#sk-container-id-3 div.sk-label label {font-family: monospace;font-weight: bold;display: inline-block;line-height: 1.2em;}#sk-container-id-3 div.sk-label-container {text-align: center;}#sk-container-id-3 div.sk-container {/* jupyter's `normalize.less` sets `[hidden] { display: none; }` but bootstrap.min.css set `[hidden] { display: none !important; }` so we also need the `!important` here to be able to override the default hidden behavior on the sphinx rendered scikit-learn.org. See: https://github.com/scikit-learn/scikit-learn/issues/21755 */display: inline-block !important;position: relative;}#sk-container-id-3 div.sk-text-repr-fallback {display: none;}</style><div id=\"sk-container-id-3\" class=\"sk-top-container\"><div class=\"sk-text-repr-fallback\"><pre>LogisticRegression()</pre><b>In a Jupyter environment, please rerun this cell to show the HTML representation or trust the notebook. <br />On GitHub, the HTML representation is unable to render, please try loading this page with nbviewer.org.</b></div><div class=\"sk-container\" hidden><div class=\"sk-item\"><div class=\"sk-estimator sk-toggleable\"><input class=\"sk-toggleable__control sk-hidden--visually\" id=\"sk-estimator-id-3\" type=\"checkbox\" checked><label for=\"sk-estimator-id-3\" class=\"sk-toggleable__label sk-toggleable__label-arrow\">LogisticRegression</label><div class=\"sk-toggleable__content\"><pre>LogisticRegression()</pre></div></div></div></div></div>"
      ],
      "text/plain": [
       "LogisticRegression()"
      ]
     },
     "execution_count": 60,
     "metadata": {},
     "output_type": "execute_result"
    }
   ],
   "source": [
    "modi_lr = LogisticRegression()\n",
    "modi_lr.fit(modi_x_train,modi_y_train)"
   ]
  },
  {
   "cell_type": "code",
   "execution_count": 61,
   "id": "8fcd7d40",
   "metadata": {},
   "outputs": [
    {
     "data": {
      "text/plain": [
       "array([0., 0., 0., 0., 0., 0., 0., 0., 0., 0., 0., 0., 0., 0., 0., 0., 0.,\n",
       "       0., 0., 0., 0., 0., 0., 0., 0., 0., 0., 0., 0., 0., 0., 0., 0., 0.,\n",
       "       0., 0., 0., 0., 0., 0., 0., 0., 0., 0., 1., 0., 0., 0., 1., 0., 0.,\n",
       "       0., 0., 0., 0., 0., 0., 1., 0., 0., 0., 0., 0., 0., 0., 0., 0., 0.,\n",
       "       0., 0., 0., 0., 0., 0., 0., 0., 0., 0., 0., 0., 0., 0., 0., 0., 0.,\n",
       "       0., 0., 1., 0., 0., 0., 0., 0., 0., 0., 0., 0., 0., 0., 0., 0., 0.,\n",
       "       0., 0., 0., 0., 0., 0., 0., 0., 0., 0., 0., 0., 0., 1., 1., 0., 0.,\n",
       "       0., 0., 0., 0., 0., 0., 0., 0., 0., 0., 0., 0., 0., 0., 0., 0., 0.,\n",
       "       0., 0., 0., 0., 0., 0., 0., 0., 0., 0., 0., 0., 0., 0., 0., 0., 0.,\n",
       "       0., 0., 0., 0., 0., 0., 0., 0., 0., 0., 0., 0., 0., 0., 0., 0., 0.,\n",
       "       0., 0., 0., 0., 0., 0., 0., 0., 0., 0., 0., 0., 0., 0., 1., 0., 0.,\n",
       "       0., 0., 0., 0., 0., 1., 0., 0., 0., 0., 0., 0., 0., 0., 1., 0., 0.,\n",
       "       0., 0., 1., 0., 0., 0., 0., 0., 0., 0., 1., 0., 0., 0., 0., 0., 0.,\n",
       "       1., 0., 0., 0., 0., 0., 0., 0., 0., 0., 0., 0., 0., 0., 0., 0., 0.,\n",
       "       0., 0., 0., 0., 0., 0., 0., 0., 0., 0., 0., 0., 0., 0., 0., 0., 0.,\n",
       "       0.])"
      ]
     },
     "execution_count": 61,
     "metadata": {},
     "output_type": "execute_result"
    }
   ],
   "source": [
    "modi_lr_pred = modi_lr.predict(modi_x_test)\n",
    "modi_lr_pred"
   ]
  },
  {
   "cell_type": "code",
   "execution_count": 62,
   "id": "53cfb5c7",
   "metadata": {},
   "outputs": [
    {
     "name": "stdout",
     "output_type": "stream",
     "text": [
      "Training Score :  0.8065359477124183\n",
      "Testing Score  :  0.65234375\n"
     ]
    }
   ],
   "source": [
    "print(\"Training Score : \",modi_lr.score(modi_x_train,modi_y_train))\n",
    "print(\"Testing Score  : \",modi_lr.score(modi_x_test,modi_y_test))"
   ]
  },
  {
   "cell_type": "code",
   "execution_count": 63,
   "id": "82b4c930",
   "metadata": {},
   "outputs": [
    {
     "name": "stdout",
     "output_type": "stream",
     "text": [
      "Accuracy by lr  :  0.65234375\n",
      "Precision by lr :  0.8176229508196722\n",
      "Recall by lr    :  0.5594059405940595\n",
      "F1 score by lr  :  0.49466586821034886\n"
     ]
    }
   ],
   "source": [
    "modi_lr_acc = accuracy_score(modi_y_test,modi_lr_pred)\n",
    "modi_lr_pr  = precision_score(modi_y_test,modi_lr_pred,average='macro')\n",
    "modi_lr_rec = recall_score(modi_y_test,modi_lr_pred,average='macro')\n",
    "modi_lr_f1  = f1_score(modi_y_test,modi_lr_pred,average='macro')\n",
    "print('Accuracy by lr  : ', modi_lr_acc)\n",
    "print('Precision by lr : ', modi_lr_pr)\n",
    "print('Recall by lr    : ', modi_lr_rec)\n",
    "print('F1 score by lr  : ', modi_lr_f1)"
   ]
  },
  {
   "cell_type": "code",
   "execution_count": 64,
   "id": "dbb46080",
   "metadata": {},
   "outputs": [
    {
     "name": "stdout",
     "output_type": "stream",
     "text": [
      "[[155   0]\n",
      " [ 89  12]]\n",
      "              precision    recall  f1-score   support\n",
      "\n",
      "         0.0       0.64      1.00      0.78       155\n",
      "         1.0       1.00      0.12      0.21       101\n",
      "\n",
      "    accuracy                           0.65       256\n",
      "   macro avg       0.82      0.56      0.49       256\n",
      "weighted avg       0.78      0.65      0.55       256\n",
      "\n"
     ]
    }
   ],
   "source": [
    "print(confusion_matrix(modi_y_test,modi_lr_pred))\n",
    "print(classification_report(modi_y_test,modi_lr_pred))"
   ]
  },
  {
   "cell_type": "markdown",
   "id": "0e1fcce6",
   "metadata": {},
   "source": [
    "4. `KNN`"
   ]
  },
  {
   "cell_type": "code",
   "execution_count": 65,
   "id": "cbfd479c",
   "metadata": {},
   "outputs": [],
   "source": [
    "from sklearn.neighbors import KNeighborsClassifier"
   ]
  },
  {
   "cell_type": "code",
   "execution_count": 66,
   "id": "17dc91a2",
   "metadata": {},
   "outputs": [
    {
     "data": {
      "text/html": [
       "<style>#sk-container-id-4 {color: black;background-color: white;}#sk-container-id-4 pre{padding: 0;}#sk-container-id-4 div.sk-toggleable {background-color: white;}#sk-container-id-4 label.sk-toggleable__label {cursor: pointer;display: block;width: 100%;margin-bottom: 0;padding: 0.3em;box-sizing: border-box;text-align: center;}#sk-container-id-4 label.sk-toggleable__label-arrow:before {content: \"▸\";float: left;margin-right: 0.25em;color: #696969;}#sk-container-id-4 label.sk-toggleable__label-arrow:hover:before {color: black;}#sk-container-id-4 div.sk-estimator:hover label.sk-toggleable__label-arrow:before {color: black;}#sk-container-id-4 div.sk-toggleable__content {max-height: 0;max-width: 0;overflow: hidden;text-align: left;background-color: #f0f8ff;}#sk-container-id-4 div.sk-toggleable__content pre {margin: 0.2em;color: black;border-radius: 0.25em;background-color: #f0f8ff;}#sk-container-id-4 input.sk-toggleable__control:checked~div.sk-toggleable__content {max-height: 200px;max-width: 100%;overflow: auto;}#sk-container-id-4 input.sk-toggleable__control:checked~label.sk-toggleable__label-arrow:before {content: \"▾\";}#sk-container-id-4 div.sk-estimator input.sk-toggleable__control:checked~label.sk-toggleable__label {background-color: #d4ebff;}#sk-container-id-4 div.sk-label input.sk-toggleable__control:checked~label.sk-toggleable__label {background-color: #d4ebff;}#sk-container-id-4 input.sk-hidden--visually {border: 0;clip: rect(1px 1px 1px 1px);clip: rect(1px, 1px, 1px, 1px);height: 1px;margin: -1px;overflow: hidden;padding: 0;position: absolute;width: 1px;}#sk-container-id-4 div.sk-estimator {font-family: monospace;background-color: #f0f8ff;border: 1px dotted black;border-radius: 0.25em;box-sizing: border-box;margin-bottom: 0.5em;}#sk-container-id-4 div.sk-estimator:hover {background-color: #d4ebff;}#sk-container-id-4 div.sk-parallel-item::after {content: \"\";width: 100%;border-bottom: 1px solid gray;flex-grow: 1;}#sk-container-id-4 div.sk-label:hover label.sk-toggleable__label {background-color: #d4ebff;}#sk-container-id-4 div.sk-serial::before {content: \"\";position: absolute;border-left: 1px solid gray;box-sizing: border-box;top: 0;bottom: 0;left: 50%;z-index: 0;}#sk-container-id-4 div.sk-serial {display: flex;flex-direction: column;align-items: center;background-color: white;padding-right: 0.2em;padding-left: 0.2em;position: relative;}#sk-container-id-4 div.sk-item {position: relative;z-index: 1;}#sk-container-id-4 div.sk-parallel {display: flex;align-items: stretch;justify-content: center;background-color: white;position: relative;}#sk-container-id-4 div.sk-item::before, #sk-container-id-4 div.sk-parallel-item::before {content: \"\";position: absolute;border-left: 1px solid gray;box-sizing: border-box;top: 0;bottom: 0;left: 50%;z-index: -1;}#sk-container-id-4 div.sk-parallel-item {display: flex;flex-direction: column;z-index: 1;position: relative;background-color: white;}#sk-container-id-4 div.sk-parallel-item:first-child::after {align-self: flex-end;width: 50%;}#sk-container-id-4 div.sk-parallel-item:last-child::after {align-self: flex-start;width: 50%;}#sk-container-id-4 div.sk-parallel-item:only-child::after {width: 0;}#sk-container-id-4 div.sk-dashed-wrapped {border: 1px dashed gray;margin: 0 0.4em 0.5em 0.4em;box-sizing: border-box;padding-bottom: 0.4em;background-color: white;}#sk-container-id-4 div.sk-label label {font-family: monospace;font-weight: bold;display: inline-block;line-height: 1.2em;}#sk-container-id-4 div.sk-label-container {text-align: center;}#sk-container-id-4 div.sk-container {/* jupyter's `normalize.less` sets `[hidden] { display: none; }` but bootstrap.min.css set `[hidden] { display: none !important; }` so we also need the `!important` here to be able to override the default hidden behavior on the sphinx rendered scikit-learn.org. See: https://github.com/scikit-learn/scikit-learn/issues/21755 */display: inline-block !important;position: relative;}#sk-container-id-4 div.sk-text-repr-fallback {display: none;}</style><div id=\"sk-container-id-4\" class=\"sk-top-container\"><div class=\"sk-text-repr-fallback\"><pre>KNeighborsClassifier(n_neighbors=9)</pre><b>In a Jupyter environment, please rerun this cell to show the HTML representation or trust the notebook. <br />On GitHub, the HTML representation is unable to render, please try loading this page with nbviewer.org.</b></div><div class=\"sk-container\" hidden><div class=\"sk-item\"><div class=\"sk-estimator sk-toggleable\"><input class=\"sk-toggleable__control sk-hidden--visually\" id=\"sk-estimator-id-4\" type=\"checkbox\" checked><label for=\"sk-estimator-id-4\" class=\"sk-toggleable__label sk-toggleable__label-arrow\">KNeighborsClassifier</label><div class=\"sk-toggleable__content\"><pre>KNeighborsClassifier(n_neighbors=9)</pre></div></div></div></div></div>"
      ],
      "text/plain": [
       "KNeighborsClassifier(n_neighbors=9)"
      ]
     },
     "execution_count": 66,
     "metadata": {},
     "output_type": "execute_result"
    }
   ],
   "source": [
    "modi_knn = KNeighborsClassifier(n_neighbors=9)\n",
    "modi_knn.fit(modi_x_train,modi_y_train)"
   ]
  },
  {
   "cell_type": "code",
   "execution_count": 67,
   "id": "191e0e47",
   "metadata": {},
   "outputs": [
    {
     "data": {
      "text/plain": [
       "array([0., 0., 0., 0., 0., 1., 0., 1., 0., 0., 0., 0., 0., 0., 1., 1., 0.,\n",
       "       1., 1., 0., 1., 0., 1., 0., 1., 0., 1., 0., 0., 0., 1., 0., 0., 0.,\n",
       "       1., 0., 1., 0., 1., 0., 1., 0., 0., 0., 1., 0., 0., 0., 0., 1., 0.,\n",
       "       1., 0., 0., 1., 1., 1., 1., 0., 0., 0., 0., 1., 1., 0., 1., 0., 0.,\n",
       "       0., 1., 0., 0., 1., 0., 0., 0., 0., 1., 0., 0., 0., 0., 0., 0., 0.,\n",
       "       0., 0., 1., 0., 0., 0., 0., 0., 1., 0., 1., 0., 0., 1., 1., 1., 0.,\n",
       "       0., 1., 1., 1., 0., 1., 0., 0., 1., 0., 0., 0., 1., 1., 1., 0., 0.,\n",
       "       1., 1., 0., 0., 0., 0., 0., 0., 0., 1., 1., 1., 0., 1., 0., 0., 1.,\n",
       "       0., 1., 1., 0., 0., 0., 0., 0., 0., 0., 0., 1., 0., 0., 0., 0., 0.,\n",
       "       0., 0., 0., 0., 0., 0., 0., 1., 0., 1., 0., 0., 0., 0., 0., 1., 0.,\n",
       "       0., 0., 1., 0., 1., 0., 1., 0., 0., 0., 1., 0., 0., 0., 1., 0., 0.,\n",
       "       1., 1., 0., 0., 1., 1., 1., 0., 1., 0., 1., 0., 0., 0., 1., 0., 1.,\n",
       "       0., 0., 1., 0., 1., 0., 0., 0., 0., 0., 1., 1., 0., 1., 0., 1., 1.,\n",
       "       1., 0., 0., 0., 0., 0., 0., 0., 1., 0., 0., 0., 1., 0., 0., 0., 0.,\n",
       "       0., 0., 0., 0., 1., 0., 0., 0., 1., 0., 0., 0., 0., 0., 0., 1., 1.,\n",
       "       1.])"
      ]
     },
     "execution_count": 67,
     "metadata": {},
     "output_type": "execute_result"
    }
   ],
   "source": [
    "modi_knn_pred = modi_knn.predict(modi_x_test)\n",
    "modi_knn_pred"
   ]
  },
  {
   "cell_type": "code",
   "execution_count": 68,
   "id": "e29f9542",
   "metadata": {},
   "outputs": [
    {
     "name": "stdout",
     "output_type": "stream",
     "text": [
      "Training Score :  0.7712418300653595\n",
      "Testing Score  :  0.64453125\n"
     ]
    }
   ],
   "source": [
    "print(\"Training Score : \",modi_knn.score(modi_x_train,modi_y_train))\n",
    "print(\"Testing Score  : \",modi_knn.score(modi_x_test,modi_y_test))"
   ]
  },
  {
   "cell_type": "code",
   "execution_count": 69,
   "id": "897968ce",
   "metadata": {},
   "outputs": [
    {
     "name": "stdout",
     "output_type": "stream",
     "text": [
      "Accuracy by knn  :  0.64453125\n",
      "Precision by knn :  0.6227851605758583\n",
      "Recall by knn    :  0.6133184286170552\n",
      "F1 score by knn  :  0.614910323167204\n"
     ]
    }
   ],
   "source": [
    "modi_knn_acc = accuracy_score(modi_y_test,modi_knn_pred)\n",
    "modi_knn_pr  = precision_score(modi_y_test,modi_knn_pred,average='macro')\n",
    "modi_knn_rec = recall_score(modi_y_test,modi_knn_pred,average='macro')\n",
    "modi_knn_f1  = f1_score(modi_y_test,modi_knn_pred,average='macro')\n",
    "print('Accuracy by knn  : ', modi_knn_acc)\n",
    "print('Precision by knn : ', modi_knn_pr)\n",
    "print('Recall by knn    : ', modi_knn_rec)\n",
    "print('F1 score by knn  : ', modi_knn_f1)"
   ]
  },
  {
   "cell_type": "code",
   "execution_count": 70,
   "id": "ff54c524",
   "metadata": {},
   "outputs": [
    {
     "name": "stdout",
     "output_type": "stream",
     "text": [
      "[[118  37]\n",
      " [ 54  47]]\n",
      "              precision    recall  f1-score   support\n",
      "\n",
      "         0.0       0.69      0.76      0.72       155\n",
      "         1.0       0.56      0.47      0.51       101\n",
      "\n",
      "    accuracy                           0.64       256\n",
      "   macro avg       0.62      0.61      0.61       256\n",
      "weighted avg       0.64      0.64      0.64       256\n",
      "\n"
     ]
    }
   ],
   "source": [
    "print(confusion_matrix(modi_y_test,modi_knn_pred))\n",
    "print(classification_report(modi_y_test,modi_knn_pred))"
   ]
  },
  {
   "cell_type": "markdown",
   "id": "142cd882",
   "metadata": {},
   "source": [
    "5. `SVM`"
   ]
  },
  {
   "cell_type": "code",
   "execution_count": 71,
   "id": "3eec0abf",
   "metadata": {},
   "outputs": [
    {
     "data": {
      "text/html": [
       "<style>#sk-container-id-5 {color: black;background-color: white;}#sk-container-id-5 pre{padding: 0;}#sk-container-id-5 div.sk-toggleable {background-color: white;}#sk-container-id-5 label.sk-toggleable__label {cursor: pointer;display: block;width: 100%;margin-bottom: 0;padding: 0.3em;box-sizing: border-box;text-align: center;}#sk-container-id-5 label.sk-toggleable__label-arrow:before {content: \"▸\";float: left;margin-right: 0.25em;color: #696969;}#sk-container-id-5 label.sk-toggleable__label-arrow:hover:before {color: black;}#sk-container-id-5 div.sk-estimator:hover label.sk-toggleable__label-arrow:before {color: black;}#sk-container-id-5 div.sk-toggleable__content {max-height: 0;max-width: 0;overflow: hidden;text-align: left;background-color: #f0f8ff;}#sk-container-id-5 div.sk-toggleable__content pre {margin: 0.2em;color: black;border-radius: 0.25em;background-color: #f0f8ff;}#sk-container-id-5 input.sk-toggleable__control:checked~div.sk-toggleable__content {max-height: 200px;max-width: 100%;overflow: auto;}#sk-container-id-5 input.sk-toggleable__control:checked~label.sk-toggleable__label-arrow:before {content: \"▾\";}#sk-container-id-5 div.sk-estimator input.sk-toggleable__control:checked~label.sk-toggleable__label {background-color: #d4ebff;}#sk-container-id-5 div.sk-label input.sk-toggleable__control:checked~label.sk-toggleable__label {background-color: #d4ebff;}#sk-container-id-5 input.sk-hidden--visually {border: 0;clip: rect(1px 1px 1px 1px);clip: rect(1px, 1px, 1px, 1px);height: 1px;margin: -1px;overflow: hidden;padding: 0;position: absolute;width: 1px;}#sk-container-id-5 div.sk-estimator {font-family: monospace;background-color: #f0f8ff;border: 1px dotted black;border-radius: 0.25em;box-sizing: border-box;margin-bottom: 0.5em;}#sk-container-id-5 div.sk-estimator:hover {background-color: #d4ebff;}#sk-container-id-5 div.sk-parallel-item::after {content: \"\";width: 100%;border-bottom: 1px solid gray;flex-grow: 1;}#sk-container-id-5 div.sk-label:hover label.sk-toggleable__label {background-color: #d4ebff;}#sk-container-id-5 div.sk-serial::before {content: \"\";position: absolute;border-left: 1px solid gray;box-sizing: border-box;top: 0;bottom: 0;left: 50%;z-index: 0;}#sk-container-id-5 div.sk-serial {display: flex;flex-direction: column;align-items: center;background-color: white;padding-right: 0.2em;padding-left: 0.2em;position: relative;}#sk-container-id-5 div.sk-item {position: relative;z-index: 1;}#sk-container-id-5 div.sk-parallel {display: flex;align-items: stretch;justify-content: center;background-color: white;position: relative;}#sk-container-id-5 div.sk-item::before, #sk-container-id-5 div.sk-parallel-item::before {content: \"\";position: absolute;border-left: 1px solid gray;box-sizing: border-box;top: 0;bottom: 0;left: 50%;z-index: -1;}#sk-container-id-5 div.sk-parallel-item {display: flex;flex-direction: column;z-index: 1;position: relative;background-color: white;}#sk-container-id-5 div.sk-parallel-item:first-child::after {align-self: flex-end;width: 50%;}#sk-container-id-5 div.sk-parallel-item:last-child::after {align-self: flex-start;width: 50%;}#sk-container-id-5 div.sk-parallel-item:only-child::after {width: 0;}#sk-container-id-5 div.sk-dashed-wrapped {border: 1px dashed gray;margin: 0 0.4em 0.5em 0.4em;box-sizing: border-box;padding-bottom: 0.4em;background-color: white;}#sk-container-id-5 div.sk-label label {font-family: monospace;font-weight: bold;display: inline-block;line-height: 1.2em;}#sk-container-id-5 div.sk-label-container {text-align: center;}#sk-container-id-5 div.sk-container {/* jupyter's `normalize.less` sets `[hidden] { display: none; }` but bootstrap.min.css set `[hidden] { display: none !important; }` so we also need the `!important` here to be able to override the default hidden behavior on the sphinx rendered scikit-learn.org. See: https://github.com/scikit-learn/scikit-learn/issues/21755 */display: inline-block !important;position: relative;}#sk-container-id-5 div.sk-text-repr-fallback {display: none;}</style><div id=\"sk-container-id-5\" class=\"sk-top-container\"><div class=\"sk-text-repr-fallback\"><pre>SVC(kernel=&#x27;linear&#x27;, random_state=42)</pre><b>In a Jupyter environment, please rerun this cell to show the HTML representation or trust the notebook. <br />On GitHub, the HTML representation is unable to render, please try loading this page with nbviewer.org.</b></div><div class=\"sk-container\" hidden><div class=\"sk-item\"><div class=\"sk-estimator sk-toggleable\"><input class=\"sk-toggleable__control sk-hidden--visually\" id=\"sk-estimator-id-5\" type=\"checkbox\" checked><label for=\"sk-estimator-id-5\" class=\"sk-toggleable__label sk-toggleable__label-arrow\">SVC</label><div class=\"sk-toggleable__content\"><pre>SVC(kernel=&#x27;linear&#x27;, random_state=42)</pre></div></div></div></div></div>"
      ],
      "text/plain": [
       "SVC(kernel='linear', random_state=42)"
      ]
     },
     "execution_count": 71,
     "metadata": {},
     "output_type": "execute_result"
    }
   ],
   "source": [
    "from sklearn.svm import SVC\n",
    "modi_svm = SVC(kernel='linear', C=1.0, random_state=42)\n",
    "modi_svm.fit(modi_x_train,modi_y_train)"
   ]
  },
  {
   "cell_type": "code",
   "execution_count": 72,
   "id": "35d889c3",
   "metadata": {},
   "outputs": [
    {
     "data": {
      "text/plain": [
       "array([0., 0., 0., 0., 0., 1., 0., 0., 0., 0., 0., 0., 0., 0., 0., 0., 0.,\n",
       "       0., 0., 0., 1., 0., 1., 1., 0., 0., 0., 0., 0., 0., 1., 0., 0., 0.,\n",
       "       1., 0., 0., 0., 0., 0., 0., 0., 0., 0., 1., 0., 0., 0., 1., 0., 0.,\n",
       "       0., 0., 0., 1., 0., 0., 1., 0., 0., 0., 0., 1., 0., 0., 0., 0., 0.,\n",
       "       0., 0., 0., 0., 0., 0., 0., 0., 0., 1., 0., 0., 0., 0., 0., 0., 0.,\n",
       "       0., 0., 1., 0., 0., 0., 0., 0., 0., 0., 1., 1., 0., 0., 0., 0., 0.,\n",
       "       0., 1., 0., 0., 0., 0., 0., 0., 0., 0., 0., 0., 0., 1., 1., 0., 0.,\n",
       "       0., 0., 0., 0., 0., 0., 0., 0., 0., 1., 1., 1., 0., 0., 0., 0., 0.,\n",
       "       0., 0., 0., 0., 0., 0., 0., 0., 0., 0., 0., 0., 0., 0., 0., 0., 0.,\n",
       "       0., 0., 0., 1., 0., 0., 0., 0., 0., 1., 0., 0., 0., 0., 0., 0., 1.,\n",
       "       0., 0., 0., 0., 0., 0., 1., 0., 0., 0., 0., 0., 0., 0., 1., 0., 0.,\n",
       "       0., 0., 0., 0., 0., 1., 0., 0., 0., 0., 0., 0., 0., 0., 1., 0., 0.,\n",
       "       0., 0., 1., 0., 0., 0., 0., 0., 0., 0., 1., 1., 0., 0., 0., 0., 0.,\n",
       "       1., 0., 0., 1., 0., 0., 0., 1., 1., 0., 0., 0., 0., 0., 0., 0., 1.,\n",
       "       0., 0., 0., 0., 0., 0., 0., 0., 1., 0., 0., 0., 0., 0., 1., 0., 0.,\n",
       "       1.])"
      ]
     },
     "execution_count": 72,
     "metadata": {},
     "output_type": "execute_result"
    }
   ],
   "source": [
    "modi_svm_pred = modi_svm.predict(modi_x_test)\n",
    "modi_svm_pred"
   ]
  },
  {
   "cell_type": "code",
   "execution_count": 73,
   "id": "3e42ec46",
   "metadata": {},
   "outputs": [
    {
     "name": "stdout",
     "output_type": "stream",
     "text": [
      "Training Score :  0.9555555555555556\n",
      "Testing Score  :  0.6796875\n"
     ]
    }
   ],
   "source": [
    "print(\"Training Score : \",modi_svm.score(modi_x_train,modi_y_train))\n",
    "print(\"Testing Score  : \",modi_svm.score(modi_x_test,modi_y_test))"
   ]
  },
  {
   "cell_type": "code",
   "execution_count": 74,
   "id": "9b33e2b3",
   "metadata": {},
   "outputs": [
    {
     "name": "stdout",
     "output_type": "stream",
     "text": [
      "Accuracy by svm  :  0.6796875\n",
      "Precision by svm :  0.7058962542833511\n",
      "Recall by svm    :  0.6113062919195145\n",
      "F1 score by svm  :  0.5969278033794163\n"
     ]
    }
   ],
   "source": [
    "modi_svm_acc = accuracy_score(modi_y_test,modi_svm_pred)\n",
    "modi_svm_pr  = precision_score(modi_y_test,modi_svm_pred,average='macro')\n",
    "modi_svm_rec = recall_score(modi_y_test,modi_svm_pred,average='macro')\n",
    "modi_svm_f1  = f1_score(modi_y_test,modi_svm_pred,average='macro')\n",
    "print('Accuracy by svm  : ', modi_svm_acc)\n",
    "print('Precision by svm : ', modi_svm_pr)\n",
    "print('Recall by svm    : ', modi_svm_rec)\n",
    "print('F1 score by svm  : ', modi_svm_f1)"
   ]
  },
  {
   "cell_type": "code",
   "execution_count": 75,
   "id": "be3d8327",
   "metadata": {},
   "outputs": [
    {
     "name": "stdout",
     "output_type": "stream",
     "text": [
      "[[145  10]\n",
      " [ 72  29]]\n",
      "              precision    recall  f1-score   support\n",
      "\n",
      "         0.0       0.67      0.94      0.78       155\n",
      "         1.0       0.74      0.29      0.41       101\n",
      "\n",
      "    accuracy                           0.68       256\n",
      "   macro avg       0.71      0.61      0.60       256\n",
      "weighted avg       0.70      0.68      0.64       256\n",
      "\n"
     ]
    }
   ],
   "source": [
    "print(confusion_matrix(modi_y_test,modi_svm_pred))\n",
    "print(classification_report(modi_y_test,modi_svm_pred))"
   ]
  },
  {
   "cell_type": "markdown",
   "id": "6569b922",
   "metadata": {},
   "source": [
    "6. `Decision Tree`"
   ]
  },
  {
   "cell_type": "code",
   "execution_count": 76,
   "id": "d94f1e07",
   "metadata": {},
   "outputs": [
    {
     "data": {
      "text/html": [
       "<style>#sk-container-id-6 {color: black;background-color: white;}#sk-container-id-6 pre{padding: 0;}#sk-container-id-6 div.sk-toggleable {background-color: white;}#sk-container-id-6 label.sk-toggleable__label {cursor: pointer;display: block;width: 100%;margin-bottom: 0;padding: 0.3em;box-sizing: border-box;text-align: center;}#sk-container-id-6 label.sk-toggleable__label-arrow:before {content: \"▸\";float: left;margin-right: 0.25em;color: #696969;}#sk-container-id-6 label.sk-toggleable__label-arrow:hover:before {color: black;}#sk-container-id-6 div.sk-estimator:hover label.sk-toggleable__label-arrow:before {color: black;}#sk-container-id-6 div.sk-toggleable__content {max-height: 0;max-width: 0;overflow: hidden;text-align: left;background-color: #f0f8ff;}#sk-container-id-6 div.sk-toggleable__content pre {margin: 0.2em;color: black;border-radius: 0.25em;background-color: #f0f8ff;}#sk-container-id-6 input.sk-toggleable__control:checked~div.sk-toggleable__content {max-height: 200px;max-width: 100%;overflow: auto;}#sk-container-id-6 input.sk-toggleable__control:checked~label.sk-toggleable__label-arrow:before {content: \"▾\";}#sk-container-id-6 div.sk-estimator input.sk-toggleable__control:checked~label.sk-toggleable__label {background-color: #d4ebff;}#sk-container-id-6 div.sk-label input.sk-toggleable__control:checked~label.sk-toggleable__label {background-color: #d4ebff;}#sk-container-id-6 input.sk-hidden--visually {border: 0;clip: rect(1px 1px 1px 1px);clip: rect(1px, 1px, 1px, 1px);height: 1px;margin: -1px;overflow: hidden;padding: 0;position: absolute;width: 1px;}#sk-container-id-6 div.sk-estimator {font-family: monospace;background-color: #f0f8ff;border: 1px dotted black;border-radius: 0.25em;box-sizing: border-box;margin-bottom: 0.5em;}#sk-container-id-6 div.sk-estimator:hover {background-color: #d4ebff;}#sk-container-id-6 div.sk-parallel-item::after {content: \"\";width: 100%;border-bottom: 1px solid gray;flex-grow: 1;}#sk-container-id-6 div.sk-label:hover label.sk-toggleable__label {background-color: #d4ebff;}#sk-container-id-6 div.sk-serial::before {content: \"\";position: absolute;border-left: 1px solid gray;box-sizing: border-box;top: 0;bottom: 0;left: 50%;z-index: 0;}#sk-container-id-6 div.sk-serial {display: flex;flex-direction: column;align-items: center;background-color: white;padding-right: 0.2em;padding-left: 0.2em;position: relative;}#sk-container-id-6 div.sk-item {position: relative;z-index: 1;}#sk-container-id-6 div.sk-parallel {display: flex;align-items: stretch;justify-content: center;background-color: white;position: relative;}#sk-container-id-6 div.sk-item::before, #sk-container-id-6 div.sk-parallel-item::before {content: \"\";position: absolute;border-left: 1px solid gray;box-sizing: border-box;top: 0;bottom: 0;left: 50%;z-index: -1;}#sk-container-id-6 div.sk-parallel-item {display: flex;flex-direction: column;z-index: 1;position: relative;background-color: white;}#sk-container-id-6 div.sk-parallel-item:first-child::after {align-self: flex-end;width: 50%;}#sk-container-id-6 div.sk-parallel-item:last-child::after {align-self: flex-start;width: 50%;}#sk-container-id-6 div.sk-parallel-item:only-child::after {width: 0;}#sk-container-id-6 div.sk-dashed-wrapped {border: 1px dashed gray;margin: 0 0.4em 0.5em 0.4em;box-sizing: border-box;padding-bottom: 0.4em;background-color: white;}#sk-container-id-6 div.sk-label label {font-family: monospace;font-weight: bold;display: inline-block;line-height: 1.2em;}#sk-container-id-6 div.sk-label-container {text-align: center;}#sk-container-id-6 div.sk-container {/* jupyter's `normalize.less` sets `[hidden] { display: none; }` but bootstrap.min.css set `[hidden] { display: none !important; }` so we also need the `!important` here to be able to override the default hidden behavior on the sphinx rendered scikit-learn.org. See: https://github.com/scikit-learn/scikit-learn/issues/21755 */display: inline-block !important;position: relative;}#sk-container-id-6 div.sk-text-repr-fallback {display: none;}</style><div id=\"sk-container-id-6\" class=\"sk-top-container\"><div class=\"sk-text-repr-fallback\"><pre>DecisionTreeClassifier()</pre><b>In a Jupyter environment, please rerun this cell to show the HTML representation or trust the notebook. <br />On GitHub, the HTML representation is unable to render, please try loading this page with nbviewer.org.</b></div><div class=\"sk-container\" hidden><div class=\"sk-item\"><div class=\"sk-estimator sk-toggleable\"><input class=\"sk-toggleable__control sk-hidden--visually\" id=\"sk-estimator-id-6\" type=\"checkbox\" checked><label for=\"sk-estimator-id-6\" class=\"sk-toggleable__label sk-toggleable__label-arrow\">DecisionTreeClassifier</label><div class=\"sk-toggleable__content\"><pre>DecisionTreeClassifier()</pre></div></div></div></div></div>"
      ],
      "text/plain": [
       "DecisionTreeClassifier()"
      ]
     },
     "execution_count": 76,
     "metadata": {},
     "output_type": "execute_result"
    }
   ],
   "source": [
    "from sklearn.tree import DecisionTreeClassifier\n",
    "modi_dt = DecisionTreeClassifier()\n",
    "modi_dt.fit(modi_x_train,modi_y_train)"
   ]
  },
  {
   "cell_type": "code",
   "execution_count": 77,
   "id": "16f829f3",
   "metadata": {},
   "outputs": [
    {
     "data": {
      "text/plain": [
       "array([0., 1., 0., 0., 0., 1., 1., 1., 0., 0., 1., 0., 0., 0., 0., 0., 0.,\n",
       "       0., 0., 0., 0., 0., 1., 1., 0., 0., 0., 0., 1., 0., 0., 0., 0., 0.,\n",
       "       1., 0., 0., 0., 1., 0., 0., 1., 0., 0., 1., 0., 0., 0., 1., 1., 0.,\n",
       "       0., 0., 0., 1., 1., 0., 1., 0., 0., 0., 0., 1., 1., 0., 0., 0., 0.,\n",
       "       0., 0., 0., 0., 0., 0., 0., 0., 1., 0., 0., 0., 1., 0., 0., 0., 0.,\n",
       "       0., 0., 1., 0., 0., 0., 1., 1., 0., 0., 0., 0., 0., 0., 0., 1., 0.,\n",
       "       0., 1., 0., 1., 0., 1., 1., 0., 1., 0., 1., 0., 0., 1., 1., 0., 0.,\n",
       "       0., 0., 0., 1., 0., 0., 0., 0., 0., 0., 0., 1., 1., 1., 0., 1., 0.,\n",
       "       0., 0., 0., 0., 0., 0., 0., 0., 0., 0., 1., 0., 1., 0., 0., 0., 0.,\n",
       "       0., 0., 0., 0., 0., 1., 0., 1., 0., 1., 1., 0., 0., 1., 0., 1., 0.,\n",
       "       1., 0., 0., 0., 0., 0., 1., 0., 1., 0., 0., 0., 0., 0., 1., 0., 0.,\n",
       "       0., 1., 0., 0., 1., 1., 1., 0., 0., 0., 1., 0., 0., 0., 1., 0., 0.,\n",
       "       0., 0., 1., 0., 1., 0., 0., 0., 0., 0., 1., 1., 0., 0., 1., 0., 0.,\n",
       "       1., 0., 0., 0., 0., 0., 0., 0., 1., 0., 1., 0., 1., 0., 1., 1., 0.,\n",
       "       0., 0., 0., 0., 0., 0., 1., 0., 1., 1., 0., 0., 0., 0., 0., 0., 0.,\n",
       "       0.])"
      ]
     },
     "execution_count": 77,
     "metadata": {},
     "output_type": "execute_result"
    }
   ],
   "source": [
    "modi_dt_pred = modi_dt.predict(modi_x_test)\n",
    "modi_dt_pred"
   ]
  },
  {
   "cell_type": "code",
   "execution_count": 78,
   "id": "be041458",
   "metadata": {},
   "outputs": [
    {
     "name": "stdout",
     "output_type": "stream",
     "text": [
      "Training Score :  1.0\n",
      "Testing Score  :  0.67578125\n"
     ]
    }
   ],
   "source": [
    "print(\"Training Score : \",modi_dt.score(modi_x_train,modi_y_train))\n",
    "print(\"Testing Score  : \",modi_dt.score(modi_x_test,modi_y_test))"
   ]
  },
  {
   "cell_type": "code",
   "execution_count": 79,
   "id": "4a4dfc83",
   "metadata": {},
   "outputs": [
    {
     "name": "stdout",
     "output_type": "stream",
     "text": [
      "Accuracy by dt  :  0.67578125\n",
      "Precision by dt :  0.6610599078341014\n",
      "Recall by dt    :  0.6339508144362823\n",
      "F1 score by dt  :  0.6356090617550719\n"
     ]
    }
   ],
   "source": [
    "modi_dt_acc = accuracy_score(modi_y_test,modi_dt_pred)\n",
    "modi_dt_pr  = precision_score(modi_y_test,modi_dt_pred,average='macro')\n",
    "modi_dt_rec = recall_score(modi_y_test,modi_dt_pred,average='macro')\n",
    "modi_dt_f1  = f1_score(modi_y_test,modi_dt_pred,average='macro')\n",
    "print('Accuracy by dt  : ', modi_dt_acc)\n",
    "print('Precision by dt : ', modi_dt_pr)\n",
    "print('Recall by dt    : ', modi_dt_rec)\n",
    "print('F1 score by dt  : ', modi_dt_f1)"
   ]
  },
  {
   "cell_type": "code",
   "execution_count": 80,
   "id": "80a9e9c9",
   "metadata": {},
   "outputs": [
    {
     "name": "stdout",
     "output_type": "stream",
     "text": [
      "[[129  26]\n",
      " [ 57  44]]\n",
      "              precision    recall  f1-score   support\n",
      "\n",
      "         0.0       0.69      0.83      0.76       155\n",
      "         1.0       0.63      0.44      0.51       101\n",
      "\n",
      "    accuracy                           0.68       256\n",
      "   macro avg       0.66      0.63      0.64       256\n",
      "weighted avg       0.67      0.68      0.66       256\n",
      "\n"
     ]
    }
   ],
   "source": [
    "print(confusion_matrix(modi_y_test,modi_dt_pred))\n",
    "print(classification_report(modi_y_test,modi_dt_pred))"
   ]
  },
  {
   "cell_type": "markdown",
   "id": "b814abb2",
   "metadata": {},
   "source": [
    "7. `Random Forest`"
   ]
  },
  {
   "cell_type": "code",
   "execution_count": 81,
   "id": "cc5599d5",
   "metadata": {},
   "outputs": [
    {
     "data": {
      "text/html": [
       "<style>#sk-container-id-7 {color: black;background-color: white;}#sk-container-id-7 pre{padding: 0;}#sk-container-id-7 div.sk-toggleable {background-color: white;}#sk-container-id-7 label.sk-toggleable__label {cursor: pointer;display: block;width: 100%;margin-bottom: 0;padding: 0.3em;box-sizing: border-box;text-align: center;}#sk-container-id-7 label.sk-toggleable__label-arrow:before {content: \"▸\";float: left;margin-right: 0.25em;color: #696969;}#sk-container-id-7 label.sk-toggleable__label-arrow:hover:before {color: black;}#sk-container-id-7 div.sk-estimator:hover label.sk-toggleable__label-arrow:before {color: black;}#sk-container-id-7 div.sk-toggleable__content {max-height: 0;max-width: 0;overflow: hidden;text-align: left;background-color: #f0f8ff;}#sk-container-id-7 div.sk-toggleable__content pre {margin: 0.2em;color: black;border-radius: 0.25em;background-color: #f0f8ff;}#sk-container-id-7 input.sk-toggleable__control:checked~div.sk-toggleable__content {max-height: 200px;max-width: 100%;overflow: auto;}#sk-container-id-7 input.sk-toggleable__control:checked~label.sk-toggleable__label-arrow:before {content: \"▾\";}#sk-container-id-7 div.sk-estimator input.sk-toggleable__control:checked~label.sk-toggleable__label {background-color: #d4ebff;}#sk-container-id-7 div.sk-label input.sk-toggleable__control:checked~label.sk-toggleable__label {background-color: #d4ebff;}#sk-container-id-7 input.sk-hidden--visually {border: 0;clip: rect(1px 1px 1px 1px);clip: rect(1px, 1px, 1px, 1px);height: 1px;margin: -1px;overflow: hidden;padding: 0;position: absolute;width: 1px;}#sk-container-id-7 div.sk-estimator {font-family: monospace;background-color: #f0f8ff;border: 1px dotted black;border-radius: 0.25em;box-sizing: border-box;margin-bottom: 0.5em;}#sk-container-id-7 div.sk-estimator:hover {background-color: #d4ebff;}#sk-container-id-7 div.sk-parallel-item::after {content: \"\";width: 100%;border-bottom: 1px solid gray;flex-grow: 1;}#sk-container-id-7 div.sk-label:hover label.sk-toggleable__label {background-color: #d4ebff;}#sk-container-id-7 div.sk-serial::before {content: \"\";position: absolute;border-left: 1px solid gray;box-sizing: border-box;top: 0;bottom: 0;left: 50%;z-index: 0;}#sk-container-id-7 div.sk-serial {display: flex;flex-direction: column;align-items: center;background-color: white;padding-right: 0.2em;padding-left: 0.2em;position: relative;}#sk-container-id-7 div.sk-item {position: relative;z-index: 1;}#sk-container-id-7 div.sk-parallel {display: flex;align-items: stretch;justify-content: center;background-color: white;position: relative;}#sk-container-id-7 div.sk-item::before, #sk-container-id-7 div.sk-parallel-item::before {content: \"\";position: absolute;border-left: 1px solid gray;box-sizing: border-box;top: 0;bottom: 0;left: 50%;z-index: -1;}#sk-container-id-7 div.sk-parallel-item {display: flex;flex-direction: column;z-index: 1;position: relative;background-color: white;}#sk-container-id-7 div.sk-parallel-item:first-child::after {align-self: flex-end;width: 50%;}#sk-container-id-7 div.sk-parallel-item:last-child::after {align-self: flex-start;width: 50%;}#sk-container-id-7 div.sk-parallel-item:only-child::after {width: 0;}#sk-container-id-7 div.sk-dashed-wrapped {border: 1px dashed gray;margin: 0 0.4em 0.5em 0.4em;box-sizing: border-box;padding-bottom: 0.4em;background-color: white;}#sk-container-id-7 div.sk-label label {font-family: monospace;font-weight: bold;display: inline-block;line-height: 1.2em;}#sk-container-id-7 div.sk-label-container {text-align: center;}#sk-container-id-7 div.sk-container {/* jupyter's `normalize.less` sets `[hidden] { display: none; }` but bootstrap.min.css set `[hidden] { display: none !important; }` so we also need the `!important` here to be able to override the default hidden behavior on the sphinx rendered scikit-learn.org. See: https://github.com/scikit-learn/scikit-learn/issues/21755 */display: inline-block !important;position: relative;}#sk-container-id-7 div.sk-text-repr-fallback {display: none;}</style><div id=\"sk-container-id-7\" class=\"sk-top-container\"><div class=\"sk-text-repr-fallback\"><pre>RandomForestClassifier(random_state=42)</pre><b>In a Jupyter environment, please rerun this cell to show the HTML representation or trust the notebook. <br />On GitHub, the HTML representation is unable to render, please try loading this page with nbviewer.org.</b></div><div class=\"sk-container\" hidden><div class=\"sk-item\"><div class=\"sk-estimator sk-toggleable\"><input class=\"sk-toggleable__control sk-hidden--visually\" id=\"sk-estimator-id-7\" type=\"checkbox\" checked><label for=\"sk-estimator-id-7\" class=\"sk-toggleable__label sk-toggleable__label-arrow\">RandomForestClassifier</label><div class=\"sk-toggleable__content\"><pre>RandomForestClassifier(random_state=42)</pre></div></div></div></div></div>"
      ],
      "text/plain": [
       "RandomForestClassifier(random_state=42)"
      ]
     },
     "execution_count": 81,
     "metadata": {},
     "output_type": "execute_result"
    }
   ],
   "source": [
    "from sklearn.ensemble import RandomForestClassifier\n",
    "modi_rf = RandomForestClassifier(n_estimators=100, random_state=42)\n",
    "modi_rf.fit(modi_x_train,modi_y_train)"
   ]
  },
  {
   "cell_type": "code",
   "execution_count": 82,
   "id": "81ee9b61",
   "metadata": {},
   "outputs": [
    {
     "data": {
      "text/plain": [
       "array([0., 0., 0., 0., 0., 1., 0., 1., 0., 0., 0., 0., 0., 0., 0., 0., 0.,\n",
       "       0., 0., 0., 0., 0., 0., 0., 0., 0., 0., 0., 1., 0., 0., 1., 0., 0.,\n",
       "       1., 0., 0., 0., 1., 0., 0., 0., 0., 0., 1., 0., 0., 0., 1., 1., 0.,\n",
       "       0., 0., 0., 1., 0., 0., 1., 0., 0., 0., 0., 1., 0., 0., 0., 0., 0.,\n",
       "       0., 0., 0., 0., 1., 0., 0., 0., 0., 0., 0., 0., 0., 0., 0., 0., 0.,\n",
       "       0., 0., 1., 0., 0., 0., 0., 0., 0., 0., 0., 0., 0., 0., 0., 0., 0.,\n",
       "       0., 1., 0., 0., 0., 0., 0., 0., 1., 0., 0., 0., 0., 1., 1., 0., 0.,\n",
       "       0., 0., 0., 0., 0., 0., 0., 0., 0., 0., 0., 1., 0., 1., 0., 0., 0.,\n",
       "       0., 0., 0., 0., 0., 0., 0., 0., 0., 0., 0., 0., 1., 0., 0., 0., 0.,\n",
       "       0., 0., 0., 0., 0., 0., 0., 0., 0., 1., 0., 0., 0., 0., 0., 0., 0.,\n",
       "       0., 0., 0., 0., 0., 0., 1., 0., 0., 0., 0., 0., 0., 0., 1., 0., 0.,\n",
       "       0., 0., 0., 0., 0., 1., 0., 0., 0., 0., 0., 0., 0., 0., 1., 0., 0.,\n",
       "       0., 0., 1., 0., 0., 0., 0., 0., 0., 0., 1., 1., 0., 0., 0., 0., 0.,\n",
       "       1., 0., 0., 1., 0., 0., 0., 0., 0., 0., 0., 0., 0., 0., 0., 0., 0.,\n",
       "       0., 0., 0., 0., 0., 0., 1., 0., 1., 0., 0., 0., 0., 0., 0., 0., 0.,\n",
       "       0.])"
      ]
     },
     "execution_count": 82,
     "metadata": {},
     "output_type": "execute_result"
    }
   ],
   "source": [
    "modi_rf_pred = modi_rf.predict(modi_x_test)\n",
    "modi_rf_pred"
   ]
  },
  {
   "cell_type": "code",
   "execution_count": 83,
   "id": "7b6ff12c",
   "metadata": {},
   "outputs": [
    {
     "name": "stdout",
     "output_type": "stream",
     "text": [
      "Training Score :  1.0\n",
      "Testing Score  :  0.703125\n"
     ]
    }
   ],
   "source": [
    "print(\"Training Score : \",modi_rf.score(modi_x_train,modi_y_train))\n",
    "print(\"Testing Score  : \",modi_rf.score(modi_x_test,modi_y_test))"
   ]
  },
  {
   "cell_type": "code",
   "execution_count": 84,
   "id": "8c3a42c4",
   "metadata": {},
   "outputs": [
    {
     "name": "stdout",
     "output_type": "stream",
     "text": [
      "Accuracy by rf  :  0.703125\n",
      "Precision by rf :  0.7779589618154641\n",
      "Recall by rf    :  0.6306611306291919\n",
      "F1 score by rf  :  0.6158888099186607\n"
     ]
    }
   ],
   "source": [
    "modi_rf_acc = accuracy_score(modi_y_test,modi_rf_pred)\n",
    "modi_rf_pr  = precision_score(modi_y_test,modi_rf_pred,average='macro')\n",
    "modi_rf_rec = recall_score(modi_y_test,modi_rf_pred,average='macro')\n",
    "modi_rf_f1  = f1_score(modi_y_test,modi_rf_pred,average='macro')\n",
    "print('Accuracy by rf  : ', modi_rf_acc)\n",
    "print('Precision by rf : ', modi_rf_pr)\n",
    "print('Recall by rf    : ', modi_rf_rec)\n",
    "print('F1 score by rf  : ', modi_rf_f1)"
   ]
  },
  {
   "cell_type": "code",
   "execution_count": 85,
   "id": "bdc73535",
   "metadata": {},
   "outputs": [
    {
     "name": "stdout",
     "output_type": "stream",
     "text": [
      "[[151   4]\n",
      " [ 72  29]]\n",
      "              precision    recall  f1-score   support\n",
      "\n",
      "         0.0       0.68      0.97      0.80       155\n",
      "         1.0       0.88      0.29      0.43       101\n",
      "\n",
      "    accuracy                           0.70       256\n",
      "   macro avg       0.78      0.63      0.62       256\n",
      "weighted avg       0.76      0.70      0.65       256\n",
      "\n"
     ]
    }
   ],
   "source": [
    "print(confusion_matrix(modi_y_test,modi_rf_pred))\n",
    "print(classification_report(modi_y_test,modi_rf_pred))"
   ]
  },
  {
   "cell_type": "code",
   "execution_count": null,
   "id": "02c9b12f",
   "metadata": {},
   "outputs": [],
   "source": []
  },
  {
   "cell_type": "markdown",
   "id": "3392b308",
   "metadata": {},
   "source": [
    "# RG SPLITING DATA INTO TRAINING AND TESTING"
   ]
  },
  {
   "cell_type": "code",
   "execution_count": 86,
   "id": "604874c4",
   "metadata": {},
   "outputs": [
    {
     "name": "stdout",
     "output_type": "stream",
     "text": [
      "(772, 4809)\n",
      "(258, 4809)\n",
      "(772,)\n",
      "(258,)\n"
     ]
    }
   ],
   "source": [
    "rg_x_train,rg_x_test,rg_y_train,rg_y_test = train_test_split(rg_x,rg_y,test_size=0.25,\n",
    "                                                             random_state=42)\n",
    "print(rg_x_train.shape)\n",
    "print(rg_x_test.shape)\n",
    "print(rg_y_train.shape)\n",
    "print(rg_y_test.shape)"
   ]
  },
  {
   "cell_type": "code",
   "execution_count": 87,
   "id": "dbb6f457",
   "metadata": {},
   "outputs": [
    {
     "data": {
      "text/plain": [
       "array([[0., 0., 0., ..., 0., 0., 0.],\n",
       "       [0., 0., 0., ..., 0., 0., 0.],\n",
       "       [0., 0., 0., ..., 0., 0., 0.],\n",
       "       ...,\n",
       "       [0., 0., 0., ..., 0., 0., 0.],\n",
       "       [0., 0., 0., ..., 0., 0., 0.],\n",
       "       [0., 0., 0., ..., 0., 0., 0.]])"
      ]
     },
     "execution_count": 87,
     "metadata": {},
     "output_type": "execute_result"
    }
   ],
   "source": [
    "rg_x"
   ]
  },
  {
   "cell_type": "code",
   "execution_count": 88,
   "id": "ff967b4c",
   "metadata": {},
   "outputs": [
    {
     "data": {
      "text/plain": [
       "0       1.0\n",
       "1       1.0\n",
       "2       0.0\n",
       "3       1.0\n",
       "4       1.0\n",
       "       ... \n",
       "1025    0.0\n",
       "1026    0.0\n",
       "1027    0.0\n",
       "1028    0.0\n",
       "1029    0.0\n",
       "Name: Emotion_f, Length: 1030, dtype: float64"
      ]
     },
     "execution_count": 88,
     "metadata": {},
     "output_type": "execute_result"
    }
   ],
   "source": [
    "rg_y"
   ]
  },
  {
   "cell_type": "markdown",
   "id": "daed72fa",
   "metadata": {},
   "source": [
    "## Model Training"
   ]
  },
  {
   "cell_type": "markdown",
   "id": "75096eeb",
   "metadata": {},
   "source": [
    "### Rahul Gandhi"
   ]
  },
  {
   "cell_type": "markdown",
   "id": "4de60e5d",
   "metadata": {},
   "source": [
    "1. `Multinomial Naive Bayes`"
   ]
  },
  {
   "cell_type": "code",
   "execution_count": 89,
   "id": "cac21fad",
   "metadata": {},
   "outputs": [
    {
     "data": {
      "text/html": [
       "<style>#sk-container-id-8 {color: black;background-color: white;}#sk-container-id-8 pre{padding: 0;}#sk-container-id-8 div.sk-toggleable {background-color: white;}#sk-container-id-8 label.sk-toggleable__label {cursor: pointer;display: block;width: 100%;margin-bottom: 0;padding: 0.3em;box-sizing: border-box;text-align: center;}#sk-container-id-8 label.sk-toggleable__label-arrow:before {content: \"▸\";float: left;margin-right: 0.25em;color: #696969;}#sk-container-id-8 label.sk-toggleable__label-arrow:hover:before {color: black;}#sk-container-id-8 div.sk-estimator:hover label.sk-toggleable__label-arrow:before {color: black;}#sk-container-id-8 div.sk-toggleable__content {max-height: 0;max-width: 0;overflow: hidden;text-align: left;background-color: #f0f8ff;}#sk-container-id-8 div.sk-toggleable__content pre {margin: 0.2em;color: black;border-radius: 0.25em;background-color: #f0f8ff;}#sk-container-id-8 input.sk-toggleable__control:checked~div.sk-toggleable__content {max-height: 200px;max-width: 100%;overflow: auto;}#sk-container-id-8 input.sk-toggleable__control:checked~label.sk-toggleable__label-arrow:before {content: \"▾\";}#sk-container-id-8 div.sk-estimator input.sk-toggleable__control:checked~label.sk-toggleable__label {background-color: #d4ebff;}#sk-container-id-8 div.sk-label input.sk-toggleable__control:checked~label.sk-toggleable__label {background-color: #d4ebff;}#sk-container-id-8 input.sk-hidden--visually {border: 0;clip: rect(1px 1px 1px 1px);clip: rect(1px, 1px, 1px, 1px);height: 1px;margin: -1px;overflow: hidden;padding: 0;position: absolute;width: 1px;}#sk-container-id-8 div.sk-estimator {font-family: monospace;background-color: #f0f8ff;border: 1px dotted black;border-radius: 0.25em;box-sizing: border-box;margin-bottom: 0.5em;}#sk-container-id-8 div.sk-estimator:hover {background-color: #d4ebff;}#sk-container-id-8 div.sk-parallel-item::after {content: \"\";width: 100%;border-bottom: 1px solid gray;flex-grow: 1;}#sk-container-id-8 div.sk-label:hover label.sk-toggleable__label {background-color: #d4ebff;}#sk-container-id-8 div.sk-serial::before {content: \"\";position: absolute;border-left: 1px solid gray;box-sizing: border-box;top: 0;bottom: 0;left: 50%;z-index: 0;}#sk-container-id-8 div.sk-serial {display: flex;flex-direction: column;align-items: center;background-color: white;padding-right: 0.2em;padding-left: 0.2em;position: relative;}#sk-container-id-8 div.sk-item {position: relative;z-index: 1;}#sk-container-id-8 div.sk-parallel {display: flex;align-items: stretch;justify-content: center;background-color: white;position: relative;}#sk-container-id-8 div.sk-item::before, #sk-container-id-8 div.sk-parallel-item::before {content: \"\";position: absolute;border-left: 1px solid gray;box-sizing: border-box;top: 0;bottom: 0;left: 50%;z-index: -1;}#sk-container-id-8 div.sk-parallel-item {display: flex;flex-direction: column;z-index: 1;position: relative;background-color: white;}#sk-container-id-8 div.sk-parallel-item:first-child::after {align-self: flex-end;width: 50%;}#sk-container-id-8 div.sk-parallel-item:last-child::after {align-self: flex-start;width: 50%;}#sk-container-id-8 div.sk-parallel-item:only-child::after {width: 0;}#sk-container-id-8 div.sk-dashed-wrapped {border: 1px dashed gray;margin: 0 0.4em 0.5em 0.4em;box-sizing: border-box;padding-bottom: 0.4em;background-color: white;}#sk-container-id-8 div.sk-label label {font-family: monospace;font-weight: bold;display: inline-block;line-height: 1.2em;}#sk-container-id-8 div.sk-label-container {text-align: center;}#sk-container-id-8 div.sk-container {/* jupyter's `normalize.less` sets `[hidden] { display: none; }` but bootstrap.min.css set `[hidden] { display: none !important; }` so we also need the `!important` here to be able to override the default hidden behavior on the sphinx rendered scikit-learn.org. See: https://github.com/scikit-learn/scikit-learn/issues/21755 */display: inline-block !important;position: relative;}#sk-container-id-8 div.sk-text-repr-fallback {display: none;}</style><div id=\"sk-container-id-8\" class=\"sk-top-container\"><div class=\"sk-text-repr-fallback\"><pre>MultinomialNB()</pre><b>In a Jupyter environment, please rerun this cell to show the HTML representation or trust the notebook. <br />On GitHub, the HTML representation is unable to render, please try loading this page with nbviewer.org.</b></div><div class=\"sk-container\" hidden><div class=\"sk-item\"><div class=\"sk-estimator sk-toggleable\"><input class=\"sk-toggleable__control sk-hidden--visually\" id=\"sk-estimator-id-8\" type=\"checkbox\" checked><label for=\"sk-estimator-id-8\" class=\"sk-toggleable__label sk-toggleable__label-arrow\">MultinomialNB</label><div class=\"sk-toggleable__content\"><pre>MultinomialNB()</pre></div></div></div></div></div>"
      ],
      "text/plain": [
       "MultinomialNB()"
      ]
     },
     "execution_count": 89,
     "metadata": {},
     "output_type": "execute_result"
    }
   ],
   "source": [
    "rg_mnb = MultinomialNB()\n",
    "rg_mnb.fit(rg_x_train,rg_y_train)"
   ]
  },
  {
   "cell_type": "code",
   "execution_count": 90,
   "id": "fb185a3d",
   "metadata": {},
   "outputs": [
    {
     "data": {
      "text/plain": [
       "array([0., 0., 0., 0., 0., 0., 0., 0., 0., 0., 0., 0., 0., 0., 0., 0., 0.,\n",
       "       0., 0., 0., 0., 0., 0., 0., 0., 0., 0., 0., 1., 0., 0., 0., 0., 0.,\n",
       "       0., 0., 0., 0., 0., 0., 0., 0., 0., 0., 0., 0., 0., 0., 0., 0., 0.,\n",
       "       0., 0., 0., 0., 0., 0., 0., 0., 0., 0., 0., 0., 0., 0., 0., 0., 0.,\n",
       "       0., 0., 0., 0., 0., 0., 0., 0., 0., 0., 0., 0., 0., 0., 0., 0., 0.,\n",
       "       0., 0., 0., 0., 0., 0., 0., 0., 0., 0., 0., 0., 0., 0., 0., 0., 0.,\n",
       "       0., 0., 0., 0., 0., 0., 0., 0., 0., 0., 0., 0., 0., 0., 0., 0., 0.,\n",
       "       0., 0., 0., 0., 0., 0., 0., 0., 0., 0., 0., 0., 0., 0., 0., 0., 0.,\n",
       "       0., 0., 0., 0., 0., 0., 0., 0., 0., 0., 0., 0., 0., 0., 0., 0., 0.,\n",
       "       0., 0., 0., 0., 0., 0., 0., 0., 0., 0., 0., 0., 0., 0., 0., 0., 0.,\n",
       "       0., 0., 0., 0., 0., 0., 0., 0., 0., 0., 0., 0., 0., 0., 0., 0., 0.,\n",
       "       0., 0., 0., 0., 0., 0., 0., 0., 0., 0., 0., 0., 0., 0., 0., 0., 0.,\n",
       "       0., 0., 0., 0., 0., 0., 0., 0., 0., 0., 0., 0., 0., 0., 0., 0., 0.,\n",
       "       0., 0., 0., 0., 0., 0., 0., 0., 0., 0., 0., 0., 0., 0., 0., 0., 0.,\n",
       "       0., 0., 0., 0., 0., 0., 0., 0., 0., 0., 0., 0., 0., 0., 0., 0., 0.,\n",
       "       0., 0., 0.])"
      ]
     },
     "execution_count": 90,
     "metadata": {},
     "output_type": "execute_result"
    }
   ],
   "source": [
    "rg_mnb_pred = rg_mnb.predict(rg_x_test)\n",
    "rg_mnb_pred"
   ]
  },
  {
   "cell_type": "code",
   "execution_count": 91,
   "id": "95fb96b7",
   "metadata": {},
   "outputs": [
    {
     "name": "stdout",
     "output_type": "stream",
     "text": [
      "Training Score :  0.7538860103626943\n",
      "Testing Score  :  0.6821705426356589\n"
     ]
    }
   ],
   "source": [
    "print(\"Training Score : \",rg_mnb.score(rg_x_train,rg_y_train))\n",
    "print(\"Testing Score  : \",rg_mnb.score(rg_x_test,rg_y_test))"
   ]
  },
  {
   "cell_type": "code",
   "execution_count": 92,
   "id": "6e04a360",
   "metadata": {},
   "outputs": [
    {
     "name": "stdout",
     "output_type": "stream",
     "text": [
      "Accuracy by mnb  :  0.6821705426356589\n",
      "Precision by mnb :  0.8404669260700389\n",
      "Recall by mnb    :  0.5060240963855421\n",
      "F1 score by mnb  :  0.41699735449735453\n"
     ]
    }
   ],
   "source": [
    "rg_mnb_acc = accuracy_score(rg_y_test,rg_mnb_pred)\n",
    "rg_mnb_pr  = precision_score(rg_y_test,rg_mnb_pred,average='macro')\n",
    "rg_mnb_rec = recall_score(rg_y_test,rg_mnb_pred,average='macro')\n",
    "rg_mnb_f1  = f1_score(rg_y_test,rg_mnb_pred,average='macro')\n",
    "print('Accuracy by mnb  : ', rg_mnb_acc)\n",
    "print('Precision by mnb : ', rg_mnb_pr)\n",
    "print('Recall by mnb    : ', rg_mnb_rec)\n",
    "print('F1 score by mnb  : ', rg_mnb_f1)"
   ]
  },
  {
   "cell_type": "code",
   "execution_count": 93,
   "id": "ed2e84a6",
   "metadata": {},
   "outputs": [
    {
     "name": "stdout",
     "output_type": "stream",
     "text": [
      "[[175   0]\n",
      " [ 82   1]]\n",
      "              precision    recall  f1-score   support\n",
      "\n",
      "         0.0       0.68      1.00      0.81       175\n",
      "         1.0       1.00      0.01      0.02        83\n",
      "\n",
      "    accuracy                           0.68       258\n",
      "   macro avg       0.84      0.51      0.42       258\n",
      "weighted avg       0.78      0.68      0.56       258\n",
      "\n"
     ]
    }
   ],
   "source": [
    "print(confusion_matrix(rg_y_test,rg_mnb_pred))\n",
    "print(classification_report(rg_y_test,rg_mnb_pred))"
   ]
  },
  {
   "cell_type": "markdown",
   "id": "4a2d8084",
   "metadata": {},
   "source": [
    "2. `Gaussian Navies Bayes`"
   ]
  },
  {
   "cell_type": "code",
   "execution_count": 94,
   "id": "433a6a39",
   "metadata": {},
   "outputs": [
    {
     "data": {
      "text/html": [
       "<style>#sk-container-id-9 {color: black;background-color: white;}#sk-container-id-9 pre{padding: 0;}#sk-container-id-9 div.sk-toggleable {background-color: white;}#sk-container-id-9 label.sk-toggleable__label {cursor: pointer;display: block;width: 100%;margin-bottom: 0;padding: 0.3em;box-sizing: border-box;text-align: center;}#sk-container-id-9 label.sk-toggleable__label-arrow:before {content: \"▸\";float: left;margin-right: 0.25em;color: #696969;}#sk-container-id-9 label.sk-toggleable__label-arrow:hover:before {color: black;}#sk-container-id-9 div.sk-estimator:hover label.sk-toggleable__label-arrow:before {color: black;}#sk-container-id-9 div.sk-toggleable__content {max-height: 0;max-width: 0;overflow: hidden;text-align: left;background-color: #f0f8ff;}#sk-container-id-9 div.sk-toggleable__content pre {margin: 0.2em;color: black;border-radius: 0.25em;background-color: #f0f8ff;}#sk-container-id-9 input.sk-toggleable__control:checked~div.sk-toggleable__content {max-height: 200px;max-width: 100%;overflow: auto;}#sk-container-id-9 input.sk-toggleable__control:checked~label.sk-toggleable__label-arrow:before {content: \"▾\";}#sk-container-id-9 div.sk-estimator input.sk-toggleable__control:checked~label.sk-toggleable__label {background-color: #d4ebff;}#sk-container-id-9 div.sk-label input.sk-toggleable__control:checked~label.sk-toggleable__label {background-color: #d4ebff;}#sk-container-id-9 input.sk-hidden--visually {border: 0;clip: rect(1px 1px 1px 1px);clip: rect(1px, 1px, 1px, 1px);height: 1px;margin: -1px;overflow: hidden;padding: 0;position: absolute;width: 1px;}#sk-container-id-9 div.sk-estimator {font-family: monospace;background-color: #f0f8ff;border: 1px dotted black;border-radius: 0.25em;box-sizing: border-box;margin-bottom: 0.5em;}#sk-container-id-9 div.sk-estimator:hover {background-color: #d4ebff;}#sk-container-id-9 div.sk-parallel-item::after {content: \"\";width: 100%;border-bottom: 1px solid gray;flex-grow: 1;}#sk-container-id-9 div.sk-label:hover label.sk-toggleable__label {background-color: #d4ebff;}#sk-container-id-9 div.sk-serial::before {content: \"\";position: absolute;border-left: 1px solid gray;box-sizing: border-box;top: 0;bottom: 0;left: 50%;z-index: 0;}#sk-container-id-9 div.sk-serial {display: flex;flex-direction: column;align-items: center;background-color: white;padding-right: 0.2em;padding-left: 0.2em;position: relative;}#sk-container-id-9 div.sk-item {position: relative;z-index: 1;}#sk-container-id-9 div.sk-parallel {display: flex;align-items: stretch;justify-content: center;background-color: white;position: relative;}#sk-container-id-9 div.sk-item::before, #sk-container-id-9 div.sk-parallel-item::before {content: \"\";position: absolute;border-left: 1px solid gray;box-sizing: border-box;top: 0;bottom: 0;left: 50%;z-index: -1;}#sk-container-id-9 div.sk-parallel-item {display: flex;flex-direction: column;z-index: 1;position: relative;background-color: white;}#sk-container-id-9 div.sk-parallel-item:first-child::after {align-self: flex-end;width: 50%;}#sk-container-id-9 div.sk-parallel-item:last-child::after {align-self: flex-start;width: 50%;}#sk-container-id-9 div.sk-parallel-item:only-child::after {width: 0;}#sk-container-id-9 div.sk-dashed-wrapped {border: 1px dashed gray;margin: 0 0.4em 0.5em 0.4em;box-sizing: border-box;padding-bottom: 0.4em;background-color: white;}#sk-container-id-9 div.sk-label label {font-family: monospace;font-weight: bold;display: inline-block;line-height: 1.2em;}#sk-container-id-9 div.sk-label-container {text-align: center;}#sk-container-id-9 div.sk-container {/* jupyter's `normalize.less` sets `[hidden] { display: none; }` but bootstrap.min.css set `[hidden] { display: none !important; }` so we also need the `!important` here to be able to override the default hidden behavior on the sphinx rendered scikit-learn.org. See: https://github.com/scikit-learn/scikit-learn/issues/21755 */display: inline-block !important;position: relative;}#sk-container-id-9 div.sk-text-repr-fallback {display: none;}</style><div id=\"sk-container-id-9\" class=\"sk-top-container\"><div class=\"sk-text-repr-fallback\"><pre>GaussianNB()</pre><b>In a Jupyter environment, please rerun this cell to show the HTML representation or trust the notebook. <br />On GitHub, the HTML representation is unable to render, please try loading this page with nbviewer.org.</b></div><div class=\"sk-container\" hidden><div class=\"sk-item\"><div class=\"sk-estimator sk-toggleable\"><input class=\"sk-toggleable__control sk-hidden--visually\" id=\"sk-estimator-id-9\" type=\"checkbox\" checked><label for=\"sk-estimator-id-9\" class=\"sk-toggleable__label sk-toggleable__label-arrow\">GaussianNB</label><div class=\"sk-toggleable__content\"><pre>GaussianNB()</pre></div></div></div></div></div>"
      ],
      "text/plain": [
       "GaussianNB()"
      ]
     },
     "execution_count": 94,
     "metadata": {},
     "output_type": "execute_result"
    }
   ],
   "source": [
    "rg_gnb = GaussianNB()\n",
    "rg_gnb.fit(rg_x_train,rg_y_train)"
   ]
  },
  {
   "cell_type": "code",
   "execution_count": 95,
   "id": "8155c025",
   "metadata": {},
   "outputs": [
    {
     "data": {
      "text/plain": [
       "array([0., 1., 0., 0., 0., 1., 0., 1., 0., 0., 0., 0., 0., 0., 1., 0., 0.,\n",
       "       0., 0., 0., 0., 0., 0., 1., 0., 0., 1., 0., 1., 0., 0., 0., 1., 0.,\n",
       "       0., 1., 0., 0., 0., 0., 0., 0., 0., 1., 0., 0., 0., 0., 0., 0., 0.,\n",
       "       0., 0., 0., 0., 0., 1., 0., 0., 0., 0., 0., 0., 0., 0., 0., 1., 0.,\n",
       "       0., 0., 0., 0., 0., 0., 1., 0., 0., 1., 1., 0., 0., 1., 0., 0., 0.,\n",
       "       1., 0., 0., 0., 1., 1., 0., 0., 0., 0., 0., 0., 0., 0., 0., 0., 0.,\n",
       "       0., 0., 0., 1., 0., 0., 1., 0., 0., 0., 0., 0., 0., 0., 0., 0., 0.,\n",
       "       0., 0., 0., 0., 0., 0., 0., 0., 0., 0., 0., 0., 1., 1., 0., 0., 0.,\n",
       "       0., 0., 1., 1., 0., 0., 0., 1., 0., 0., 1., 0., 1., 0., 0., 0., 1.,\n",
       "       0., 0., 0., 0., 0., 1., 0., 0., 0., 1., 1., 0., 1., 0., 0., 0., 0.,\n",
       "       0., 0., 0., 1., 0., 0., 0., 1., 1., 0., 0., 0., 0., 0., 0., 0., 0.,\n",
       "       0., 0., 0., 0., 0., 0., 1., 0., 1., 0., 0., 0., 0., 0., 0., 1., 0.,\n",
       "       0., 1., 0., 0., 1., 1., 0., 0., 0., 0., 1., 0., 0., 1., 0., 0., 0.,\n",
       "       1., 0., 0., 0., 0., 0., 0., 0., 1., 0., 0., 0., 0., 1., 0., 0., 1.,\n",
       "       1., 0., 1., 0., 0., 0., 1., 0., 0., 1., 0., 1., 1., 0., 0., 0., 0.,\n",
       "       0., 1., 1.])"
      ]
     },
     "execution_count": 95,
     "metadata": {},
     "output_type": "execute_result"
    }
   ],
   "source": [
    "rg_gnb_pred = rg_gnb.predict(rg_x_test)\n",
    "rg_gnb_pred"
   ]
  },
  {
   "cell_type": "code",
   "execution_count": 96,
   "id": "e0690444",
   "metadata": {},
   "outputs": [
    {
     "name": "stdout",
     "output_type": "stream",
     "text": [
      "Training Score :  0.9870466321243523\n",
      "Testing Score  :  0.6472868217054264\n"
     ]
    }
   ],
   "source": [
    "print(\"Training Score : \",rg_gnb.score(rg_x_train,rg_y_train))\n",
    "print(\"Testing Score  : \",rg_gnb.score(rg_x_test,rg_y_test))"
   ]
  },
  {
   "cell_type": "code",
   "execution_count": 97,
   "id": "13870e3e",
   "metadata": {},
   "outputs": [
    {
     "name": "stdout",
     "output_type": "stream",
     "text": [
      "Accuracy by gnb  :  0.6472868217054264\n",
      "Precision by gnb :  0.5682461103253182\n",
      "Recall by gnb    :  0.5531497418244407\n",
      "F1 score by gnb  :  0.5519722153311832\n"
     ]
    }
   ],
   "source": [
    "rg_gnb_acc = accuracy_score(rg_y_test,rg_gnb_pred)\n",
    "rg_gnb_pr  = precision_score(rg_y_test,rg_gnb_pred,average='macro')\n",
    "rg_gnb_rec = recall_score(rg_y_test,rg_gnb_pred,average='macro')\n",
    "rg_gnb_f1  = f1_score(rg_y_test,rg_gnb_pred,average='macro')\n",
    "print('Accuracy by gnb  : ', rg_gnb_acc)\n",
    "print('Precision by gnb : ', rg_gnb_pr)\n",
    "print('Recall by gnb    : ', rg_gnb_rec)\n",
    "print('F1 score by gnb  : ', rg_gnb_f1)"
   ]
  },
  {
   "cell_type": "code",
   "execution_count": 98,
   "id": "29078ab4",
   "metadata": {},
   "outputs": [
    {
     "name": "stdout",
     "output_type": "stream",
     "text": [
      "[[143  32]\n",
      " [ 59  24]]\n",
      "              precision    recall  f1-score   support\n",
      "\n",
      "         0.0       0.71      0.82      0.76       175\n",
      "         1.0       0.43      0.29      0.35        83\n",
      "\n",
      "    accuracy                           0.65       258\n",
      "   macro avg       0.57      0.55      0.55       258\n",
      "weighted avg       0.62      0.65      0.63       258\n",
      "\n"
     ]
    }
   ],
   "source": [
    "print(confusion_matrix(rg_y_test,rg_gnb_pred))\n",
    "print(classification_report(rg_y_test,rg_gnb_pred))"
   ]
  },
  {
   "cell_type": "markdown",
   "id": "2d148e91",
   "metadata": {},
   "source": [
    "3. `Logistic Regression`"
   ]
  },
  {
   "cell_type": "code",
   "execution_count": 99,
   "id": "3a90903b",
   "metadata": {},
   "outputs": [
    {
     "data": {
      "text/html": [
       "<style>#sk-container-id-10 {color: black;background-color: white;}#sk-container-id-10 pre{padding: 0;}#sk-container-id-10 div.sk-toggleable {background-color: white;}#sk-container-id-10 label.sk-toggleable__label {cursor: pointer;display: block;width: 100%;margin-bottom: 0;padding: 0.3em;box-sizing: border-box;text-align: center;}#sk-container-id-10 label.sk-toggleable__label-arrow:before {content: \"▸\";float: left;margin-right: 0.25em;color: #696969;}#sk-container-id-10 label.sk-toggleable__label-arrow:hover:before {color: black;}#sk-container-id-10 div.sk-estimator:hover label.sk-toggleable__label-arrow:before {color: black;}#sk-container-id-10 div.sk-toggleable__content {max-height: 0;max-width: 0;overflow: hidden;text-align: left;background-color: #f0f8ff;}#sk-container-id-10 div.sk-toggleable__content pre {margin: 0.2em;color: black;border-radius: 0.25em;background-color: #f0f8ff;}#sk-container-id-10 input.sk-toggleable__control:checked~div.sk-toggleable__content {max-height: 200px;max-width: 100%;overflow: auto;}#sk-container-id-10 input.sk-toggleable__control:checked~label.sk-toggleable__label-arrow:before {content: \"▾\";}#sk-container-id-10 div.sk-estimator input.sk-toggleable__control:checked~label.sk-toggleable__label {background-color: #d4ebff;}#sk-container-id-10 div.sk-label input.sk-toggleable__control:checked~label.sk-toggleable__label {background-color: #d4ebff;}#sk-container-id-10 input.sk-hidden--visually {border: 0;clip: rect(1px 1px 1px 1px);clip: rect(1px, 1px, 1px, 1px);height: 1px;margin: -1px;overflow: hidden;padding: 0;position: absolute;width: 1px;}#sk-container-id-10 div.sk-estimator {font-family: monospace;background-color: #f0f8ff;border: 1px dotted black;border-radius: 0.25em;box-sizing: border-box;margin-bottom: 0.5em;}#sk-container-id-10 div.sk-estimator:hover {background-color: #d4ebff;}#sk-container-id-10 div.sk-parallel-item::after {content: \"\";width: 100%;border-bottom: 1px solid gray;flex-grow: 1;}#sk-container-id-10 div.sk-label:hover label.sk-toggleable__label {background-color: #d4ebff;}#sk-container-id-10 div.sk-serial::before {content: \"\";position: absolute;border-left: 1px solid gray;box-sizing: border-box;top: 0;bottom: 0;left: 50%;z-index: 0;}#sk-container-id-10 div.sk-serial {display: flex;flex-direction: column;align-items: center;background-color: white;padding-right: 0.2em;padding-left: 0.2em;position: relative;}#sk-container-id-10 div.sk-item {position: relative;z-index: 1;}#sk-container-id-10 div.sk-parallel {display: flex;align-items: stretch;justify-content: center;background-color: white;position: relative;}#sk-container-id-10 div.sk-item::before, #sk-container-id-10 div.sk-parallel-item::before {content: \"\";position: absolute;border-left: 1px solid gray;box-sizing: border-box;top: 0;bottom: 0;left: 50%;z-index: -1;}#sk-container-id-10 div.sk-parallel-item {display: flex;flex-direction: column;z-index: 1;position: relative;background-color: white;}#sk-container-id-10 div.sk-parallel-item:first-child::after {align-self: flex-end;width: 50%;}#sk-container-id-10 div.sk-parallel-item:last-child::after {align-self: flex-start;width: 50%;}#sk-container-id-10 div.sk-parallel-item:only-child::after {width: 0;}#sk-container-id-10 div.sk-dashed-wrapped {border: 1px dashed gray;margin: 0 0.4em 0.5em 0.4em;box-sizing: border-box;padding-bottom: 0.4em;background-color: white;}#sk-container-id-10 div.sk-label label {font-family: monospace;font-weight: bold;display: inline-block;line-height: 1.2em;}#sk-container-id-10 div.sk-label-container {text-align: center;}#sk-container-id-10 div.sk-container {/* jupyter's `normalize.less` sets `[hidden] { display: none; }` but bootstrap.min.css set `[hidden] { display: none !important; }` so we also need the `!important` here to be able to override the default hidden behavior on the sphinx rendered scikit-learn.org. See: https://github.com/scikit-learn/scikit-learn/issues/21755 */display: inline-block !important;position: relative;}#sk-container-id-10 div.sk-text-repr-fallback {display: none;}</style><div id=\"sk-container-id-10\" class=\"sk-top-container\"><div class=\"sk-text-repr-fallback\"><pre>LogisticRegression()</pre><b>In a Jupyter environment, please rerun this cell to show the HTML representation or trust the notebook. <br />On GitHub, the HTML representation is unable to render, please try loading this page with nbviewer.org.</b></div><div class=\"sk-container\" hidden><div class=\"sk-item\"><div class=\"sk-estimator sk-toggleable\"><input class=\"sk-toggleable__control sk-hidden--visually\" id=\"sk-estimator-id-10\" type=\"checkbox\" checked><label for=\"sk-estimator-id-10\" class=\"sk-toggleable__label sk-toggleable__label-arrow\">LogisticRegression</label><div class=\"sk-toggleable__content\"><pre>LogisticRegression()</pre></div></div></div></div></div>"
      ],
      "text/plain": [
       "LogisticRegression()"
      ]
     },
     "execution_count": 99,
     "metadata": {},
     "output_type": "execute_result"
    }
   ],
   "source": [
    "rg_lr = LogisticRegression()\n",
    "rg_lr.fit(rg_x_train,rg_y_train)"
   ]
  },
  {
   "cell_type": "code",
   "execution_count": 100,
   "id": "4c846e37",
   "metadata": {},
   "outputs": [
    {
     "data": {
      "text/plain": [
       "array([0., 0., 0., 0., 0., 0., 0., 0., 0., 0., 0., 0., 0., 0., 0., 0., 0.,\n",
       "       0., 0., 0., 0., 0., 0., 0., 0., 0., 0., 0., 1., 0., 0., 0., 0., 0.,\n",
       "       0., 0., 0., 0., 0., 0., 0., 0., 0., 0., 0., 0., 0., 0., 0., 0., 0.,\n",
       "       0., 0., 0., 0., 0., 0., 0., 0., 0., 0., 0., 0., 0., 0., 0., 0., 0.,\n",
       "       0., 0., 0., 0., 0., 0., 0., 0., 0., 0., 0., 0., 0., 0., 0., 0., 0.,\n",
       "       0., 0., 0., 0., 0., 0., 0., 0., 0., 0., 0., 0., 0., 0., 0., 0., 0.,\n",
       "       0., 0., 0., 0., 0., 0., 0., 0., 0., 0., 0., 0., 0., 0., 0., 0., 0.,\n",
       "       0., 0., 0., 0., 0., 0., 0., 0., 0., 0., 0., 0., 0., 0., 0., 0., 0.,\n",
       "       0., 0., 0., 0., 0., 0., 0., 0., 0., 0., 0., 0., 0., 0., 0., 0., 0.,\n",
       "       0., 0., 0., 0., 0., 0., 0., 0., 0., 0., 0., 0., 0., 0., 0., 0., 0.,\n",
       "       0., 0., 0., 0., 0., 0., 0., 0., 0., 0., 0., 0., 0., 0., 0., 0., 0.,\n",
       "       0., 0., 0., 0., 0., 0., 0., 0., 0., 0., 0., 0., 0., 0., 0., 0., 0.,\n",
       "       0., 0., 0., 1., 0., 0., 0., 0., 0., 0., 0., 0., 0., 0., 0., 0., 0.,\n",
       "       0., 0., 0., 0., 0., 0., 0., 0., 0., 0., 0., 0., 0., 0., 0., 0., 0.,\n",
       "       0., 0., 0., 0., 0., 0., 0., 0., 0., 0., 0., 0., 0., 0., 0., 0., 0.,\n",
       "       0., 0., 0.])"
      ]
     },
     "execution_count": 100,
     "metadata": {},
     "output_type": "execute_result"
    }
   ],
   "source": [
    "rg_lr_pred = rg_lr.predict(rg_x_test)\n",
    "rg_lr_pred"
   ]
  },
  {
   "cell_type": "code",
   "execution_count": 101,
   "id": "5f78739e",
   "metadata": {},
   "outputs": [
    {
     "name": "stdout",
     "output_type": "stream",
     "text": [
      "Training Score :  0.7603626943005182\n",
      "Testing Score  :  0.686046511627907\n"
     ]
    }
   ],
   "source": [
    "print(\"Training Score : \",rg_lr.score(rg_x_train,rg_y_train))\n",
    "print(\"Testing Score  : \",rg_lr.score(rg_x_test,rg_y_test))"
   ]
  },
  {
   "cell_type": "code",
   "execution_count": 102,
   "id": "c1752430",
   "metadata": {},
   "outputs": [
    {
     "name": "stdout",
     "output_type": "stream",
     "text": [
      "Accuracy by lr  :  0.686046511627907\n",
      "Precision by lr :  0.841796875\n",
      "Recall by lr    :  0.5120481927710844\n",
      "F1 score by lr  :  0.4295618943633138\n"
     ]
    }
   ],
   "source": [
    "rg_lr_acc = accuracy_score(rg_y_test,rg_lr_pred)\n",
    "rg_lr_pr  = precision_score(rg_y_test,rg_lr_pred,average='macro')\n",
    "rg_lr_rec = recall_score(rg_y_test,rg_lr_pred,average='macro')\n",
    "rg_lr_f1  = f1_score(rg_y_test,rg_lr_pred,average='macro')\n",
    "print('Accuracy by lr  : ', rg_lr_acc)\n",
    "print('Precision by lr : ', rg_lr_pr)\n",
    "print('Recall by lr    : ', rg_lr_rec)\n",
    "print('F1 score by lr  : ', rg_lr_f1)"
   ]
  },
  {
   "cell_type": "code",
   "execution_count": 103,
   "id": "ce12a449",
   "metadata": {},
   "outputs": [
    {
     "name": "stdout",
     "output_type": "stream",
     "text": [
      "[[175   0]\n",
      " [ 81   2]]\n",
      "              precision    recall  f1-score   support\n",
      "\n",
      "         0.0       0.68      1.00      0.81       175\n",
      "         1.0       1.00      0.02      0.05        83\n",
      "\n",
      "    accuracy                           0.69       258\n",
      "   macro avg       0.84      0.51      0.43       258\n",
      "weighted avg       0.79      0.69      0.57       258\n",
      "\n"
     ]
    }
   ],
   "source": [
    "print(confusion_matrix(rg_y_test,rg_lr_pred))\n",
    "print(classification_report(rg_y_test,rg_lr_pred))"
   ]
  },
  {
   "cell_type": "markdown",
   "id": "2476f4c6",
   "metadata": {},
   "source": [
    "4. `KNN`"
   ]
  },
  {
   "cell_type": "code",
   "execution_count": 104,
   "id": "a9cf4290",
   "metadata": {},
   "outputs": [
    {
     "data": {
      "text/html": [
       "<style>#sk-container-id-11 {color: black;background-color: white;}#sk-container-id-11 pre{padding: 0;}#sk-container-id-11 div.sk-toggleable {background-color: white;}#sk-container-id-11 label.sk-toggleable__label {cursor: pointer;display: block;width: 100%;margin-bottom: 0;padding: 0.3em;box-sizing: border-box;text-align: center;}#sk-container-id-11 label.sk-toggleable__label-arrow:before {content: \"▸\";float: left;margin-right: 0.25em;color: #696969;}#sk-container-id-11 label.sk-toggleable__label-arrow:hover:before {color: black;}#sk-container-id-11 div.sk-estimator:hover label.sk-toggleable__label-arrow:before {color: black;}#sk-container-id-11 div.sk-toggleable__content {max-height: 0;max-width: 0;overflow: hidden;text-align: left;background-color: #f0f8ff;}#sk-container-id-11 div.sk-toggleable__content pre {margin: 0.2em;color: black;border-radius: 0.25em;background-color: #f0f8ff;}#sk-container-id-11 input.sk-toggleable__control:checked~div.sk-toggleable__content {max-height: 200px;max-width: 100%;overflow: auto;}#sk-container-id-11 input.sk-toggleable__control:checked~label.sk-toggleable__label-arrow:before {content: \"▾\";}#sk-container-id-11 div.sk-estimator input.sk-toggleable__control:checked~label.sk-toggleable__label {background-color: #d4ebff;}#sk-container-id-11 div.sk-label input.sk-toggleable__control:checked~label.sk-toggleable__label {background-color: #d4ebff;}#sk-container-id-11 input.sk-hidden--visually {border: 0;clip: rect(1px 1px 1px 1px);clip: rect(1px, 1px, 1px, 1px);height: 1px;margin: -1px;overflow: hidden;padding: 0;position: absolute;width: 1px;}#sk-container-id-11 div.sk-estimator {font-family: monospace;background-color: #f0f8ff;border: 1px dotted black;border-radius: 0.25em;box-sizing: border-box;margin-bottom: 0.5em;}#sk-container-id-11 div.sk-estimator:hover {background-color: #d4ebff;}#sk-container-id-11 div.sk-parallel-item::after {content: \"\";width: 100%;border-bottom: 1px solid gray;flex-grow: 1;}#sk-container-id-11 div.sk-label:hover label.sk-toggleable__label {background-color: #d4ebff;}#sk-container-id-11 div.sk-serial::before {content: \"\";position: absolute;border-left: 1px solid gray;box-sizing: border-box;top: 0;bottom: 0;left: 50%;z-index: 0;}#sk-container-id-11 div.sk-serial {display: flex;flex-direction: column;align-items: center;background-color: white;padding-right: 0.2em;padding-left: 0.2em;position: relative;}#sk-container-id-11 div.sk-item {position: relative;z-index: 1;}#sk-container-id-11 div.sk-parallel {display: flex;align-items: stretch;justify-content: center;background-color: white;position: relative;}#sk-container-id-11 div.sk-item::before, #sk-container-id-11 div.sk-parallel-item::before {content: \"\";position: absolute;border-left: 1px solid gray;box-sizing: border-box;top: 0;bottom: 0;left: 50%;z-index: -1;}#sk-container-id-11 div.sk-parallel-item {display: flex;flex-direction: column;z-index: 1;position: relative;background-color: white;}#sk-container-id-11 div.sk-parallel-item:first-child::after {align-self: flex-end;width: 50%;}#sk-container-id-11 div.sk-parallel-item:last-child::after {align-self: flex-start;width: 50%;}#sk-container-id-11 div.sk-parallel-item:only-child::after {width: 0;}#sk-container-id-11 div.sk-dashed-wrapped {border: 1px dashed gray;margin: 0 0.4em 0.5em 0.4em;box-sizing: border-box;padding-bottom: 0.4em;background-color: white;}#sk-container-id-11 div.sk-label label {font-family: monospace;font-weight: bold;display: inline-block;line-height: 1.2em;}#sk-container-id-11 div.sk-label-container {text-align: center;}#sk-container-id-11 div.sk-container {/* jupyter's `normalize.less` sets `[hidden] { display: none; }` but bootstrap.min.css set `[hidden] { display: none !important; }` so we also need the `!important` here to be able to override the default hidden behavior on the sphinx rendered scikit-learn.org. See: https://github.com/scikit-learn/scikit-learn/issues/21755 */display: inline-block !important;position: relative;}#sk-container-id-11 div.sk-text-repr-fallback {display: none;}</style><div id=\"sk-container-id-11\" class=\"sk-top-container\"><div class=\"sk-text-repr-fallback\"><pre>KNeighborsClassifier(n_neighbors=9)</pre><b>In a Jupyter environment, please rerun this cell to show the HTML representation or trust the notebook. <br />On GitHub, the HTML representation is unable to render, please try loading this page with nbviewer.org.</b></div><div class=\"sk-container\" hidden><div class=\"sk-item\"><div class=\"sk-estimator sk-toggleable\"><input class=\"sk-toggleable__control sk-hidden--visually\" id=\"sk-estimator-id-11\" type=\"checkbox\" checked><label for=\"sk-estimator-id-11\" class=\"sk-toggleable__label sk-toggleable__label-arrow\">KNeighborsClassifier</label><div class=\"sk-toggleable__content\"><pre>KNeighborsClassifier(n_neighbors=9)</pre></div></div></div></div></div>"
      ],
      "text/plain": [
       "KNeighborsClassifier(n_neighbors=9)"
      ]
     },
     "execution_count": 104,
     "metadata": {},
     "output_type": "execute_result"
    }
   ],
   "source": [
    "rg_knn = KNeighborsClassifier(n_neighbors=9)\n",
    "rg_knn.fit(rg_x_train,rg_y_train)"
   ]
  },
  {
   "cell_type": "code",
   "execution_count": 105,
   "id": "eed5c76d",
   "metadata": {},
   "outputs": [
    {
     "data": {
      "text/plain": [
       "array([0., 1., 0., 0., 0., 0., 0., 0., 0., 0., 0., 0., 0., 0., 1., 0., 1.,\n",
       "       0., 0., 0., 0., 0., 0., 0., 0., 1., 1., 1., 1., 0., 0., 0., 0., 1.,\n",
       "       0., 0., 0., 0., 0., 0., 0., 0., 0., 0., 0., 0., 0., 0., 0., 0., 0.,\n",
       "       1., 0., 0., 0., 0., 0., 0., 1., 0., 0., 1., 0., 0., 0., 1., 0., 0.,\n",
       "       0., 0., 0., 1., 1., 0., 1., 0., 0., 1., 0., 0., 0., 0., 0., 0., 1.,\n",
       "       0., 0., 0., 0., 1., 0., 0., 0., 0., 0., 0., 0., 0., 0., 0., 0., 0.,\n",
       "       0., 0., 0., 1., 0., 0., 0., 0., 0., 0., 0., 0., 0., 0., 0., 0., 1.,\n",
       "       0., 0., 0., 0., 0., 0., 1., 0., 0., 0., 0., 0., 1., 0., 1., 0., 0.,\n",
       "       0., 0., 0., 0., 0., 0., 0., 0., 0., 0., 0., 0., 0., 0., 0., 0., 0.,\n",
       "       1., 0., 0., 0., 0., 1., 0., 0., 0., 1., 0., 0., 1., 0., 0., 0., 1.,\n",
       "       0., 0., 0., 0., 0., 0., 0., 0., 0., 0., 0., 0., 0., 0., 0., 0., 0.,\n",
       "       0., 0., 0., 0., 1., 1., 1., 0., 0., 0., 1., 0., 0., 0., 0., 1., 1.,\n",
       "       0., 0., 0., 0., 0., 0., 0., 0., 0., 0., 0., 0., 1., 0., 0., 0., 0.,\n",
       "       0., 0., 0., 0., 0., 0., 0., 0., 0., 0., 0., 1., 0., 0., 0., 1., 0.,\n",
       "       1., 0., 0., 0., 0., 0., 0., 1., 0., 0., 0., 0., 1., 0., 0., 0., 0.,\n",
       "       0., 0., 1.])"
      ]
     },
     "execution_count": 105,
     "metadata": {},
     "output_type": "execute_result"
    }
   ],
   "source": [
    "rg_knn_pred = rg_knn.predict(rg_x_test)\n",
    "rg_knn_pred"
   ]
  },
  {
   "cell_type": "code",
   "execution_count": 106,
   "id": "5f0d650c",
   "metadata": {},
   "outputs": [
    {
     "name": "stdout",
     "output_type": "stream",
     "text": [
      "Training Score :  0.7474093264248705\n",
      "Testing Score  :  0.7131782945736435\n"
     ]
    }
   ],
   "source": [
    "print(\"Training Score : \",rg_knn.score(rg_x_train,rg_y_train))\n",
    "print(\"Testing Score  : \",rg_knn.score(rg_x_test,rg_y_test))"
   ]
  },
  {
   "cell_type": "code",
   "execution_count": 107,
   "id": "ed111e58",
   "metadata": {},
   "outputs": [
    {
     "name": "stdout",
     "output_type": "stream",
     "text": [
      "Accuracy by knn  :  0.7131782945736435\n",
      "Precision by knn :  0.6712374957850962\n",
      "Recall by knn    :  0.6048881239242685\n",
      "F1 score by knn  :  0.6072251481237656\n"
     ]
    }
   ],
   "source": [
    "rg_knn_acc = accuracy_score(rg_y_test,rg_knn_pred)\n",
    "rg_knn_pr  = precision_score(rg_y_test,rg_knn_pred,average='macro')\n",
    "rg_knn_rec = recall_score(rg_y_test,rg_knn_pred,average='macro')\n",
    "rg_knn_f1  = f1_score(rg_y_test,rg_knn_pred,average='macro')\n",
    "print('Accuracy by knn  : ', rg_knn_acc)\n",
    "print('Precision by knn : ', rg_knn_pr)\n",
    "print('Recall by knn    : ', rg_knn_rec)\n",
    "print('F1 score by knn  : ', rg_knn_f1)"
   ]
  },
  {
   "cell_type": "code",
   "execution_count": 108,
   "id": "a387461b",
   "metadata": {},
   "outputs": [
    {
     "name": "stdout",
     "output_type": "stream",
     "text": [
      "[[159  16]\n",
      " [ 58  25]]\n",
      "              precision    recall  f1-score   support\n",
      "\n",
      "         0.0       0.73      0.91      0.81       175\n",
      "         1.0       0.61      0.30      0.40        83\n",
      "\n",
      "    accuracy                           0.71       258\n",
      "   macro avg       0.67      0.60      0.61       258\n",
      "weighted avg       0.69      0.71      0.68       258\n",
      "\n"
     ]
    }
   ],
   "source": [
    "print(confusion_matrix(rg_y_test,rg_knn_pred))\n",
    "print(classification_report(rg_y_test,rg_knn_pred))"
   ]
  },
  {
   "cell_type": "markdown",
   "id": "2db1ff9f",
   "metadata": {},
   "source": [
    "5. `SVM`"
   ]
  },
  {
   "cell_type": "code",
   "execution_count": 109,
   "id": "20545671",
   "metadata": {},
   "outputs": [
    {
     "data": {
      "text/html": [
       "<style>#sk-container-id-12 {color: black;background-color: white;}#sk-container-id-12 pre{padding: 0;}#sk-container-id-12 div.sk-toggleable {background-color: white;}#sk-container-id-12 label.sk-toggleable__label {cursor: pointer;display: block;width: 100%;margin-bottom: 0;padding: 0.3em;box-sizing: border-box;text-align: center;}#sk-container-id-12 label.sk-toggleable__label-arrow:before {content: \"▸\";float: left;margin-right: 0.25em;color: #696969;}#sk-container-id-12 label.sk-toggleable__label-arrow:hover:before {color: black;}#sk-container-id-12 div.sk-estimator:hover label.sk-toggleable__label-arrow:before {color: black;}#sk-container-id-12 div.sk-toggleable__content {max-height: 0;max-width: 0;overflow: hidden;text-align: left;background-color: #f0f8ff;}#sk-container-id-12 div.sk-toggleable__content pre {margin: 0.2em;color: black;border-radius: 0.25em;background-color: #f0f8ff;}#sk-container-id-12 input.sk-toggleable__control:checked~div.sk-toggleable__content {max-height: 200px;max-width: 100%;overflow: auto;}#sk-container-id-12 input.sk-toggleable__control:checked~label.sk-toggleable__label-arrow:before {content: \"▾\";}#sk-container-id-12 div.sk-estimator input.sk-toggleable__control:checked~label.sk-toggleable__label {background-color: #d4ebff;}#sk-container-id-12 div.sk-label input.sk-toggleable__control:checked~label.sk-toggleable__label {background-color: #d4ebff;}#sk-container-id-12 input.sk-hidden--visually {border: 0;clip: rect(1px 1px 1px 1px);clip: rect(1px, 1px, 1px, 1px);height: 1px;margin: -1px;overflow: hidden;padding: 0;position: absolute;width: 1px;}#sk-container-id-12 div.sk-estimator {font-family: monospace;background-color: #f0f8ff;border: 1px dotted black;border-radius: 0.25em;box-sizing: border-box;margin-bottom: 0.5em;}#sk-container-id-12 div.sk-estimator:hover {background-color: #d4ebff;}#sk-container-id-12 div.sk-parallel-item::after {content: \"\";width: 100%;border-bottom: 1px solid gray;flex-grow: 1;}#sk-container-id-12 div.sk-label:hover label.sk-toggleable__label {background-color: #d4ebff;}#sk-container-id-12 div.sk-serial::before {content: \"\";position: absolute;border-left: 1px solid gray;box-sizing: border-box;top: 0;bottom: 0;left: 50%;z-index: 0;}#sk-container-id-12 div.sk-serial {display: flex;flex-direction: column;align-items: center;background-color: white;padding-right: 0.2em;padding-left: 0.2em;position: relative;}#sk-container-id-12 div.sk-item {position: relative;z-index: 1;}#sk-container-id-12 div.sk-parallel {display: flex;align-items: stretch;justify-content: center;background-color: white;position: relative;}#sk-container-id-12 div.sk-item::before, #sk-container-id-12 div.sk-parallel-item::before {content: \"\";position: absolute;border-left: 1px solid gray;box-sizing: border-box;top: 0;bottom: 0;left: 50%;z-index: -1;}#sk-container-id-12 div.sk-parallel-item {display: flex;flex-direction: column;z-index: 1;position: relative;background-color: white;}#sk-container-id-12 div.sk-parallel-item:first-child::after {align-self: flex-end;width: 50%;}#sk-container-id-12 div.sk-parallel-item:last-child::after {align-self: flex-start;width: 50%;}#sk-container-id-12 div.sk-parallel-item:only-child::after {width: 0;}#sk-container-id-12 div.sk-dashed-wrapped {border: 1px dashed gray;margin: 0 0.4em 0.5em 0.4em;box-sizing: border-box;padding-bottom: 0.4em;background-color: white;}#sk-container-id-12 div.sk-label label {font-family: monospace;font-weight: bold;display: inline-block;line-height: 1.2em;}#sk-container-id-12 div.sk-label-container {text-align: center;}#sk-container-id-12 div.sk-container {/* jupyter's `normalize.less` sets `[hidden] { display: none; }` but bootstrap.min.css set `[hidden] { display: none !important; }` so we also need the `!important` here to be able to override the default hidden behavior on the sphinx rendered scikit-learn.org. See: https://github.com/scikit-learn/scikit-learn/issues/21755 */display: inline-block !important;position: relative;}#sk-container-id-12 div.sk-text-repr-fallback {display: none;}</style><div id=\"sk-container-id-12\" class=\"sk-top-container\"><div class=\"sk-text-repr-fallback\"><pre>SVC(kernel=&#x27;linear&#x27;, random_state=42)</pre><b>In a Jupyter environment, please rerun this cell to show the HTML representation or trust the notebook. <br />On GitHub, the HTML representation is unable to render, please try loading this page with nbviewer.org.</b></div><div class=\"sk-container\" hidden><div class=\"sk-item\"><div class=\"sk-estimator sk-toggleable\"><input class=\"sk-toggleable__control sk-hidden--visually\" id=\"sk-estimator-id-12\" type=\"checkbox\" checked><label for=\"sk-estimator-id-12\" class=\"sk-toggleable__label sk-toggleable__label-arrow\">SVC</label><div class=\"sk-toggleable__content\"><pre>SVC(kernel=&#x27;linear&#x27;, random_state=42)</pre></div></div></div></div></div>"
      ],
      "text/plain": [
       "SVC(kernel='linear', random_state=42)"
      ]
     },
     "execution_count": 109,
     "metadata": {},
     "output_type": "execute_result"
    }
   ],
   "source": [
    "rg_svm = SVC(kernel='linear', C=1.0, random_state=42)\n",
    "rg_svm.fit(rg_x_train,rg_y_train)"
   ]
  },
  {
   "cell_type": "code",
   "execution_count": 110,
   "id": "7bbdeaf0",
   "metadata": {},
   "outputs": [
    {
     "data": {
      "text/plain": [
       "array([0., 1., 0., 0., 0., 0., 0., 0., 0., 0., 1., 0., 0., 0., 1., 0., 0.,\n",
       "       0., 0., 0., 0., 0., 0., 0., 0., 0., 0., 1., 1., 0., 0., 0., 0., 1.,\n",
       "       0., 1., 0., 0., 0., 0., 0., 0., 0., 1., 0., 0., 0., 0., 0., 0., 0.,\n",
       "       0., 0., 0., 0., 0., 0., 0., 0., 0., 0., 1., 0., 0., 0., 1., 0., 0.,\n",
       "       0., 0., 0., 0., 0., 0., 0., 0., 0., 1., 0., 0., 0., 0., 0., 0., 0.,\n",
       "       1., 0., 0., 0., 0., 0., 0., 0., 0., 0., 0., 0., 0., 0., 0., 0., 0.,\n",
       "       0., 0., 0., 1., 0., 0., 0., 0., 0., 0., 0., 0., 0., 1., 0., 0., 1.,\n",
       "       0., 0., 0., 0., 0., 0., 1., 0., 0., 0., 0., 0., 0., 0., 0., 0., 0.,\n",
       "       0., 0., 1., 0., 0., 0., 0., 0., 0., 0., 0., 0., 0., 0., 0., 0., 0.,\n",
       "       0., 0., 0., 0., 0., 0., 0., 0., 0., 0., 0., 0., 0., 0., 0., 0., 0.,\n",
       "       0., 0., 0., 0., 0., 0., 0., 0., 0., 0., 0., 0., 0., 1., 0., 0., 0.,\n",
       "       0., 0., 0., 0., 1., 0., 1., 0., 0., 0., 0., 0., 0., 0., 0., 0., 0.,\n",
       "       0., 0., 0., 1., 0., 0., 0., 0., 0., 0., 0., 0., 1., 0., 0., 0., 1.,\n",
       "       0., 0., 0., 0., 0., 0., 0., 0., 0., 0., 0., 1., 0., 0., 0., 0., 0.,\n",
       "       1., 0., 0., 0., 0., 0., 0., 0., 0., 0., 0., 1., 0., 0., 0., 0., 0.,\n",
       "       0., 0., 0.])"
      ]
     },
     "execution_count": 110,
     "metadata": {},
     "output_type": "execute_result"
    }
   ],
   "source": [
    "rg_svm_pred = rg_svm.predict(rg_x_test)\n",
    "rg_svm_pred"
   ]
  },
  {
   "cell_type": "code",
   "execution_count": 111,
   "id": "a3ba0e60",
   "metadata": {},
   "outputs": [
    {
     "name": "stdout",
     "output_type": "stream",
     "text": [
      "Training Score :  0.9520725388601037\n",
      "Testing Score  :  0.686046511627907\n"
     ]
    }
   ],
   "source": [
    "print(\"Training Score : \",rg_svm.score(rg_x_train,rg_y_train))\n",
    "print(\"Testing Score  : \",rg_svm.score(rg_x_test,rg_y_test))"
   ]
  },
  {
   "cell_type": "code",
   "execution_count": 112,
   "id": "2aaea353",
   "metadata": {},
   "outputs": [
    {
     "name": "stdout",
     "output_type": "stream",
     "text": [
      "Accuracy by svm  :  0.686046511627907\n",
      "Precision by svm :  0.6205238726790451\n",
      "Recall by svm    :  0.550051635111876\n",
      "F1 score by svm  :  0.5289317674638775\n"
     ]
    }
   ],
   "source": [
    "rg_svm_acc = accuracy_score(rg_y_test,rg_svm_pred)\n",
    "rg_svm_pr  = precision_score(rg_y_test,rg_svm_pred,average='macro')\n",
    "rg_svm_rec = recall_score(rg_y_test,rg_svm_pred,average='macro')\n",
    "rg_svm_f1  = f1_score(rg_y_test,rg_svm_pred,average='macro')\n",
    "print('Accuracy by svm  : ', rg_svm_acc)\n",
    "print('Precision by svm : ', rg_svm_pr)\n",
    "print('Recall by svm    : ', rg_svm_rec)\n",
    "print('F1 score by svm  : ', rg_svm_f1)"
   ]
  },
  {
   "cell_type": "code",
   "execution_count": 113,
   "id": "a02cf940",
   "metadata": {},
   "outputs": [
    {
     "name": "stdout",
     "output_type": "stream",
     "text": [
      "[[163  12]\n",
      " [ 69  14]]\n",
      "              precision    recall  f1-score   support\n",
      "\n",
      "         0.0       0.70      0.93      0.80       175\n",
      "         1.0       0.54      0.17      0.26        83\n",
      "\n",
      "    accuracy                           0.69       258\n",
      "   macro avg       0.62      0.55      0.53       258\n",
      "weighted avg       0.65      0.69      0.63       258\n",
      "\n"
     ]
    }
   ],
   "source": [
    "print(confusion_matrix(rg_y_test,rg_svm_pred))\n",
    "print(classification_report(rg_y_test,rg_svm_pred))"
   ]
  },
  {
   "cell_type": "markdown",
   "id": "d63f42ce",
   "metadata": {},
   "source": [
    "6. `Decision Tree`"
   ]
  },
  {
   "cell_type": "code",
   "execution_count": 114,
   "id": "964c37b6",
   "metadata": {},
   "outputs": [
    {
     "data": {
      "text/html": [
       "<style>#sk-container-id-13 {color: black;background-color: white;}#sk-container-id-13 pre{padding: 0;}#sk-container-id-13 div.sk-toggleable {background-color: white;}#sk-container-id-13 label.sk-toggleable__label {cursor: pointer;display: block;width: 100%;margin-bottom: 0;padding: 0.3em;box-sizing: border-box;text-align: center;}#sk-container-id-13 label.sk-toggleable__label-arrow:before {content: \"▸\";float: left;margin-right: 0.25em;color: #696969;}#sk-container-id-13 label.sk-toggleable__label-arrow:hover:before {color: black;}#sk-container-id-13 div.sk-estimator:hover label.sk-toggleable__label-arrow:before {color: black;}#sk-container-id-13 div.sk-toggleable__content {max-height: 0;max-width: 0;overflow: hidden;text-align: left;background-color: #f0f8ff;}#sk-container-id-13 div.sk-toggleable__content pre {margin: 0.2em;color: black;border-radius: 0.25em;background-color: #f0f8ff;}#sk-container-id-13 input.sk-toggleable__control:checked~div.sk-toggleable__content {max-height: 200px;max-width: 100%;overflow: auto;}#sk-container-id-13 input.sk-toggleable__control:checked~label.sk-toggleable__label-arrow:before {content: \"▾\";}#sk-container-id-13 div.sk-estimator input.sk-toggleable__control:checked~label.sk-toggleable__label {background-color: #d4ebff;}#sk-container-id-13 div.sk-label input.sk-toggleable__control:checked~label.sk-toggleable__label {background-color: #d4ebff;}#sk-container-id-13 input.sk-hidden--visually {border: 0;clip: rect(1px 1px 1px 1px);clip: rect(1px, 1px, 1px, 1px);height: 1px;margin: -1px;overflow: hidden;padding: 0;position: absolute;width: 1px;}#sk-container-id-13 div.sk-estimator {font-family: monospace;background-color: #f0f8ff;border: 1px dotted black;border-radius: 0.25em;box-sizing: border-box;margin-bottom: 0.5em;}#sk-container-id-13 div.sk-estimator:hover {background-color: #d4ebff;}#sk-container-id-13 div.sk-parallel-item::after {content: \"\";width: 100%;border-bottom: 1px solid gray;flex-grow: 1;}#sk-container-id-13 div.sk-label:hover label.sk-toggleable__label {background-color: #d4ebff;}#sk-container-id-13 div.sk-serial::before {content: \"\";position: absolute;border-left: 1px solid gray;box-sizing: border-box;top: 0;bottom: 0;left: 50%;z-index: 0;}#sk-container-id-13 div.sk-serial {display: flex;flex-direction: column;align-items: center;background-color: white;padding-right: 0.2em;padding-left: 0.2em;position: relative;}#sk-container-id-13 div.sk-item {position: relative;z-index: 1;}#sk-container-id-13 div.sk-parallel {display: flex;align-items: stretch;justify-content: center;background-color: white;position: relative;}#sk-container-id-13 div.sk-item::before, #sk-container-id-13 div.sk-parallel-item::before {content: \"\";position: absolute;border-left: 1px solid gray;box-sizing: border-box;top: 0;bottom: 0;left: 50%;z-index: -1;}#sk-container-id-13 div.sk-parallel-item {display: flex;flex-direction: column;z-index: 1;position: relative;background-color: white;}#sk-container-id-13 div.sk-parallel-item:first-child::after {align-self: flex-end;width: 50%;}#sk-container-id-13 div.sk-parallel-item:last-child::after {align-self: flex-start;width: 50%;}#sk-container-id-13 div.sk-parallel-item:only-child::after {width: 0;}#sk-container-id-13 div.sk-dashed-wrapped {border: 1px dashed gray;margin: 0 0.4em 0.5em 0.4em;box-sizing: border-box;padding-bottom: 0.4em;background-color: white;}#sk-container-id-13 div.sk-label label {font-family: monospace;font-weight: bold;display: inline-block;line-height: 1.2em;}#sk-container-id-13 div.sk-label-container {text-align: center;}#sk-container-id-13 div.sk-container {/* jupyter's `normalize.less` sets `[hidden] { display: none; }` but bootstrap.min.css set `[hidden] { display: none !important; }` so we also need the `!important` here to be able to override the default hidden behavior on the sphinx rendered scikit-learn.org. See: https://github.com/scikit-learn/scikit-learn/issues/21755 */display: inline-block !important;position: relative;}#sk-container-id-13 div.sk-text-repr-fallback {display: none;}</style><div id=\"sk-container-id-13\" class=\"sk-top-container\"><div class=\"sk-text-repr-fallback\"><pre>DecisionTreeClassifier()</pre><b>In a Jupyter environment, please rerun this cell to show the HTML representation or trust the notebook. <br />On GitHub, the HTML representation is unable to render, please try loading this page with nbviewer.org.</b></div><div class=\"sk-container\" hidden><div class=\"sk-item\"><div class=\"sk-estimator sk-toggleable\"><input class=\"sk-toggleable__control sk-hidden--visually\" id=\"sk-estimator-id-13\" type=\"checkbox\" checked><label for=\"sk-estimator-id-13\" class=\"sk-toggleable__label sk-toggleable__label-arrow\">DecisionTreeClassifier</label><div class=\"sk-toggleable__content\"><pre>DecisionTreeClassifier()</pre></div></div></div></div></div>"
      ],
      "text/plain": [
       "DecisionTreeClassifier()"
      ]
     },
     "execution_count": 114,
     "metadata": {},
     "output_type": "execute_result"
    }
   ],
   "source": [
    "rg_dt = DecisionTreeClassifier()\n",
    "rg_dt.fit(rg_x_train,rg_y_train)"
   ]
  },
  {
   "cell_type": "code",
   "execution_count": 115,
   "id": "222cab99",
   "metadata": {},
   "outputs": [
    {
     "data": {
      "text/plain": [
       "array([0., 0., 0., 0., 0., 0., 0., 0., 0., 0., 1., 0., 0., 0., 0., 0., 1.,\n",
       "       0., 0., 0., 0., 1., 0., 1., 0., 0., 0., 0., 1., 0., 0., 0., 1., 1.,\n",
       "       0., 1., 0., 0., 0., 0., 0., 1., 0., 0., 0., 0., 0., 1., 1., 1., 0.,\n",
       "       1., 0., 0., 1., 1., 0., 0., 1., 0., 0., 0., 1., 0., 0., 0., 0., 0.,\n",
       "       0., 0., 0., 1., 0., 0., 0., 0., 0., 0., 0., 1., 0., 0., 1., 0., 0.,\n",
       "       1., 0., 0., 0., 1., 1., 0., 1., 0., 0., 1., 0., 0., 0., 0., 0., 0.,\n",
       "       1., 0., 0., 1., 0., 0., 0., 0., 0., 1., 1., 0., 0., 1., 0., 0., 1.,\n",
       "       1., 0., 0., 0., 0., 0., 1., 0., 0., 0., 0., 0., 0., 0., 0., 0., 0.,\n",
       "       0., 0., 0., 0., 0., 0., 0., 1., 0., 1., 0., 1., 1., 0., 0., 1., 0.,\n",
       "       0., 0., 0., 0., 0., 0., 0., 0., 0., 0., 0., 1., 0., 0., 0., 0., 0.,\n",
       "       1., 0., 0., 0., 0., 0., 0., 0., 0., 0., 0., 1., 0., 1., 0., 0., 0.,\n",
       "       0., 1., 1., 1., 0., 0., 0., 0., 0., 1., 0., 0., 1., 0., 1., 1., 0.,\n",
       "       0., 1., 0., 1., 0., 0., 0., 0., 0., 0., 0., 0., 0., 1., 0., 0., 0.,\n",
       "       0., 1., 0., 0., 0., 0., 1., 1., 0., 0., 0., 1., 0., 0., 0., 0., 0.,\n",
       "       1., 0., 0., 0., 1., 0., 0., 0., 0., 0., 0., 1., 0., 0., 0., 0., 0.,\n",
       "       0., 0., 0.])"
      ]
     },
     "execution_count": 115,
     "metadata": {},
     "output_type": "execute_result"
    }
   ],
   "source": [
    "rg_dt_pred = rg_dt.predict(rg_x_test)\n",
    "rg_dt_pred"
   ]
  },
  {
   "cell_type": "code",
   "execution_count": 116,
   "id": "6de52105",
   "metadata": {},
   "outputs": [
    {
     "name": "stdout",
     "output_type": "stream",
     "text": [
      "Training Score :  0.9987046632124352\n",
      "Testing Score  :  0.5813953488372093\n"
     ]
    }
   ],
   "source": [
    "print(\"Training Score : \",rg_dt.score(rg_x_train,rg_y_train))\n",
    "print(\"Testing Score  : \",rg_dt.score(rg_x_test,rg_y_test))"
   ]
  },
  {
   "cell_type": "code",
   "execution_count": 117,
   "id": "434d875a",
   "metadata": {},
   "outputs": [
    {
     "name": "stdout",
     "output_type": "stream",
     "text": [
      "Accuracy by dt  :  0.5813953488372093\n",
      "Precision by dt :  0.4782386508815263\n",
      "Recall by dt    :  0.48240963855421687\n",
      "F1 score by dt  :  0.47533328312118706\n"
     ]
    }
   ],
   "source": [
    "rg_dt_acc = accuracy_score(rg_y_test,rg_dt_pred)\n",
    "rg_dt_pr  = precision_score(rg_y_test,rg_dt_pred,average='macro')\n",
    "rg_dt_rec = recall_score(rg_y_test,rg_dt_pred,average='macro')\n",
    "rg_dt_f1  = f1_score(rg_y_test,rg_dt_pred,average='macro')\n",
    "print('Accuracy by dt  : ', rg_dt_acc)\n",
    "print('Precision by dt : ', rg_dt_pr)\n",
    "print('Recall by dt    : ', rg_dt_rec)\n",
    "print('F1 score by dt  : ', rg_dt_f1)"
   ]
  },
  {
   "cell_type": "code",
   "execution_count": 118,
   "id": "176547f0",
   "metadata": {},
   "outputs": [
    {
     "name": "stdout",
     "output_type": "stream",
     "text": [
      "[[133  42]\n",
      " [ 66  17]]\n",
      "              precision    recall  f1-score   support\n",
      "\n",
      "         0.0       0.67      0.76      0.71       175\n",
      "         1.0       0.29      0.20      0.24        83\n",
      "\n",
      "    accuracy                           0.58       258\n",
      "   macro avg       0.48      0.48      0.48       258\n",
      "weighted avg       0.55      0.58      0.56       258\n",
      "\n"
     ]
    }
   ],
   "source": [
    "print(confusion_matrix(rg_y_test,rg_dt_pred))\n",
    "print(classification_report(rg_y_test,rg_dt_pred))"
   ]
  },
  {
   "cell_type": "markdown",
   "id": "796a7be3",
   "metadata": {},
   "source": [
    "7. `Random Forest`"
   ]
  },
  {
   "cell_type": "code",
   "execution_count": 119,
   "id": "ee0dd322",
   "metadata": {},
   "outputs": [
    {
     "data": {
      "text/html": [
       "<style>#sk-container-id-14 {color: black;background-color: white;}#sk-container-id-14 pre{padding: 0;}#sk-container-id-14 div.sk-toggleable {background-color: white;}#sk-container-id-14 label.sk-toggleable__label {cursor: pointer;display: block;width: 100%;margin-bottom: 0;padding: 0.3em;box-sizing: border-box;text-align: center;}#sk-container-id-14 label.sk-toggleable__label-arrow:before {content: \"▸\";float: left;margin-right: 0.25em;color: #696969;}#sk-container-id-14 label.sk-toggleable__label-arrow:hover:before {color: black;}#sk-container-id-14 div.sk-estimator:hover label.sk-toggleable__label-arrow:before {color: black;}#sk-container-id-14 div.sk-toggleable__content {max-height: 0;max-width: 0;overflow: hidden;text-align: left;background-color: #f0f8ff;}#sk-container-id-14 div.sk-toggleable__content pre {margin: 0.2em;color: black;border-radius: 0.25em;background-color: #f0f8ff;}#sk-container-id-14 input.sk-toggleable__control:checked~div.sk-toggleable__content {max-height: 200px;max-width: 100%;overflow: auto;}#sk-container-id-14 input.sk-toggleable__control:checked~label.sk-toggleable__label-arrow:before {content: \"▾\";}#sk-container-id-14 div.sk-estimator input.sk-toggleable__control:checked~label.sk-toggleable__label {background-color: #d4ebff;}#sk-container-id-14 div.sk-label input.sk-toggleable__control:checked~label.sk-toggleable__label {background-color: #d4ebff;}#sk-container-id-14 input.sk-hidden--visually {border: 0;clip: rect(1px 1px 1px 1px);clip: rect(1px, 1px, 1px, 1px);height: 1px;margin: -1px;overflow: hidden;padding: 0;position: absolute;width: 1px;}#sk-container-id-14 div.sk-estimator {font-family: monospace;background-color: #f0f8ff;border: 1px dotted black;border-radius: 0.25em;box-sizing: border-box;margin-bottom: 0.5em;}#sk-container-id-14 div.sk-estimator:hover {background-color: #d4ebff;}#sk-container-id-14 div.sk-parallel-item::after {content: \"\";width: 100%;border-bottom: 1px solid gray;flex-grow: 1;}#sk-container-id-14 div.sk-label:hover label.sk-toggleable__label {background-color: #d4ebff;}#sk-container-id-14 div.sk-serial::before {content: \"\";position: absolute;border-left: 1px solid gray;box-sizing: border-box;top: 0;bottom: 0;left: 50%;z-index: 0;}#sk-container-id-14 div.sk-serial {display: flex;flex-direction: column;align-items: center;background-color: white;padding-right: 0.2em;padding-left: 0.2em;position: relative;}#sk-container-id-14 div.sk-item {position: relative;z-index: 1;}#sk-container-id-14 div.sk-parallel {display: flex;align-items: stretch;justify-content: center;background-color: white;position: relative;}#sk-container-id-14 div.sk-item::before, #sk-container-id-14 div.sk-parallel-item::before {content: \"\";position: absolute;border-left: 1px solid gray;box-sizing: border-box;top: 0;bottom: 0;left: 50%;z-index: -1;}#sk-container-id-14 div.sk-parallel-item {display: flex;flex-direction: column;z-index: 1;position: relative;background-color: white;}#sk-container-id-14 div.sk-parallel-item:first-child::after {align-self: flex-end;width: 50%;}#sk-container-id-14 div.sk-parallel-item:last-child::after {align-self: flex-start;width: 50%;}#sk-container-id-14 div.sk-parallel-item:only-child::after {width: 0;}#sk-container-id-14 div.sk-dashed-wrapped {border: 1px dashed gray;margin: 0 0.4em 0.5em 0.4em;box-sizing: border-box;padding-bottom: 0.4em;background-color: white;}#sk-container-id-14 div.sk-label label {font-family: monospace;font-weight: bold;display: inline-block;line-height: 1.2em;}#sk-container-id-14 div.sk-label-container {text-align: center;}#sk-container-id-14 div.sk-container {/* jupyter's `normalize.less` sets `[hidden] { display: none; }` but bootstrap.min.css set `[hidden] { display: none !important; }` so we also need the `!important` here to be able to override the default hidden behavior on the sphinx rendered scikit-learn.org. See: https://github.com/scikit-learn/scikit-learn/issues/21755 */display: inline-block !important;position: relative;}#sk-container-id-14 div.sk-text-repr-fallback {display: none;}</style><div id=\"sk-container-id-14\" class=\"sk-top-container\"><div class=\"sk-text-repr-fallback\"><pre>RandomForestClassifier(random_state=42)</pre><b>In a Jupyter environment, please rerun this cell to show the HTML representation or trust the notebook. <br />On GitHub, the HTML representation is unable to render, please try loading this page with nbviewer.org.</b></div><div class=\"sk-container\" hidden><div class=\"sk-item\"><div class=\"sk-estimator sk-toggleable\"><input class=\"sk-toggleable__control sk-hidden--visually\" id=\"sk-estimator-id-14\" type=\"checkbox\" checked><label for=\"sk-estimator-id-14\" class=\"sk-toggleable__label sk-toggleable__label-arrow\">RandomForestClassifier</label><div class=\"sk-toggleable__content\"><pre>RandomForestClassifier(random_state=42)</pre></div></div></div></div></div>"
      ],
      "text/plain": [
       "RandomForestClassifier(random_state=42)"
      ]
     },
     "execution_count": 119,
     "metadata": {},
     "output_type": "execute_result"
    }
   ],
   "source": [
    "rg_rf = RandomForestClassifier(n_estimators=100, random_state=42)\n",
    "rg_rf.fit(rg_x_train,rg_y_train)"
   ]
  },
  {
   "cell_type": "code",
   "execution_count": 120,
   "id": "0d9d284c",
   "metadata": {},
   "outputs": [
    {
     "data": {
      "text/plain": [
       "array([0., 0., 0., 0., 0., 0., 0., 0., 0., 0., 0., 0., 0., 0., 0., 0., 0.,\n",
       "       0., 0., 0., 0., 0., 0., 0., 0., 0., 0., 0., 1., 0., 0., 0., 0., 0.,\n",
       "       0., 0., 0., 0., 0., 0., 0., 0., 0., 0., 0., 0., 0., 0., 0., 0., 0.,\n",
       "       0., 0., 0., 0., 0., 0., 0., 0., 0., 0., 0., 0., 0., 0., 1., 0., 0.,\n",
       "       0., 0., 0., 0., 0., 0., 0., 0., 0., 0., 0., 0., 0., 0., 0., 0., 0.,\n",
       "       1., 0., 0., 0., 0., 0., 0., 0., 0., 0., 0., 0., 0., 0., 0., 0., 0.,\n",
       "       0., 0., 0., 0., 0., 0., 0., 0., 0., 0., 0., 0., 0., 0., 0., 0., 1.,\n",
       "       0., 0., 0., 0., 0., 0., 0., 0., 0., 0., 0., 0., 0., 0., 0., 0., 0.,\n",
       "       0., 0., 0., 0., 1., 0., 0., 0., 0., 0., 0., 0., 0., 0., 0., 0., 0.,\n",
       "       0., 0., 0., 0., 0., 0., 0., 0., 0., 0., 0., 0., 0., 0., 0., 0., 0.,\n",
       "       0., 0., 0., 0., 0., 0., 0., 0., 0., 0., 0., 0., 0., 1., 0., 0., 0.,\n",
       "       0., 0., 0., 0., 1., 0., 0., 0., 0., 0., 0., 0., 0., 0., 0., 0., 0.,\n",
       "       0., 0., 0., 0., 0., 0., 0., 0., 0., 0., 0., 0., 0., 0., 0., 0., 0.,\n",
       "       0., 0., 0., 0., 0., 0., 0., 0., 0., 0., 0., 0., 0., 0., 0., 0., 0.,\n",
       "       0., 0., 0., 0., 0., 0., 0., 0., 0., 0., 0., 0., 1., 0., 0., 0., 0.,\n",
       "       0., 0., 0.])"
      ]
     },
     "execution_count": 120,
     "metadata": {},
     "output_type": "execute_result"
    }
   ],
   "source": [
    "rg_rf_pred = rg_rf.predict(rg_x_test)\n",
    "rg_rf_pred"
   ]
  },
  {
   "cell_type": "code",
   "execution_count": 121,
   "id": "68e6382c",
   "metadata": {},
   "outputs": [
    {
     "name": "stdout",
     "output_type": "stream",
     "text": [
      "Training Score :  0.9987046632124352\n",
      "Testing Score  :  0.7015503875968992\n"
     ]
    }
   ],
   "source": [
    "print(\"Training Score : \",rg_rf.score(rg_x_train,rg_y_train))\n",
    "print(\"Testing Score  : \",rg_rf.score(rg_x_test,rg_y_test))"
   ]
  },
  {
   "cell_type": "code",
   "execution_count": 122,
   "id": "bc5f87f2",
   "metadata": {},
   "outputs": [
    {
     "name": "stdout",
     "output_type": "stream",
     "text": [
      "Accuracy by rf  :  0.7015503875968992\n",
      "Precision by rf :  0.7855\n",
      "Recall by rf    :  0.5393115318416524\n",
      "F1 score by rf  :  0.4863348416289593\n"
     ]
    }
   ],
   "source": [
    "rg_rf_acc = accuracy_score(rg_y_test,rg_rf_pred)\n",
    "rg_rf_pr  = precision_score(rg_y_test,rg_rf_pred,average='macro')\n",
    "rg_rf_rec = recall_score(rg_y_test,rg_rf_pred,average='macro')\n",
    "rg_rf_f1  = f1_score(rg_y_test,rg_rf_pred,average='macro')\n",
    "print('Accuracy by rf  : ', rg_rf_acc)\n",
    "print('Precision by rf : ', rg_rf_pr)\n",
    "print('Recall by rf    : ', rg_rf_rec)\n",
    "print('F1 score by rf  : ', rg_rf_f1)"
   ]
  },
  {
   "cell_type": "code",
   "execution_count": 123,
   "id": "3b8bc626",
   "metadata": {},
   "outputs": [
    {
     "name": "stdout",
     "output_type": "stream",
     "text": [
      "[[174   1]\n",
      " [ 76   7]]\n",
      "              precision    recall  f1-score   support\n",
      "\n",
      "         0.0       0.70      0.99      0.82       175\n",
      "         1.0       0.88      0.08      0.15        83\n",
      "\n",
      "    accuracy                           0.70       258\n",
      "   macro avg       0.79      0.54      0.49       258\n",
      "weighted avg       0.75      0.70      0.60       258\n",
      "\n"
     ]
    }
   ],
   "source": [
    "print(confusion_matrix(rg_y_test,rg_rf_pred))\n",
    "print(classification_report(rg_y_test,rg_rf_pred))"
   ]
  },
  {
   "cell_type": "code",
   "execution_count": null,
   "id": "89e31b63",
   "metadata": {},
   "outputs": [],
   "source": []
  },
  {
   "cell_type": "markdown",
   "id": "729c3c54",
   "metadata": {},
   "source": [
    "# Model Selection"
   ]
  },
  {
   "cell_type": "markdown",
   "id": "29405ac7",
   "metadata": {},
   "source": [
    "## MODI"
   ]
  },
  {
   "cell_type": "code",
   "execution_count": 124,
   "id": "1a4dd728",
   "metadata": {},
   "outputs": [
    {
     "data": {
      "text/html": [
       "<div>\n",
       "<style scoped>\n",
       "    .dataframe tbody tr th:only-of-type {\n",
       "        vertical-align: middle;\n",
       "    }\n",
       "\n",
       "    .dataframe tbody tr th {\n",
       "        vertical-align: top;\n",
       "    }\n",
       "\n",
       "    .dataframe thead th {\n",
       "        text-align: right;\n",
       "    }\n",
       "</style>\n",
       "<table border=\"1\" class=\"dataframe\">\n",
       "  <thead>\n",
       "    <tr style=\"text-align: right;\">\n",
       "      <th></th>\n",
       "      <th>Accuracy</th>\n",
       "      <th>Precision (mean)</th>\n",
       "      <th>Recall (mean)</th>\n",
       "      <th>F1-Score (mean)</th>\n",
       "    </tr>\n",
       "  </thead>\n",
       "  <tbody>\n",
       "    <tr>\n",
       "      <th>Multinomial Navies Bayes</th>\n",
       "      <td>0.636719</td>\n",
       "      <td>0.763008</td>\n",
       "      <td>0.541329</td>\n",
       "      <td>0.465121</td>\n",
       "    </tr>\n",
       "    <tr>\n",
       "      <th>Gaussian Navies Bayes</th>\n",
       "      <td>0.632812</td>\n",
       "      <td>0.609235</td>\n",
       "      <td>0.600192</td>\n",
       "      <td>0.601273</td>\n",
       "    </tr>\n",
       "    <tr>\n",
       "      <th>Logistic Regression</th>\n",
       "      <td>0.652344</td>\n",
       "      <td>0.817623</td>\n",
       "      <td>0.559406</td>\n",
       "      <td>0.494666</td>\n",
       "    </tr>\n",
       "    <tr>\n",
       "      <th>K-NearestNeighbors</th>\n",
       "      <td>0.644531</td>\n",
       "      <td>0.622785</td>\n",
       "      <td>0.613318</td>\n",
       "      <td>0.614910</td>\n",
       "    </tr>\n",
       "    <tr>\n",
       "      <th>Support Vector Machine</th>\n",
       "      <td>0.679688</td>\n",
       "      <td>0.705896</td>\n",
       "      <td>0.611306</td>\n",
       "      <td>0.596928</td>\n",
       "    </tr>\n",
       "    <tr>\n",
       "      <th>Decision Tree</th>\n",
       "      <td>0.675781</td>\n",
       "      <td>0.661060</td>\n",
       "      <td>0.633951</td>\n",
       "      <td>0.635609</td>\n",
       "    </tr>\n",
       "    <tr>\n",
       "      <th>Random Forest</th>\n",
       "      <td>0.703125</td>\n",
       "      <td>0.777959</td>\n",
       "      <td>0.630661</td>\n",
       "      <td>0.615889</td>\n",
       "    </tr>\n",
       "  </tbody>\n",
       "</table>\n",
       "</div>"
      ],
      "text/plain": [
       "                          Accuracy  Precision (mean)  Recall (mean)  \\\n",
       "Multinomial Navies Bayes  0.636719          0.763008       0.541329   \n",
       "Gaussian Navies Bayes     0.632812          0.609235       0.600192   \n",
       "Logistic Regression       0.652344          0.817623       0.559406   \n",
       "K-NearestNeighbors        0.644531          0.622785       0.613318   \n",
       "Support Vector Machine    0.679688          0.705896       0.611306   \n",
       "Decision Tree             0.675781          0.661060       0.633951   \n",
       "Random Forest             0.703125          0.777959       0.630661   \n",
       "\n",
       "                          F1-Score (mean)  \n",
       "Multinomial Navies Bayes         0.465121  \n",
       "Gaussian Navies Bayes            0.601273  \n",
       "Logistic Regression              0.494666  \n",
       "K-NearestNeighbors               0.614910  \n",
       "Support Vector Machine           0.596928  \n",
       "Decision Tree                    0.635609  \n",
       "Random Forest                    0.615889  "
      ]
     },
     "execution_count": 124,
     "metadata": {},
     "output_type": "execute_result"
    }
   ],
   "source": [
    "modi_x1 = {'Accuracy':[modi_mnb_acc,modi_gnb_acc,modi_lr_acc,modi_knn_acc,\n",
    "                       modi_svm_acc,modi_dt_acc,modi_rf_acc],\n",
    "      'Precision (mean)':[modi_mnb_pr,modi_gnb_pr,modi_lr_pr,modi_knn_pr,\n",
    "                         modi_svm_pr,modi_dt_pr,modi_rf_pr],\n",
    "      'Recall (mean)':[modi_mnb_rec,modi_gnb_rec,modi_lr_rec,modi_knn_rec,\n",
    "                       modi_svm_rec,modi_dt_rec,modi_rf_rec],\n",
    "      'F1-Score (mean)':[modi_mnb_f1,modi_gnb_f1,modi_lr_f1,modi_knn_f1,\n",
    "                        modi_svm_f1,modi_dt_f1,modi_rf_f1]}\n",
    "modi_x2 = ['Multinomial Navies Bayes','Gaussian Navies Bayes','Logistic Regression',\n",
    "           'K-NearestNeighbors','Support Vector Machine','Decision Tree','Random Forest']\n",
    "modi_df = pd.DataFrame(modi_x1,modi_x2)\n",
    "modi_df"
   ]
  },
  {
   "cell_type": "code",
   "execution_count": 125,
   "id": "b95d2d4c",
   "metadata": {},
   "outputs": [
    {
     "data": {
      "image/png": "[encoded data removed]",
      "text/plain": [
       "<Figure size 640x480 with 1 Axes>"
      ]
     },
     "metadata": {},
     "output_type": "display_data"
    }
   ],
   "source": [
    "plt.bar(x=['MNB','GNB','LR','KNN','SVM','DT','RF'],\n",
    "        height=[modi_mnb_acc,modi_gnb_acc,modi_lr_acc,modi_knn_acc,\n",
    "                modi_svm_acc,modi_dt_acc,modi_rf_acc])\n",
    "plt.xlabel(\"Algorithm\")\n",
    "plt.ylabel(\"ACCURACY\")\n",
    "plt.title(\"MODI\")\n",
    "plt.grid()\n",
    "plt.show()"
   ]
  },
  {
   "cell_type": "markdown",
   "id": "9f004a69",
   "metadata": {},
   "source": [
    "## Rahul Gandhi"
   ]
  },
  {
   "cell_type": "code",
   "execution_count": 126,
   "id": "8abe2d85",
   "metadata": {},
   "outputs": [
    {
     "data": {
      "text/html": [
       "<div>\n",
       "<style scoped>\n",
       "    .dataframe tbody tr th:only-of-type {\n",
       "        vertical-align: middle;\n",
       "    }\n",
       "\n",
       "    .dataframe tbody tr th {\n",
       "        vertical-align: top;\n",
       "    }\n",
       "\n",
       "    .dataframe thead th {\n",
       "        text-align: right;\n",
       "    }\n",
       "</style>\n",
       "<table border=\"1\" class=\"dataframe\">\n",
       "  <thead>\n",
       "    <tr style=\"text-align: right;\">\n",
       "      <th></th>\n",
       "      <th>Accuracy</th>\n",
       "      <th>Precision (mean)</th>\n",
       "      <th>Recall (mean)</th>\n",
       "      <th>F1-Score (mean)</th>\n",
       "    </tr>\n",
       "  </thead>\n",
       "  <tbody>\n",
       "    <tr>\n",
       "      <th>Multinomial Navies Bayes</th>\n",
       "      <td>0.682171</td>\n",
       "      <td>0.840467</td>\n",
       "      <td>0.506024</td>\n",
       "      <td>0.416997</td>\n",
       "    </tr>\n",
       "    <tr>\n",
       "      <th>Gaussian Navies Bayes</th>\n",
       "      <td>0.647287</td>\n",
       "      <td>0.568246</td>\n",
       "      <td>0.553150</td>\n",
       "      <td>0.551972</td>\n",
       "    </tr>\n",
       "    <tr>\n",
       "      <th>Logistic Regression</th>\n",
       "      <td>0.686047</td>\n",
       "      <td>0.841797</td>\n",
       "      <td>0.512048</td>\n",
       "      <td>0.429562</td>\n",
       "    </tr>\n",
       "    <tr>\n",
       "      <th>K-NearestNeighbors</th>\n",
       "      <td>0.713178</td>\n",
       "      <td>0.671237</td>\n",
       "      <td>0.604888</td>\n",
       "      <td>0.607225</td>\n",
       "    </tr>\n",
       "    <tr>\n",
       "      <th>Support Vector Machine</th>\n",
       "      <td>0.686047</td>\n",
       "      <td>0.620524</td>\n",
       "      <td>0.550052</td>\n",
       "      <td>0.528932</td>\n",
       "    </tr>\n",
       "    <tr>\n",
       "      <th>Decision Tree</th>\n",
       "      <td>0.581395</td>\n",
       "      <td>0.478239</td>\n",
       "      <td>0.482410</td>\n",
       "      <td>0.475333</td>\n",
       "    </tr>\n",
       "    <tr>\n",
       "      <th>Random Forest</th>\n",
       "      <td>0.701550</td>\n",
       "      <td>0.785500</td>\n",
       "      <td>0.539312</td>\n",
       "      <td>0.486335</td>\n",
       "    </tr>\n",
       "  </tbody>\n",
       "</table>\n",
       "</div>"
      ],
      "text/plain": [
       "                          Accuracy  Precision (mean)  Recall (mean)  \\\n",
       "Multinomial Navies Bayes  0.682171          0.840467       0.506024   \n",
       "Gaussian Navies Bayes     0.647287          0.568246       0.553150   \n",
       "Logistic Regression       0.686047          0.841797       0.512048   \n",
       "K-NearestNeighbors        0.713178          0.671237       0.604888   \n",
       "Support Vector Machine    0.686047          0.620524       0.550052   \n",
       "Decision Tree             0.581395          0.478239       0.482410   \n",
       "Random Forest             0.701550          0.785500       0.539312   \n",
       "\n",
       "                          F1-Score (mean)  \n",
       "Multinomial Navies Bayes         0.416997  \n",
       "Gaussian Navies Bayes            0.551972  \n",
       "Logistic Regression              0.429562  \n",
       "K-NearestNeighbors               0.607225  \n",
       "Support Vector Machine           0.528932  \n",
       "Decision Tree                    0.475333  \n",
       "Random Forest                    0.486335  "
      ]
     },
     "execution_count": 126,
     "metadata": {},
     "output_type": "execute_result"
    }
   ],
   "source": [
    "rg_x1 = {'Accuracy':[rg_mnb_acc,rg_gnb_acc,rg_lr_acc,rg_knn_acc,\n",
    "                       rg_svm_acc,rg_dt_acc,rg_rf_acc],\n",
    "      'Precision (mean)':[rg_mnb_pr,rg_gnb_pr,rg_lr_pr,rg_knn_pr,\n",
    "                         rg_svm_pr,rg_dt_pr,rg_rf_pr],\n",
    "      'Recall (mean)':[rg_mnb_rec,rg_gnb_rec,rg_lr_rec,rg_knn_rec,\n",
    "                       rg_svm_rec,rg_dt_rec,rg_rf_rec],\n",
    "      'F1-Score (mean)':[rg_mnb_f1,rg_gnb_f1,rg_lr_f1,rg_knn_f1,\n",
    "                        rg_svm_f1,rg_dt_f1,rg_rf_f1]}\n",
    "rg_x2 = ['Multinomial Navies Bayes','Gaussian Navies Bayes','Logistic Regression',\n",
    "           'K-NearestNeighbors','Support Vector Machine','Decision Tree','Random Forest']\n",
    "rg_df = pd.DataFrame(rg_x1,rg_x2)\n",
    "rg_df"
   ]
  },
  {
   "cell_type": "code",
   "execution_count": 127,
   "id": "8b51c553",
   "metadata": {},
   "outputs": [
    {
     "data": {
      "image/png": "[encoded data removed]",
      "text/plain": [
       "<Figure size 640x480 with 1 Axes>"
      ]
     },
     "metadata": {},
     "output_type": "display_data"
    }
   ],
   "source": [
    "plt.bar(x=['MNB','GNB','LR','KNN','SVM','DT','RF'],height=[rg_mnb_acc,rg_gnb_acc,rg_lr_acc,rg_knn_acc,\n",
    "                                            rg_svm_acc,rg_dt_acc,rg_rf_acc])\n",
    "plt.xlabel(\"Algorithm\")\n",
    "plt.ylabel(\"ACCURACY\")\n",
    "plt.title(\"Rahul Gandhi\")\n",
    "plt.grid()\n",
    "plt.show()"
   ]
  },
  {
   "cell_type": "markdown",
   "id": "02081326",
   "metadata": {},
   "source": [
    "By observing the graphs which was plotted between Multinomial Navies Bayes, Gaussian Navies Bayes, \n",
    "Logistic Regression,K-Nearest Negibours algorithms, Support Vector machine, Decision Tree, Random Forest and there resepective algoritms, concluding that Random Forest is best for Modi and K- Nearest Negibours for Rahul Gandhi data set"
   ]
  },
  {
   "cell_type": "markdown",
   "id": "0968102f",
   "metadata": {},
   "source": [
    "# TESTING"
   ]
  },
  {
   "cell_type": "code",
   "execution_count": 128,
   "id": "20bccef1",
   "metadata": {},
   "outputs": [],
   "source": [
    "modi_test = pd.read_csv(r\"C:\\Users\\hp\\Documents\\nlp\\tweetsModi.csv\")\n",
    "rg_test = pd.read_csv(r\"C:\\Users\\hp\\Documents\\nlp\\tweetsRG.csv\")"
   ]
  },
  {
   "cell_type": "code",
   "execution_count": 129,
   "id": "10cd839a",
   "metadata": {},
   "outputs": [
    {
     "name": "stdout",
     "output_type": "stream",
     "text": [
      "   Unnamed: 0                       Date          User  \\\n",
      "0           0  2019-05-12 01:17:12+00:00  narendramodi   \n",
      "1           1  2019-05-09 02:00:26+00:00  narendramodi   \n",
      "2           2  2019-05-08 13:41:51+00:00  narendramodi   \n",
      "3           3  2019-05-06 01:18:46+00:00  narendramodi   \n",
      "4           4  2019-04-29 01:18:03+00:00  narendramodi   \n",
      "\n",
      "                                               Tweet  \n",
      "0  Yet another phase of the 2019 Lok Sabha electi...  \n",
      "1  Will be addressing five rallies today. \\n\\nLoo...  \n",
      "2  Delhi has always given great love and affectio...  \n",
      "3  Requesting all those voting in today’s fifth p...  \n",
      "4  Another phase of the General Elections begins ...  \n",
      "   Unnamed: 0                       Date         User  \\\n",
      "0           0  2019-05-18 06:59:40+00:00  RahulGandhi   \n",
      "1           1  2019-05-17 12:39:41+00:00  RahulGandhi   \n",
      "2           2  2019-05-14 10:11:18+00:00  RahulGandhi   \n",
      "3           3  2019-05-09 16:01:12+00:00  RahulGandhi   \n",
      "4           4  2019-05-05 05:45:31+00:00  RahulGandhi   \n",
      "\n",
      "                                               Tweet  \n",
      "0  Greetings &amp; Best Wishes on the auspicious ...  \n",
      "1  Congratulations Modi Ji. Excellent Press Confe...  \n",
      "2  🇮🇳 🇮🇳 🇮🇳 I'm pushing for a new language in pol...  \n",
      "3  Dear Mr Modi,\\n\\nYour recent statements, inter...  \n",
      "4  Modi Ji,\\n\\nThe battle is over. Your Karma awa...  \n"
     ]
    }
   ],
   "source": [
    "print(modi_test.head(5))\n",
    "print(rg_test.head(5))"
   ]
  },
  {
   "cell_type": "code",
   "execution_count": null,
   "id": "d56e25eb",
   "metadata": {},
   "outputs": [],
   "source": [
    "modi_test.isnull().sum()"
   ]
  },
  {
   "cell_type": "code",
   "execution_count": 130,
   "id": "4efd84ee",
   "metadata": {},
   "outputs": [
    {
     "data": {
      "text/plain": [
       "Unnamed: 0    0\n",
       "Date          0\n",
       "User          0\n",
       "Tweet         0\n",
       "dtype: int64"
      ]
     },
     "execution_count": 130,
     "metadata": {},
     "output_type": "execute_result"
    }
   ],
   "source": [
    "rg_test.isnull().sum()"
   ]
  },
  {
   "cell_type": "code",
   "execution_count": 131,
   "id": "5ef1f0f2",
   "metadata": {},
   "outputs": [
    {
     "data": {
      "text/plain": [
       "0"
      ]
     },
     "execution_count": 131,
     "metadata": {},
     "output_type": "execute_result"
    }
   ],
   "source": [
    "modi_test['Tweet'].duplicated().sum()"
   ]
  },
  {
   "cell_type": "code",
   "execution_count": 132,
   "id": "ec588c8d",
   "metadata": {},
   "outputs": [
    {
     "data": {
      "text/plain": [
       "0"
      ]
     },
     "execution_count": 132,
     "metadata": {},
     "output_type": "execute_result"
    }
   ],
   "source": [
    "rg_test['Tweet'].duplicated().sum()"
   ]
  },
  {
   "cell_type": "code",
   "execution_count": 133,
   "id": "1b4f213a",
   "metadata": {},
   "outputs": [],
   "source": [
    "def pre_processing(tweets):\n",
    "    processed_tweets = []\n",
    "    for i in tweets:\n",
    "        p = re.sub(r'http\\S+|www\\S+|@\\w+', ' ', i)      #removing links and mentions\n",
    "        p = re.sub(r'[^A-Za-z]',' ',p)                  #removing special characters and numbers\n",
    "        p = p.lower()                                   #lowercasing\n",
    "        p = word_tokenize(p)                            #tokenization\n",
    "        p = [i for i in p if i not in sw]               #removing stopwords\n",
    "        p = [lm.lemmatize(i) for i in p]                #lemmatization\n",
    "        p = ' '.join(p)\n",
    "        processed_tweets.append(p)\n",
    "    return processed_tweets"
   ]
  },
  {
   "cell_type": "code",
   "execution_count": 134,
   "id": "1e7ccce1",
   "metadata": {},
   "outputs": [],
   "source": [
    "modi_pre_tweets = pre_processing(modi_test['Tweet'])\n",
    "rg_pre_tweets = pre_processing(rg_test['Tweet'])"
   ]
  },
  {
   "cell_type": "markdown",
   "id": "77ff3fd9",
   "metadata": {},
   "source": [
    "### MODI"
   ]
  },
  {
   "cell_type": "code",
   "execution_count": 135,
   "id": "915abde2",
   "metadata": {},
   "outputs": [
    {
     "name": "stdout",
     "output_type": "stream",
     "text": [
      "[[0.         0.         0.         ... 0.21773422 0.         0.        ]\n",
      " [0.         0.         0.         ... 0.         0.         0.        ]\n",
      " [0.         0.         0.         ... 0.         0.         0.        ]\n",
      " ...\n",
      " [0.         0.         0.         ... 0.         0.         0.        ]\n",
      " [0.         0.         0.         ... 0.         0.         0.        ]\n",
      " [0.         0.         0.         ... 0.         0.         0.        ]]\n"
     ]
    }
   ],
   "source": [
    "tf_idf = TfidfVectorizer()\n",
    "modi_test_features = tf_idf.fit_transform(modi_pre_tweets).toarray()\n",
    "print(modi_test_features)"
   ]
  },
  {
   "cell_type": "code",
   "execution_count": 136,
   "id": "faede72f",
   "metadata": {},
   "outputs": [],
   "source": [
    "import numpy as np"
   ]
  },
  {
   "cell_type": "code",
   "execution_count": 137,
   "id": "e7b0dbec",
   "metadata": {},
   "outputs": [
    {
     "name": "stdout",
     "output_type": "stream",
     "text": [
      "(0, 4677)\n"
     ]
    },
    {
     "data": {
      "text/plain": [
       "array([[0., 0., 0., ..., 0., 0., 0.],\n",
       "       [0., 0., 0., ..., 0., 0., 0.],\n",
       "       [0., 0., 0., ..., 0., 0., 0.],\n",
       "       ...,\n",
       "       [0., 0., 0., ..., 0., 0., 0.],\n",
       "       [0., 0., 0., ..., 0., 0., 0.],\n",
       "       [0., 0., 0., ..., 0., 0., 0.]])"
      ]
     },
     "execution_count": 137,
     "metadata": {},
     "output_type": "execute_result"
    }
   ],
   "source": [
    "modi_le = modi_features[0].shape\n",
    "modi_re = np.empty((0,modi_le[0]), float)\n",
    "print(modi_re.shape)\n",
    "for i in modi_test_features:\n",
    "    zeros_array = np.zeros(modi_le[0] - modi_test_features[0].shape[0])\n",
    "    lolo = np.concatenate((i, zeros_array))\n",
    "    modi_re = np.vstack((modi_re, lolo))\n",
    "modi_re"
   ]
  },
  {
   "cell_type": "code",
   "execution_count": 138,
   "id": "e4214a81",
   "metadata": {},
   "outputs": [
    {
     "data": {
      "text/plain": [
       "(65, 4677)"
      ]
     },
     "execution_count": 138,
     "metadata": {},
     "output_type": "execute_result"
    }
   ],
   "source": [
    "modi_re.shape"
   ]
  },
  {
   "cell_type": "code",
   "execution_count": 139,
   "id": "fbca83f8",
   "metadata": {},
   "outputs": [],
   "source": [
    "modi_pred = []\n",
    "for i in modi_re:\n",
    "    lr = modi_lr.predict([i])\n",
    "    knn = modi_knn.predict([i])\n",
    "    if knn[0]==1.0:\n",
    "        modi_pred.append(knn[0])\n",
    "        continue\n",
    "    modi_pred.append(lr[0])\n",
    "modi_pred = np.array(modi_pred)"
   ]
  },
  {
   "cell_type": "code",
   "execution_count": 140,
   "id": "65b70ed7",
   "metadata": {},
   "outputs": [
    {
     "data": {
      "text/plain": [
       "array([1., 0., 0., 0., 0., 0., 0., 0., 1., 0., 0., 1., 0., 0., 1., 1., 0.,\n",
       "       0., 0., 0., 1., 0., 0., 0., 0., 0., 0., 1., 0., 0., 0., 1., 0., 0.,\n",
       "       0., 0., 0., 1., 0., 0., 0., 0., 0., 1., 0., 0., 0., 1., 0., 0., 0.,\n",
       "       0., 0., 1., 0., 0., 0., 0., 0., 0., 0., 0., 0., 1., 0.])"
      ]
     },
     "execution_count": 140,
     "metadata": {},
     "output_type": "execute_result"
    }
   ],
   "source": [
    "modi_pred"
   ]
  },
  {
   "cell_type": "code",
   "execution_count": 141,
   "id": "4a62721c",
   "metadata": {},
   "outputs": [],
   "source": [
    "modi_res = []\n",
    "for i in modi_pred:\n",
    "    if i==0.0:\n",
    "        modi_res.append('neg')\n",
    "    else:\n",
    "        modi_res.append('pos')\n",
    "modi_test['predicted_emotion'] = modi_res"
   ]
  },
  {
   "cell_type": "code",
   "execution_count": 142,
   "id": "02f6d82a",
   "metadata": {},
   "outputs": [
    {
     "name": "stdout",
     "output_type": "stream",
     "text": [
      "0    pos\n",
      "1    neg\n",
      "2    neg\n",
      "3    neg\n",
      "4    neg\n",
      "5    neg\n",
      "6    neg\n",
      "7    neg\n",
      "8    pos\n",
      "9    neg\n",
      "Name: predicted_emotion, dtype: object\n"
     ]
    }
   ],
   "source": [
    "print(modi_test['predicted_emotion'][:10])"
   ]
  },
  {
   "cell_type": "code",
   "execution_count": 143,
   "id": "bb52dadb",
   "metadata": {},
   "outputs": [],
   "source": [
    "modi_test.to_csv(r\"C:\\Users\\hp\\Documents\\nlp\\modi_predicted.csv\")"
   ]
  },
  {
   "cell_type": "markdown",
   "id": "81ada8fd",
   "metadata": {},
   "source": [
    "### Rahul Gandhi"
   ]
  },
  {
   "cell_type": "code",
   "execution_count": 144,
   "id": "7f5fad1b",
   "metadata": {},
   "outputs": [
    {
     "name": "stdout",
     "output_type": "stream",
     "text": [
      "[[0.         0.         0.         ... 0.         0.         0.        ]\n",
      " [0.         0.         0.         ... 0.         0.         0.        ]\n",
      " [0.         0.         0.         ... 0.         0.         0.        ]\n",
      " ...\n",
      " [0.         0.         0.         ... 0.         0.         0.        ]\n",
      " [0.17833726 0.         0.         ... 0.         0.         0.        ]\n",
      " [0.         0.         0.         ... 0.         0.         0.        ]]\n"
     ]
    }
   ],
   "source": [
    "rg_test_features = tf_idf.fit_transform(rg_pre_tweets).toarray()\n",
    "print(rg_test_features)"
   ]
  },
  {
   "cell_type": "code",
   "execution_count": 145,
   "id": "00fe4b01",
   "metadata": {},
   "outputs": [
    {
     "name": "stdout",
     "output_type": "stream",
     "text": [
      "(65, 4677)\n"
     ]
    },
    {
     "data": {
      "text/plain": [
       "array([[0.        , 0.        , 0.        , ..., 0.        , 0.        ,\n",
       "        0.        ],\n",
       "       [0.        , 0.        , 0.        , ..., 0.        , 0.        ,\n",
       "        0.        ],\n",
       "       [0.        , 0.        , 0.        , ..., 0.        , 0.        ,\n",
       "        0.        ],\n",
       "       ...,\n",
       "       [0.        , 0.        , 0.        , ..., 0.        , 0.        ,\n",
       "        0.        ],\n",
       "       [0.17833726, 0.        , 0.        , ..., 0.        , 0.        ,\n",
       "        0.        ],\n",
       "       [0.        , 0.        , 0.        , ..., 0.        , 0.        ,\n",
       "        0.        ]])"
      ]
     },
     "execution_count": 145,
     "metadata": {},
     "output_type": "execute_result"
    }
   ],
   "source": [
    "rg_le = rg_features[0].shape\n",
    "rg_re = np.empty((0,rg_le[0]), float)\n",
    "print(modi_re.shape)\n",
    "for i in rg_test_features:\n",
    "    zeros_array = np.zeros(rg_le[0] - rg_test_features[0].shape[0])\n",
    "    resize_rg = np.concatenate((i, zeros_array))\n",
    "    rg_re = np.vstack((rg_re, resize_rg))\n",
    "rg_re"
   ]
  },
  {
   "cell_type": "code",
   "execution_count": 146,
   "id": "25e6e92f",
   "metadata": {},
   "outputs": [
    {
     "data": {
      "text/plain": [
       "array([0., 0., 0., 0., 0., 0., 0., 0., 0., 0., 0., 0., 1., 0., 1., 0., 0.,\n",
       "       0., 0., 0., 0., 0., 0., 0., 0., 0., 0., 0., 0., 0., 0., 0., 0., 0.,\n",
       "       0., 1., 0., 1., 0., 0., 0., 0., 1., 0., 0., 0., 0., 1., 0., 0., 0.,\n",
       "       0., 0., 0., 0., 0., 0., 0., 0., 0., 0., 0., 0., 0.])"
      ]
     },
     "execution_count": 146,
     "metadata": {},
     "output_type": "execute_result"
    }
   ],
   "source": [
    "rg_pred = []\n",
    "for i in rg_re:\n",
    "    lr = rg_lr.predict([i])\n",
    "    dt = rg_dt.predict([i])\n",
    "    if dt[0]==1.0:\n",
    "        rg_pred.append(dt[0])\n",
    "        continue\n",
    "    rg_pred.append(lr[0])\n",
    "rg_pred = np.array(rg_pred)\n",
    "rg_pred"
   ]
  },
  {
   "cell_type": "code",
   "execution_count": 147,
   "id": "4eceec9c",
   "metadata": {},
   "outputs": [],
   "source": [
    "rg_res = []\n",
    "for i in rg_pred:\n",
    "    if i==0.0:\n",
    "        rg_res.append('neg')\n",
    "    else:\n",
    "        rg_res.append('pos')\n",
    "rg_test['predicted_emotion'] = rg_res"
   ]
  },
  {
   "cell_type": "code",
   "execution_count": 148,
   "id": "e9dd7d1e",
   "metadata": {},
   "outputs": [
    {
     "name": "stdout",
     "output_type": "stream",
     "text": [
      "0    neg\n",
      "1    neg\n",
      "2    neg\n",
      "3    neg\n",
      "4    neg\n",
      "5    neg\n",
      "6    neg\n",
      "7    neg\n",
      "8    neg\n",
      "9    neg\n",
      "Name: predicted_emotion, dtype: object\n"
     ]
    }
   ],
   "source": [
    "print(rg_test['predicted_emotion'][:10])"
   ]
  },
  {
   "cell_type": "code",
   "execution_count": 149,
   "id": "de7fefd7",
   "metadata": {},
   "outputs": [],
   "source": [
    "rg_test.to_csv(r\"C:\\Users\\hp\\Documents\\nlp\\rahulgandhi_predicted.csv\")"
   ]
  },
  {
   "cell_type": "code",
   "execution_count": null,
   "id": "f53aa56b",
   "metadata": {},
   "outputs": [],
   "source": []
  },
  {
   "cell_type": "code",
   "execution_count": null,
   "id": "fd7b5c36",
   "metadata": {},
   "outputs": [],
   "source": []
  },
  {
   "cell_type": "code",
   "execution_count": null,
   "id": "45a14929",
   "metadata": {},
   "outputs": [],
   "source": []
  },
  {
   "cell_type": "code",
   "execution_count": null,
   "id": "36233e7f",
   "metadata": {},
   "outputs": [],
   "source": []
  },
  {
   "cell_type": "code",
   "execution_count": null,
   "id": "55c1befd",
   "metadata": {},
   "outputs": [],
   "source": []
  },
  {
   "cell_type": "code",
   "execution_count": null,
   "id": "24d9bb87",
   "metadata": {},
   "outputs": [],
   "source": []
  },
  {
   "cell_type": "code",
   "execution_count": null,
   "id": "db90c5e0",
   "metadata": {},
   "outputs": [],
   "source": []
  }
 ],
 "metadata": {
  "kernelspec": {
   "display_name": "Python 3 (ipykernel)",
   "language": "python",
   "name": "python3"
  },
  "language_info": {
   "codemirror_mode": {
    "name": "ipython",
    "version": 3
   },
   "file_extension": ".py",
   "mimetype": "text/x-python",
   "name": "python",
   "nbconvert_exporter": "python",
   "pygments_lexer": "ipython3",
   "version": "3.11.3"
  }
 },
 "nbformat": 4,
 "nbformat_minor": 5
}
